{
 "cells": [
  {
   "cell_type": "markdown",
   "metadata": {},
   "source": [
    "# A practical guidance for Whoosh\n",
    "### By Ruowei Wang, in 2/1/2018"
   ]
  },
  {
   "cell_type": "markdown",
   "metadata": {},
   "source": [
    "Whoosh is a fast, featureful full-text indexing and searching library implemented in pure Python with detailed documentation. Programmers can use it to easily add search functionality to their applications and websites. Every part of how Whoosh works can be extended or replaced to meet your needs exactly.\n",
    "\n",
    "Some of Whoosh's features include:\n",
    "\n",
    "1.Pythonic API. \n",
    "\n",
    "2.Pure-Python and Open source. No compilation or binary packages needed, no mysterious crashes.\n",
    "\n",
    "3.Fielded indexing and search.\n",
    "\n",
    "4.Fast indexing and retrieval -- faster than any other pure-Python search solution I know of. See Benchmarks (https://bitbucket.org/mchaput/whoosh/wiki/Benchmarks).\n",
    "\n",
    "5.Pluggable scoring algorithm (including BM25F), text analysis, storage, posting format, etc.\n",
    "\n",
    "6.Powerful query language (supporting inexact search and proximity search). \n",
    "\n",
    "7.Production-quality pure Python spell-checker (as far as I know, the only one). \n",
    "   See http://whoosh.readthedocs.io/en/latest/spelling.html"
   ]
  },
  {
   "cell_type": "markdown",
   "metadata": {},
   "source": [
    "To install whoosh:\n",
    "1. if you want to use it in jupyter notebook, you could use the command ``conda install whoosh``\n",
    "2. ``easy_install Whoosh`` and ``pip install Whoosh`` also works, If you have ``setuptools`` or ``pip`` installed.\n",
    "3. Download source releases from PyPI at http://pypi.python.org/pypi/Whoosh/. Using ``hg clone http://bitbucket.org/mchaput/whoosh``."
   ]
  },
  {
   "cell_type": "markdown",
   "metadata": {},
   "source": [
    "Now let's start implementing Whoosh!"
   ]
  },
  {
   "cell_type": "code",
   "execution_count": 1,
   "metadata": {
    "collapsed": false
   },
   "outputs": [],
   "source": [
    "from whoosh.qparser import *\n",
    "from whoosh.fields import Schema, TEXT, KEYWORD, ID, STORED,NUMERIC\n",
    "from whoosh.analysis import StemmingAnalyzer,StandardAnalyzer\n",
    "from whoosh import index\n",
    "import os, os.path"
   ]
  },
  {
   "cell_type": "markdown",
   "metadata": {},
   "source": [
    "Jedes Dokument kann mehrere Felder haben, wie z. B. Titel, Inhalt, Url, Datum usw. Zunächst muss ein Schema für unseren Korpus erstellt werden, um diese Felder von Dokumenten in einem Index zu spezifizieren.\n",
    "\n",
    "Das Schema ist die Menge aller möglichen Felder in einem Dokument. Jedes einzelne Dokument verwendet möglicherweise nur eine Teilmenge der verfügbaren Felder im Schema.\n",
    "\n",
    "Anmerkung: Ohne ein Schema kann der Query Parser in Whoosh den Text in der Benutzerabfrage nicht verarbeiten (d. h. er kann keine Phrasensuche durchführen).\n",
    "\n",
    "Es folgt ein Beispiel für die Erstellung eines Schemas:"
   ]
  },
  {
   "cell_type": "code",
   "execution_count": 2,
   "metadata": {
    "collapsed": false
   },
   "outputs": [],
   "source": [
    "schema = Schema(year=NUMERIC(stored=True),\n",
    "                author=TEXT(analyzer=StandardAnalyzer(stoplist=None),stored=True),\n",
    "                title=TEXT(analyzer=StandardAnalyzer(stoplist=None),stored=True),\n",
    "                abstract=TEXT(analyzer=StandardAnalyzer(stoplist=None),stored=True),\n",
    "                body=TEXT(analyzer=StandardAnalyzer(stoplist=None)),\n",
    "                subject=KEYWORD(commas=True,scorable=True),\n",
    "                keywords=KEYWORD(commas=True, scorable=True))"
   ]
  },
  {
   "cell_type": "markdown",
   "metadata": {},
   "source": [
    "Folgende vordefinierte Feldtypen werde verwendet:\n",
    "\n",
    "1.whoosh.fields.NUMERIC:\n",
    "Dieses Feld speichert int-, long- oder Fließkommazahlen in einem kompakten, sortierbaren Format.\n",
    "\n",
    "2.whoosh.fields.TEXT:\n",
    "TEXT-Felder können den Text indizieren und Begriffspositionen speichern (standardmäßig ``TEXT(phrase=True)``), um eine Phrasensuche zu ermöglichen.\n",
    "Dieses Feld verwendet standardmäßig den ``StandardAnalyzer``. Um einen anderen Analyzer zu spezifizieren, wird das Argument ``Analyzer`` im Konstruktor verwendet, z.B. ``TEXT(analyzer=analysis.StemmingAnalyzer())``. \n",
    "Die Dokumentation der verschiedenen Analyzer wird hier angezeigt: http://whoosh.readthedocs.io/en/latest/api/analysis.html#analyzers. Der ``StandardAnalyzer`` schreibt die Wörter nur in Kleinbuchstaben und filtert sie mit einer einfachen Stopword-Liste. \n",
    "Standardmäßig werden TEXT-Felder nicht gespeichert, was bedeutet, dass der Inhalt dieses Feldes nicht im Suchergebnis angezeigt wird. Normalerweise werden Sie den Textkörper nicht im Suchindex speichern wollen, Sie können jedoch mit TEXT(stored=True) angeben, dass der Text im Index gespeichert werden soll.\n",
    "\n",
    "3.whoosh.fields.KEYWORD:\n",
    "Dieser field-type ist für durch Leerzeichen oder Kommata getrennte Schlüsselwörter gedacht. Dieser Typ ist indiziert und durchsuchbar (und optional speicherbar). Er unterstützt keine Phrasensuche.\n",
    "Um den Wert des Feldes im Index zu speichern, verwenden Sie ``stored=True`` im Konstruktor. Um die Schlüsselwörter automatisch klein zu schreiben, bevor sie indiziert werden, wird ``lowercase=True`` verwendet. Um die Schlüsselwörter durch Kommas zu trennen (um Schlüsselwörter, die Leerzeichen enthalten, zuzulassen), verwenden Sie ``commas=True``, ansonsten werden die Schlüsselwörter durch Leerzeichen getrennt. Um das Schlüsselwortfeld für die Suche zu verwenden, wird ``scorable=True`` verwendet.\n",
    "\n",
    "Anmerkung: Es gibt viele andere vordefinierte Felder, die der Benutzer auswählen kann, siehe http://whoosh.readthedocs.io/en/latest/api/fields.html#pre-made-field-types.\n",
    "\n",
    "Anmerkung: Whoosh kann ein Schema auch deklarativ mit der Basisklasse SchemaClass erstellen und die deklarative Klasse an create_in() oder create_index() anstelle einer Schema-Instanz übergeben."
   ]
  },
  {
   "cell_type": "markdown",
   "metadata": {},
   "source": [
    "Nachdem das Schema erstellt wurde, wird jedes Dokument im Korpus indiziert. In diesem Beispiel werden nur zwei Bücher \"Vom Winde verweht\" und \"Grimms Märchen\" zur Anzeige verwendet. \n",
    "Anmerkung:\n",
    "1. Indizierten Feldern muss ein Unicode-Wert übergeben werden.\n",
    "2. Das Öffnen eines Writers sperrt den Index zum Schreiben. In einer Multi-Thread- oder Multiprozess-Umgebung kann das Öffnen eines Writers einen Fehler auslösen, wenn bereits ein Writer geöffnet ist. Das erweiterte Writer-Objekt \"whoosh.writing.AsyncWriter\" und \"whoosh.writing.BufferedWriter\" kann dieses Problem lösen."
   ]
  },
  {
   "cell_type": "code",
   "execution_count": 3,
   "metadata": {
    "collapsed": true
   },
   "outputs": [],
   "source": [
    "#to create an index in a dictionary\n",
    "if not os.path.exists(\"indexdir\"):\n",
    "    os.mkdir(\"indexdir\")\n",
    "ix = index.create_in(\"indexdir\", schema)\n",
    "#open an existing index object\n",
    "ix = index.open_dir(\"indexdir\")\n",
    "#create a writer object to add documents to the index\n",
    "writer = ix.writer()\n",
    "#now we can add documents to the index\n",
    "\n",
    "abstract1=u'''It depicts the struggles of young Scarlett O'Hara, the spoiled daughter of a well-to-do plantation owner, who must use every means at her disposal to claw her way out of poverty following Sherman's destructive 'March to the Sea'. This historical novel features a Bildungsroman or coming-of-age story, with the title taken from a poem written by Ernest Dowson'''\n",
    "\n",
    "abstract2=u'''Children's and Household Tales (German: Kinder- und Hausmärchen) is a collection of fairy tales first published in 20 December 1812 by the Grimm brothers, Jacob and Wilhelm. The collection is commonly known in English as Grimms' Fairy Tales.'''\n",
    "\n",
    "writer.add_document(year=u\"1936\",\n",
    "                author=u\"Margaret Mitchell\",\n",
    "                title=u\"Gone with the wind\",\n",
    "                abstract=abstract1,\n",
    "                subject=u\"novel, love\",\n",
    "                keywords=u\"Scarlett, Rhett\")\n",
    "writer.add_document(year=u\"1812\",\n",
    "                author=u\" Jacob and Wilhelm\",\n",
    "                title=u\"Grimms' Fairy Tales\",\n",
    "                abstract=abstract2,\n",
    "                subject=u\"story, children\",\n",
    "                keywords=u\"The Frog King,  Rapunzel\")\n",
    "#close the writer and save the added documents in the index\n",
    "#you should call the commit() function once you finish adding the documents otherwise you will cause an error-\n",
    "#when you try to edit the index next time and open another writer. \n",
    "writer.commit()"
   ]
  },
  {
   "cell_type": "markdown",
   "metadata": {},
   "source": [
    "Nach der Indizierung der Dokumente kann die Abfrage aufgeschrieben und der Abfrage-String durch den QueryParser in ein Abfrageobjekt umgewandelt werden.\n",
    "\n",
    "Erstellen Sie ein whoosh.qparser.QueryParser-Objekt, übergeben Sie ihm den Namen des zu durchsuchenden Standardfelds und das Schema des zu durchsuchenden Index. \n",
    "\n",
    "Der Query-Parser ist auf modularen Plug-ins aufgebaut. Zum Beispiel gibt das ``qparser.WildcardPlugin``, das sich bereits in der Standard-Plugin-Liste des Parsers befindet, dem Parser die Möglichkeit, nach Wildcards zu suchen. Einige häufig verwendete Plug-ins werden im folgenden Code gezeigt.  \n",
    "\n",
    "Man kann das Plugins Argument beim Erzeugen des Objekts verwenden, um die Standardliste der Plug-ins zu überschreiben, und ``add_plugin()`` und/oder ``remove_plugin_class()`` verwenden, um die im Parser enthaltenen Plug-ins zu ändern. \n",
    "\n",
    "Die Liste der verfügbaren Plug-Ins ist: http://whoosh.readthedocs.io/en/latest/api/qparser.html#plug-ins.\n",
    "\n",
    "WICHTIG.... Der Query-String sollte ein Unicode-Wert sein!"
   ]
  },
  {
   "cell_type": "code",
   "execution_count": 12,
   "metadata": {
    "collapsed": false
   },
   "outputs": [
    {
     "output_type": "stream",
     "name": "stdout",
     "text": [
      "(abstract:apple AND abstract:company AND abstract:department)\n"
     ]
    }
   ],
   "source": [
    "#parsing the query\n",
    "# this is just a simple parser with default field\n",
    "parser=QueryParser(\"abstract\",schema=schema) \n",
    "#if you want “unfielded” terms to search both the title and content fields,  use a whoosh.qparser.MultifieldParser\n",
    "#parser = MultifieldParser([\"title\", \"abstract\"], schema=schema)\n",
    "#call parse() on query to parse a query string into a query object\n",
    "result=parser.parse(u\"apple company department\")\n",
    "print(result)"
   ]
  },
  {
   "cell_type": "code",
   "execution_count": 11,
   "metadata": {
    "collapsed": false
   },
   "outputs": [
    {
     "output_type": "stream",
     "name": "stdout",
     "text": [
      "(abstract:apple OR abstract:company OR abstract:department)\n"
     ]
    }
   ],
   "source": [
    "#by default, the parser treats the words as if they were connected by AND. \n",
    "#Changing the \"group\" keyword argument if you want it connencted by Or.\n",
    "# parser = MultifieldParser([\"title\", \"abstract\"], schema=schema,group=OrGroup)\n",
    "parser=QueryParser(\"abstract\",schema=schema, group=OrGroup) \n",
    "result=parser.parse(u\"apple company department\")\n",
    "print(result)"
   ]
  },
  {
   "cell_type": "code",
   "execution_count": 14,
   "metadata": {
    "collapsed": false
   },
   "outputs": [
    {
     "output_type": "stream",
     "name": "stdout",
     "text": [
      "year:[ TO 2000}\n"
     ]
    }
   ],
   "source": [
    "# you can use .add_plugin() to make the parser more powerful\n",
    "#GtLtPlugin() lets you use >, <, >=, <=, =>, or =< after a field specifier, \n",
    "#and translates the expression into the equivalent range:\n",
    "parser.add_plugin(GtLtPlugin()) \n",
    "result=parser.parse(u\"year:<2000\")\n",
    "print(result)"
   ]
  },
  {
   "cell_type": "code",
   "execution_count": 15,
   "metadata": {
    "collapsed": false
   },
   "outputs": [
    {
     "output_type": "stream",
     "name": "stdout",
     "text": [
      "author:margare~\n<Hit {'abstract': \"It depicts the struggles of young Scarlett O'Hara, the spoiled daughter of a well-to-do plantation owner, who must use every means at her disposal to claw her way out of poverty following Sherman's destructive 'March to the Sea'. This historical novel features a Bildungsroman or coming-of-age story, with the title taken from a poem written by Ernest Dowson\", 'author': 'Margaret Mitchell', 'title': 'Gone with the wind', 'year': '1936'}>\n"
     ]
    }
   ],
   "source": [
    "#FuzzyTermPlugin lets you search for “fuzzy” terms, that is, terms that don’t have to match exactly. \n",
    "#The fuzzy term will match any similar term within a certain number of “edits” \n",
    "parser.add_plugin(FuzzyTermPlugin())\n",
    "result=parser.parse(u\"author:margare~\")#would match a document has Margare and all terms in the index within one “edit” of cat, for example Margaret insert t\n",
    "print(result)\n",
    "#searcher object is used for searching the matched documents\n",
    "#you can open the searcher using a with statement so the searcher is automatically closed when you’re done with it\n",
    "#ix is the document index we created before\n",
    "with ix.searcher() as searcher:\n",
    "    results=searcher.search(result)#The Results object acts like a list of the matched documents.\n",
    "    print (results[0])"
   ]
  },
  {
   "cell_type": "code",
   "execution_count": 16,
   "metadata": {
    "collapsed": false
   },
   "outputs": [
    {
     "output_type": "stream",
     "name": "stdout",
     "text": [
      "title:\"gone the\"\n<Top 1 Results for Phrase('title', ['gone', 'the'], slop=2, boost=1.000000) runtime=0.00045420000003559835>\n"
     ]
    }
   ],
   "source": [
    "#The default phrase query tokenizes the text between the quotes and creates a search for those terms in proximity.\n",
    "# print parser.default_set()\n",
    "#use single quotation marks for the unicode string since double quotation marks are used to represent phrases here\n",
    "result=parser.parse(u'title:\"gonE the\"~2')# would match a document has wind within 2 words after gone\n",
    "print(result)\n",
    "\n",
    "with ix.searcher() as searcher:\n",
    "    results=searcher.search(result)\n",
    "    print (results)"
   ]
  },
  {
   "cell_type": "code",
   "execution_count": 17,
   "metadata": {
    "collapsed": false
   },
   "outputs": [
    {
     "output_type": "stream",
     "name": "stdout",
     "text": [
      "title:go*\n<Top 1 Results for Prefix('title', 'go') runtime=0.00029460000007475173>\n<Hit {'abstract': \"It depicts the struggles of young Scarlett O'Hara, the spoiled daughter of a well-to-do plantation owner, who must use every means at her disposal to claw her way out of poverty following Sherman's destructive 'March to the Sea'. This historical novel features a Bildungsroman or coming-of-age story, with the title taken from a poem written by Ernest Dowson\", 'author': 'Margaret Mitchell', 'title': 'Gone with the wind', 'year': '1936'}>\n"
     ]
    }
   ],
   "source": [
    "#you can use * or ? for inexact term search\n",
    "#use ? to represent a single character and * to represent any number of characters\n",
    "result=parser.parse(u'title:go*')# would match a document has wind within 2 words after gone\n",
    "print(result)\n",
    "with ix.searcher() as searcher:\n",
    "    results=searcher.search(result)\n",
    "    print (results)\n",
    "    print (results[0])"
   ]
  },
  {
   "cell_type": "code",
   "execution_count": 20,
   "metadata": {
    "collapsed": false
   },
   "outputs": [
    {
     "output_type": "stream",
     "name": "stdout",
     "text": [
      "(((abstract:child OR abstract:childr*) NEAR abstract:ho*sehold) AND title:tale*)\n<Top 1 Results for And([Sequence([Or([Term('abstract', 'child'), Prefix('abstract', 'childr')]), Wildcard('abstract', 'ho*sehold')], slop=3, boost=1.000000), Prefix('title', 'tale')]) runtime=0.0011049000000866727>\nthe position of the word pattern <tale*> in document <Grimms' Fairy Tales> is:\n[4, 14, 38]\n"
     ]
    }
   ],
   "source": [
    "#If you want to do more complex proximity searches, you can replace the phrase plugin with the whoosh.qparser.SequencePlugin.\n",
    "#It allows any query between the quotes.\n",
    "\n",
    "#remove the ability to specify phrase queries inside double quotes.\n",
    "parser.remove_plugin_class(PhrasePlugin)\n",
    "#Adds the ability to group arbitrary queries inside double quotes,\n",
    "#to produce a query matching the individual sub-queries in sequence.\n",
    "parser.add_plugin(SequencePlugin())\n",
    "#IMPORTANT!!! Not like phrase query which specify the field outside the double quotation marks,\n",
    "#you need to specify the field inside the double quotation marks for each subquery\n",
    "#the query string below represents the query 'abstract:\"(child OR childr*) ho*sehold\"~3 AND title:tales' \n",
    "result=parser.parse(u'\"abstract:(child OR childr*) abstract:ho*sehold\"~3 AND title:tale*')\n",
    "print (result)\n",
    "with ix.searcher() as searcher:\n",
    "    results=searcher.search(result)\n",
    "    print (results)\n",
    "#     print (results[0])\n",
    "    #we can get the position of a term by doing it manually\n",
    "    import re\n",
    "    for result in results:\n",
    "        analyzer=StandardAnalyzer(stoplist=None)\n",
    "        a=[(t.pos) for t in analyzer(result['abstract'],positions=True) if re.match(r\"tale*\",t.text)]\n",
    "        print (\"the position of the word pattern \"+\"<tale*> \"+\"in document <\"+result['title']+\"> is:\")\n",
    "        print (a)"
   ]
  },
  {
   "cell_type": "markdown",
   "metadata": {
    "collapsed": true
   },
   "source": [
    "### Reference:\n",
    "Whoosh documentation website. http://whoosh.readthedocs.io/en/latest/index.html"
   ]
  }
 ],
 "metadata": {
  "kernelspec": {
   "name": "python3",
   "display_name": "Python 3.9.1 64-bit ('.venv': venv)"
  },
  "language_info": {
   "codemirror_mode": {
    "name": "ipython",
    "version": 2
   },
   "file_extension": ".py",
   "mimetype": "text/x-python",
   "name": "python",
   "nbconvert_exporter": "python",
   "pygments_lexer": "ipython2",
   "version": "3.9.1"
  },
  "metadata": {
   "interpreter": {
    "hash": "3fa4fbff26baf5372c1227c893813242fd1c5dcfd93352f945b61348dd56c099"
   }
  },
  "interpreter": {
   "hash": "3fa4fbff26baf5372c1227c893813242fd1c5dcfd93352f945b61348dd56c099"
  }
 },
 "nbformat": 4,
 "nbformat_minor": 2
}