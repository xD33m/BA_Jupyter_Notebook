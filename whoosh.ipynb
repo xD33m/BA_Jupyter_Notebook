{
 "cells": [
  {
   "cell_type": "markdown",
   "source": [
    "# A practical guidance for Whoosh\n",
    "### By Ruowei Wang, in 2/1/2018"
   ],
   "metadata": {}
  },
  {
   "cell_type": "markdown",
   "source": [
    "Whoosh is a fast, featureful full-text indexing and searching library implemented in pure Python with detailed documentation. Programmers can use it to easily add search functionality to their applications and websites. Every part of how Whoosh works can be extended or replaced to meet your needs exactly.\n",
    "\n",
    "Some of Whoosh's features include:\n",
    "\n",
    "1.Pythonic API. \n",
    "\n",
    "2.Pure-Python and Open source. No compilation or binary packages needed, no mysterious crashes.\n",
    "\n",
    "3.Fielded indexing and search.\n",
    "\n",
    "4.Fast indexing and retrieval -- faster than any other pure-Python search solution I know of. See Benchmarks (https://bitbucket.org/mchaput/whoosh/wiki/Benchmarks).\n",
    "\n",
    "5.Pluggable scoring algorithm (including BM25F), text analysis, storage, posting format, etc.\n",
    "\n",
    "6.Powerful query language (supporting inexact search and proximity search). \n",
    "\n",
    "7.Production-quality pure Python spell-checker (as far as I know, the only one). \n",
    "   See http://whoosh.readthedocs.io/en/latest/spelling.html"
   ],
   "metadata": {}
  },
  {
   "cell_type": "markdown",
   "source": [
    "To install whoosh:\n",
    "1. if you want to use it in jupyter notebook, you could use the command ``conda install whoosh``\n",
    "2. ``easy_install Whoosh`` and ``pip install Whoosh`` also works, If you have ``setuptools`` or ``pip`` installed.\n",
    "3. Download source releases from PyPI at http://pypi.python.org/pypi/Whoosh/. Using ``hg clone http://bitbucket.org/mchaput/whoosh``."
   ],
   "metadata": {}
  },
  {
   "cell_type": "code",
   "execution_count": 1,
   "source": [
    "from whoosh.qparser import *\r\n",
    "from whoosh.fields import Schema, TEXT, KEYWORD, ID, STORED,NUMERIC\r\n",
    "from whoosh.analysis import StemmingAnalyzer,StandardAnalyzer, NgramTokenizer\r\n",
    "from whoosh import index\r\n",
    "import os, os.path"
   ],
   "outputs": [],
   "metadata": {
    "collapsed": false
   }
  },
  {
   "cell_type": "code",
   "execution_count": 5,
   "source": [
    "ngt = NgramTokenizer(minsize=2, maxsize=4)\r\n",
    "[token.text for token in ngt(u\"suit\")]\r\n"
   ],
   "outputs": [
    {
     "output_type": "execute_result",
     "data": {
      "text/plain": [
       "['su', 'sui', 'suit', 'ui', 'uit', 'it']"
      ]
     },
     "metadata": {},
     "execution_count": 5
    }
   ],
   "metadata": {}
  },
  {
   "cell_type": "markdown",
   "source": [
    "Jedes Dokument kann mehrere Felder haben, wie z. B. Titel, Inhalt, Url, Datum usw. Zunächst muss ein Schema für unseren Korpus erstellt werden, um diese Felder von Dokumenten in einem Index zu spezifizieren.\r\n",
    "\r\n",
    "Das Schema ist die Menge aller möglichen Felder in einem Dokument. Jedes einzelne Dokument verwendet möglicherweise nur eine Teilmenge der verfügbaren Felder im Schema.\r\n",
    "\r\n",
    "Anmerkung: Ohne ein Schema kann der Query Parser in Whoosh den Text in der Benutzerabfrage nicht verarbeiten (d. h. er kann keine Phrasensuche durchführen).\r\n",
    "\r\n",
    "Es folgt ein Beispiel für die Erstellung eines Schemas:"
   ],
   "metadata": {}
  },
  {
   "cell_type": "code",
   "execution_count": 2,
   "source": [
    "schema = Schema(year=NUMERIC(stored=True),\r\n",
    "                author=TEXT(analyzer=StandardAnalyzer(stoplist=None),stored=True),\r\n",
    "                title=TEXT(analyzer=StandardAnalyzer(stoplist=None),stored=True),\r\n",
    "                abstract=TEXT(analyzer=StandardAnalyzer(stoplist=None),stored=True),\r\n",
    "                body=TEXT(analyzer=StandardAnalyzer(stoplist=None)),\r\n",
    "                subject=KEYWORD(commas=True,scorable=True),\r\n",
    "                keywords=KEYWORD(commas=True, scorable=True))"
   ],
   "outputs": [],
   "metadata": {
    "collapsed": false
   }
  },
  {
   "cell_type": "code",
   "execution_count": null,
   "source": [],
   "outputs": [],
   "metadata": {}
  },
  {
   "cell_type": "markdown",
   "source": [
    "Folgende vordefinierte Feldtypen werde verwendet:\n",
    "\n",
    "1.whoosh.fields.NUMERIC:\n",
    "Dieses Feld speichert int-, long- oder Fließkommazahlen in einem kompakten, sortierbaren Format.\n",
    "\n",
    "2.whoosh.fields.TEXT:\n",
    "TEXT-Felder können den Text indizieren und Begriffspositionen speichern (standardmäßig ``TEXT(phrase=True)``), um eine Phrasensuche zu ermöglichen.\n",
    "Dieses Feld verwendet standardmäßig den ``StandardAnalyzer``. Um einen anderen Analyzer zu spezifizieren, wird das Argument ``Analyzer`` im Konstruktor verwendet, z.B. ``TEXT(analyzer=analysis.StemmingAnalyzer())``. \n",
    "Die Dokumentation der verschiedenen Analyzer wird hier angezeigt: http://whoosh.readthedocs.io/en/latest/api/analysis.html#analyzers. Der ``StandardAnalyzer`` schreibt die Wörter nur in Kleinbuchstaben und filtert sie mit einer einfachen Stopword-Liste. \n",
    "Standardmäßig werden TEXT-Felder nicht gespeichert, was bedeutet, dass der Inhalt dieses Feldes nicht im Suchergebnis angezeigt wird. Normalerweise werden Sie den Textkörper nicht im Suchindex speichern wollen, Sie können jedoch mit TEXT(stored=True) angeben, dass der Text im Index gespeichert werden soll.\n",
    "\n",
    "3.whoosh.fields.KEYWORD:\n",
    "Dieser field-type ist für durch Leerzeichen oder Kommata getrennte Schlüsselwörter gedacht. Dieser Typ ist indiziert und durchsuchbar (und optional speicherbar). Er unterstützt keine Phrasensuche.\n",
    "Um den Wert des Feldes im Index zu speichern, verwenden Sie ``stored=True`` im Konstruktor. Um die Schlüsselwörter automatisch klein zu schreiben, bevor sie indiziert werden, wird ``lowercase=True`` verwendet. Um die Schlüsselwörter durch Kommas zu trennen (um Schlüsselwörter, die Leerzeichen enthalten, zuzulassen), verwenden Sie ``commas=True``, ansonsten werden die Schlüsselwörter durch Leerzeichen getrennt. Um das Schlüsselwortfeld für die Suche zu verwenden, wird ``scorable=True`` verwendet.\n",
    "\n",
    "Anmerkung: Es gibt viele andere vordefinierte Felder, die der Benutzer auswählen kann, siehe http://whoosh.readthedocs.io/en/latest/api/fields.html#pre-made-field-types.\n",
    "\n",
    "Anmerkung: Whoosh kann ein Schema auch deklarativ mit der Basisklasse SchemaClass erstellen und die deklarative Klasse an create_in() oder create_index() anstelle einer Schema-Instanz übergeben."
   ],
   "metadata": {}
  },
  {
   "cell_type": "markdown",
   "source": [
    "Nachdem das Schema erstellt wurde, wird jedes Dokument im Korpus indiziert. In diesem Beispiel werden nur zwei Bücher \"Vom Winde verweht\" und \"Grimms Märchen\" zur Anzeige verwendet. \n",
    "Anmerkung:\n",
    "1. Indizierten Feldern muss ein Unicode-Wert übergeben werden.\n",
    "2. Das Öffnen eines Writers sperrt den Index zum Schreiben. In einer Multi-Thread- oder Multiprozess-Umgebung kann das Öffnen eines Writers einen Fehler auslösen, wenn bereits ein Writer geöffnet ist. Das erweiterte Writer-Objekt \"whoosh.writing.AsyncWriter\" und \"whoosh.writing.BufferedWriter\" kann dieses Problem lösen."
   ],
   "metadata": {}
  },
  {
   "cell_type": "code",
   "execution_count": 3,
   "source": [
    "#to create an index in a dictionary\r\n",
    "if not os.path.exists(\"indexdir\"):\r\n",
    "    os.mkdir(\"indexdir\")\r\n",
    "ix = index.create_in(\"indexdir\", schema)\r\n",
    "#open an existing index object\r\n",
    "ix = index.open_dir(\"indexdir\")\r\n",
    "#create a writer object to add documents to the index\r\n",
    "writer = ix.writer()\r\n",
    "#now we can add documents to the index\r\n",
    "\r\n",
    "abstract1=u'''It depicts the struggles of young Scarlett O'Hara, the spoiled daughter of a well-to-do plantation owner, who must use every means at her disposal to claw her way out of poverty following Sherman's destructive 'March to the Sea'. This historical novel features a Bildungsroman or coming-of-age story, with the title taken from a poem written by Ernest Dowson'''\r\n",
    "\r\n",
    "abstract2=u'''Children's and Household Tales (German: Kinder- und Hausmärchen) is a collection of fairy tales first published in 20 December 1812 by the Grimm brothers, Jacob and Wilhelm. The collection is commonly known in English as Grimms' Fairy Tales.'''\r\n",
    "\r\n",
    "writer.add_document(year=u\"1936\",\r\n",
    "                author=u\"Margaret Mitchell\",\r\n",
    "                title=u\"Gone with the wind\",\r\n",
    "                abstract=abstract1,\r\n",
    "                subject=u\"novel, love\",\r\n",
    "                keywords=u\"Scarlett, Rhett\")\r\n",
    "writer.add_document(year=u\"1812\",\r\n",
    "                author=u\" Jacob and Wilhelm\",\r\n",
    "                title=u\"Grimms' Fairy Tales\",\r\n",
    "                abstract=abstract2,\r\n",
    "                subject=u\"story, children\",\r\n",
    "                keywords=u\"The Frog King,  Rapunzel\")\r\n",
    "#close the writer and save the added documents in the index\r\n",
    "#you should call the commit() function once you finish adding the documents otherwise you will cause an error-\r\n",
    "#when you try to edit the index next time and open another writer. \r\n",
    "writer.commit()"
   ],
   "outputs": [],
   "metadata": {
    "collapsed": true
   }
  },
  {
   "cell_type": "markdown",
   "source": [
    "Nach der Indizierung der Dokumente kann die Abfrage aufgeschrieben und der Abfrage-String durch den QueryParser in ein Abfrageobjekt umgewandelt werden.\n",
    "\n",
    "Erstellen Sie ein whoosh.qparser.QueryParser-Objekt, übergeben Sie ihm den Namen des zu durchsuchenden Standardfelds und das Schema des zu durchsuchenden Index. \n",
    "\n",
    "Der Query-Parser ist auf modularen Plug-ins aufgebaut. Zum Beispiel gibt das ``qparser.WildcardPlugin``, das sich bereits in der Standard-Plugin-Liste des Parsers befindet, dem Parser die Möglichkeit, nach Wildcards zu suchen. Einige häufig verwendete Plug-ins werden im folgenden Code gezeigt.  \n",
    "\n",
    "Man kann das Plugins Argument beim Erzeugen des Objekts verwenden, um die Standardliste der Plug-ins zu überschreiben, und ``add_plugin()`` und/oder ``remove_plugin_class()`` verwenden, um die im Parser enthaltenen Plug-ins zu ändern. \n",
    "\n",
    "Die Liste der verfügbaren Plug-Ins ist: http://whoosh.readthedocs.io/en/latest/api/qparser.html#plug-ins.\n",
    "\n",
    "WICHTIG.... Der Query-String sollte ein Unicode-Wert sein!"
   ],
   "metadata": {}
  },
  {
   "cell_type": "code",
   "execution_count": 12,
   "source": [
    "#parsing the query\r\n",
    "# this is just a simple parser with default field\r\n",
    "parser=QueryParser(\"abstract\",schema=schema) \r\n",
    "#if you want “unfielded” terms to search both the title and content fields,  use a whoosh.qparser.MultifieldParser\r\n",
    "#parser = MultifieldParser([\"title\", \"abstract\"], schema=schema)\r\n",
    "#call parse() on query to parse a query string into a query object\r\n",
    "result=parser.parse(u\"apple company department\")\r\n",
    "print(result)"
   ],
   "outputs": [
    {
     "output_type": "stream",
     "name": "stdout",
     "text": [
      "(abstract:apple AND abstract:company AND abstract:department)\n"
     ]
    }
   ],
   "metadata": {
    "collapsed": false
   }
  },
  {
   "cell_type": "code",
   "execution_count": 11,
   "source": [
    "#by default, the parser treats the words as if they were connected by AND. \r\n",
    "#Changing the \"group\" keyword argument if you want it connencted by Or.\r\n",
    "# parser = MultifieldParser([\"title\", \"abstract\"], schema=schema,group=OrGroup)\r\n",
    "parser=QueryParser(\"abstract\",schema=schema, group=OrGroup) \r\n",
    "result=parser.parse(u\"apple company department\")\r\n",
    "print(result)"
   ],
   "outputs": [
    {
     "output_type": "stream",
     "name": "stdout",
     "text": [
      "(abstract:apple OR abstract:company OR abstract:department)\n"
     ]
    }
   ],
   "metadata": {
    "collapsed": false
   }
  },
  {
   "cell_type": "code",
   "execution_count": 14,
   "source": [
    "# you can use .add_plugin() to make the parser more powerful\r\n",
    "#GtLtPlugin() lets you use >, <, >=, <=, =>, or =< after a field specifier, \r\n",
    "#and translates the expression into the equivalent range:\r\n",
    "parser.add_plugin(GtLtPlugin()) \r\n",
    "result=parser.parse(u\"year:<2000\")\r\n",
    "print(result)"
   ],
   "outputs": [
    {
     "output_type": "stream",
     "name": "stdout",
     "text": [
      "year:[ TO 2000}\n"
     ]
    }
   ],
   "metadata": {
    "collapsed": false
   }
  },
  {
   "cell_type": "code",
   "execution_count": 15,
   "source": [
    "#FuzzyTermPlugin lets you search for “fuzzy” terms, that is, terms that don’t have to match exactly. \r\n",
    "#The fuzzy term will match any similar term within a certain number of “edits” \r\n",
    "parser.add_plugin(FuzzyTermPlugin())\r\n",
    "result=parser.parse(u\"author:margare~\")#would match a document has Margare and all terms in the index within one “edit” of cat, for example Margaret insert t\r\n",
    "print(result)\r\n",
    "#searcher object is used for searching the matched documents\r\n",
    "#you can open the searcher using a with statement so the searcher is automatically closed when you’re done with it\r\n",
    "#ix is the document index we created before\r\n",
    "with ix.searcher() as searcher:\r\n",
    "    results=searcher.search(result)#The Results object acts like a list of the matched documents.\r\n",
    "    print (results[0])"
   ],
   "outputs": [
    {
     "output_type": "stream",
     "name": "stdout",
     "text": [
      "author:margare~\n",
      "<Hit {'abstract': \"It depicts the struggles of young Scarlett O'Hara, the spoiled daughter of a well-to-do plantation owner, who must use every means at her disposal to claw her way out of poverty following Sherman's destructive 'March to the Sea'. This historical novel features a Bildungsroman or coming-of-age story, with the title taken from a poem written by Ernest Dowson\", 'author': 'Margaret Mitchell', 'title': 'Gone with the wind', 'year': '1936'}>\n"
     ]
    }
   ],
   "metadata": {
    "collapsed": false
   }
  },
  {
   "cell_type": "code",
   "execution_count": 16,
   "source": [
    "#The default phrase query tokenizes the text between the quotes and creates a search for those terms in proximity.\r\n",
    "# print parser.default_set()\r\n",
    "#use single quotation marks for the unicode string since double quotation marks are used to represent phrases here\r\n",
    "result=parser.parse(u'title:\"gonE the\"~2')# would match a document has wind within 2 words after gone\r\n",
    "print(result)\r\n",
    "\r\n",
    "with ix.searcher() as searcher:\r\n",
    "    results=searcher.search(result)\r\n",
    "    print (results)"
   ],
   "outputs": [
    {
     "output_type": "stream",
     "name": "stdout",
     "text": [
      "title:\"gone the\"\n",
      "<Top 1 Results for Phrase('title', ['gone', 'the'], slop=2, boost=1.000000) runtime=0.00045420000003559835>\n"
     ]
    }
   ],
   "metadata": {
    "collapsed": false
   }
  },
  {
   "cell_type": "code",
   "execution_count": 17,
   "source": [
    "#you can use * or ? for inexact term search\r\n",
    "#use ? to represent a single character and * to represent any number of characters\r\n",
    "result=parser.parse(u'title:go*')# would match a document has wind within 2 words after gone\r\n",
    "print(result)\r\n",
    "with ix.searcher() as searcher:\r\n",
    "    results=searcher.search(result)\r\n",
    "    print (results)\r\n",
    "    print (results[0])"
   ],
   "outputs": [
    {
     "output_type": "stream",
     "name": "stdout",
     "text": [
      "title:go*\n",
      "<Top 1 Results for Prefix('title', 'go') runtime=0.00029460000007475173>\n",
      "<Hit {'abstract': \"It depicts the struggles of young Scarlett O'Hara, the spoiled daughter of a well-to-do plantation owner, who must use every means at her disposal to claw her way out of poverty following Sherman's destructive 'March to the Sea'. This historical novel features a Bildungsroman or coming-of-age story, with the title taken from a poem written by Ernest Dowson\", 'author': 'Margaret Mitchell', 'title': 'Gone with the wind', 'year': '1936'}>\n"
     ]
    }
   ],
   "metadata": {
    "collapsed": false
   }
  },
  {
   "cell_type": "code",
   "execution_count": 20,
   "source": [
    "#If you want to do more complex proximity searches, you can replace the phrase plugin with the whoosh.qparser.SequencePlugin.\r\n",
    "#It allows any query between the quotes.\r\n",
    "\r\n",
    "#remove the ability to specify phrase queries inside double quotes.\r\n",
    "parser.remove_plugin_class(PhrasePlugin)\r\n",
    "#Adds the ability to group arbitrary queries inside double quotes,\r\n",
    "#to produce a query matching the individual sub-queries in sequence.\r\n",
    "parser.add_plugin(SequencePlugin())\r\n",
    "#IMPORTANT!!! Not like phrase query which specify the field outside the double quotation marks,\r\n",
    "#you need to specify the field inside the double quotation marks for each subquery\r\n",
    "#the query string below represents the query 'abstract:\"(child OR childr*) ho*sehold\"~3 AND title:tales' \r\n",
    "result=parser.parse(u'\"abstract:(child OR childr*) abstract:ho*sehold\"~3 AND title:tale*')\r\n",
    "print (result)\r\n",
    "with ix.searcher() as searcher:\r\n",
    "    results=searcher.search(result)\r\n",
    "    print (results)\r\n",
    "#     print (results[0])\r\n",
    "    #we can get the position of a term by doing it manually\r\n",
    "    import re\r\n",
    "    for result in results:\r\n",
    "        analyzer=StandardAnalyzer(stoplist=None)\r\n",
    "        a=[(t.pos) for t in analyzer(result['abstract'],positions=True) if re.match(r\"tale*\",t.text)]\r\n",
    "        print (\"the position of the word pattern \"+\"<tale*> \"+\"in document <\"+result['title']+\"> is:\")\r\n",
    "        print (a)"
   ],
   "outputs": [
    {
     "output_type": "stream",
     "name": "stdout",
     "text": [
      "(((abstract:child OR abstract:childr*) NEAR abstract:ho*sehold) AND title:tale*)\n",
      "<Top 1 Results for And([Sequence([Or([Term('abstract', 'child'), Prefix('abstract', 'childr')]), Wildcard('abstract', 'ho*sehold')], slop=3, boost=1.000000), Prefix('title', 'tale')]) runtime=0.0011049000000866727>\n",
      "the position of the word pattern <tale*> in document <Grimms' Fairy Tales> is:\n",
      "[4, 14, 38]\n"
     ]
    }
   ],
   "metadata": {
    "collapsed": false
   }
  },
  {
   "cell_type": "markdown",
   "source": [
    "### Reference:\n",
    "Whoosh documentation website. http://whoosh.readthedocs.io/en/latest/index.html"
   ],
   "metadata": {
    "collapsed": true
   }
  }
 ],
 "metadata": {
  "kernelspec": {
   "name": "python3",
   "display_name": "Python 3.9.1 64-bit ('.venv': venv)"
  },
  "language_info": {
   "name": "python",
   "version": "3.9.1",
   "mimetype": "text/x-python",
   "codemirror_mode": {
    "name": "ipython",
    "version": 3
   },
   "pygments_lexer": "ipython3",
   "nbconvert_exporter": "python",
   "file_extension": ".py"
  },
  "metadata": {
   "interpreter": {
    "hash": "3fa4fbff26baf5372c1227c893813242fd1c5dcfd93352f945b61348dd56c099"
   }
  },
  "interpreter": {
   "hash": "3fa4fbff26baf5372c1227c893813242fd1c5dcfd93352f945b61348dd56c099"
  }
 },
 "nbformat": 4,
 "nbformat_minor": 2
}