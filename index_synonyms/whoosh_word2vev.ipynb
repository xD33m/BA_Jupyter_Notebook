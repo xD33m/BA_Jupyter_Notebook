{
 "metadata": {
  "language_info": {
   "codemirror_mode": {
    "name": "ipython",
    "version": 3
   },
   "file_extension": ".py",
   "mimetype": "text/x-python",
   "name": "python",
   "nbconvert_exporter": "python",
   "pygments_lexer": "ipython3",
   "version": "3.9.1"
  },
  "orig_nbformat": 4,
  "kernelspec": {
   "name": "python3",
   "display_name": "Python 3.9.1  ('.venv': venv)"
  },
  "interpreter": {
   "hash": "3fa4fbff26baf5372c1227c893813242fd1c5dcfd93352f945b61348dd56c099"
  }
 },
 "nbformat": 4,
 "nbformat_minor": 2,
 "cells": [
  {
   "cell_type": "code",
   "execution_count": 1,
   "metadata": {},
   "outputs": [],
   "source": [
    "from whoosh.fields import Schema, TEXT, KEYWORD, ID, STORED, DATETIME\n",
    "from whoosh.index import create_in\n",
    "from whoosh.analysis import StemmingAnalyzer\n",
    "from whoosh.qparser import MultifieldParser\n",
    "from whoosh import scoring\n",
    "import whoosh\n",
    "import csv\n",
    "\n",
    "from gensim.models import KeyedVectors\n",
    "import numpy as np"
   ]
  },
  {
   "cell_type": "code",
   "execution_count": 2,
   "metadata": {},
   "outputs": [],
   "source": [
    "imdb_dataset_path = \"./data/IMDB-Movie-Data.csv\"\n",
    "index_path = \"./whoosh_index\"\n",
    "word2vec_model_path = 'E:/Users/Lucas xD/Downloads/GoogleNews-vectors-negative300.bin'"
   ]
  },
  {
   "cell_type": "code",
   "execution_count": 18,
   "metadata": {},
   "outputs": [],
   "source": [
    "try: # nich mehrmals in Speicher laden... sind 3gb\n",
    "    model\n",
    "except NameError:\n",
    "    model = KeyedVectors.load_word2vec_format(word2vec_model_path, binary=True)"
   ]
  },
  {
   "cell_type": "code",
   "execution_count": 4,
   "metadata": {},
   "outputs": [],
   "source": [
    "def read_in_csv(csv_file):\n",
    "    with open(csv_file, 'r', encoding='utf-8') as fp:\n",
    "        reader = csv.reader(fp, delimiter=',', quotechar='\"')\n",
    "        data_read = [row for row in reader]\n",
    "    return data_read\n",
    "\n",
    "csv_data = read_in_csv(imdb_dataset_path)\n"
   ]
  },
  {
   "cell_type": "code",
   "execution_count": 5,
   "metadata": {},
   "outputs": [],
   "source": [
    "schema = Schema(movie_id=ID(stored=True),\n",
    "                title=TEXT(analyzer=StemmingAnalyzer()),\n",
    "                description=TEXT(analyzer=StemmingAnalyzer()),\n",
    "                genre=KEYWORD,\n",
    "                director=TEXT,\n",
    "                actors=TEXT,\n",
    "                year=DATETIME)"
   ]
  },
  {
   "cell_type": "code",
   "execution_count": 6,
   "metadata": {},
   "outputs": [],
   "source": [
    "create_new_index = True\n",
    "if(create_new_index):\n",
    "    index = create_in(index_path, schema)\n",
    "else:    \n",
    "    index = whoosh.index.open_dir(index_path)\n",
    "\n",
    "writer = index.writer()"
   ]
  },
  {
   "cell_type": "code",
   "execution_count": 7,
   "metadata": {},
   "outputs": [],
   "source": [
    "for row in csv_data[1:]:\n",
    "    movie_id = row[0]\n",
    "    title = row[1]\n",
    "    genre = row[2]\n",
    "    description = row[3]\n",
    "    director = row[4]\n",
    "    actors = row[5]\n",
    "    year = row[6]\n",
    "    writer.add_document(movie_id=movie_id, title=title, description=description, genre=genre, director=director, actors=actors, year=year)\n",
    "writer.commit()"
   ]
  },
  {
   "cell_type": "code",
   "execution_count": 8,
   "metadata": {},
   "outputs": [
    {
     "output_type": "stream",
     "name": "stdout",
     "text": [
      "Results with Word2Vec:\nSimilar words used: ['Superman', 'superhero', 'mere_mortal']\n61 13.618285980628055\n925 13.618285980628055\n148 5.961845129926823\n220 5.961845129926823\n600 5.961845129926823\n788 5.961845129926823\n790 5.961845129926823\n938 5.961845129926823\n<Top 8 Results for Or([Term('title', 'superman'), Term('description', 'superman'), Term('title', 'superhero'), Term('description', 'superhero'), Term('title', 'mere_mort'), Term('description', 'mere_mort')]) runtime=0.0010769000000010465>\n________________________\n\nResults without Word2Vec:\n61 13.618285980628055\n925 13.618285980628055\n<Top 2 Results for Or([Term('title', 'superman'), Term('description', 'superman')]) runtime=0.0002825999999984674>\n"
     ]
    }
   ],
   "source": [
    "\n",
    "use_synonyms = True\n",
    "\n",
    "search_term = \"superman\"\n",
    "\n",
    "if(use_synonyms):\n",
    "    similarity_list = model.most_similar(search_term, topn=3)\n",
    "    similar_words = [sim_tuple[0] for sim_tuple in similarity_list]\n",
    "    keywords = \" OR \".join([search_term] + similar_words)\n",
    "else:\n",
    "    keywords  = search_term\n",
    "\n",
    "results = []\n",
    "print(\"Results with Word2Vec:\")\n",
    "print(f\"Similar words used: {similar_words}\")\n",
    "with index.searcher(weighting=scoring.TF_IDF()) as searcher:\n",
    "    query = MultifieldParser([\"title\", \"description\"], index.schema).parse(keywords)\n",
    "    results = searcher.search(query)\n",
    "    for docnum, score in results.items():\n",
    "        print(docnum+1, score)\n",
    "    print(results)\n",
    "\n",
    "\n",
    "print(\"________________________\\n\")\n",
    "print(\"Results without Word2Vec:\")\n",
    "with index.searcher(weighting=scoring.TF_IDF()) as searcher:\n",
    "    query = MultifieldParser([\"title\", \"description\"], index.schema).parse(search_term)\n",
    "    results = searcher.search(query)\n",
    "    for docnum, score in results.items():\n",
    "        print(docnum+1, score)\n",
    "    print(results)"
   ]
  },
  {
   "cell_type": "code",
   "execution_count": 14,
   "metadata": {},
   "outputs": [],
   "source": []
  },
  {
   "cell_type": "code",
   "execution_count": null,
   "metadata": {},
   "outputs": [],
   "source": []
  }
 ]
}