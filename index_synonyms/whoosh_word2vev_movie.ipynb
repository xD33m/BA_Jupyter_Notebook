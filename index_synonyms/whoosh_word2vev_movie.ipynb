{
 "metadata": {
  "language_info": {
   "codemirror_mode": {
    "name": "ipython",
    "version": 3
   },
   "file_extension": ".py",
   "mimetype": "text/x-python",
   "name": "python",
   "nbconvert_exporter": "python",
   "pygments_lexer": "ipython3",
   "version": "3.9.1"
  },
  "orig_nbformat": 4,
  "kernelspec": {
   "name": "python3",
   "display_name": "Python 3.9.1 64-bit ('.venv': venv)"
  },
  "interpreter": {
   "hash": "3fa4fbff26baf5372c1227c893813242fd1c5dcfd93352f945b61348dd56c099"
  }
 },
 "nbformat": 4,
 "nbformat_minor": 2,
 "cells": [
  {
   "cell_type": "code",
   "execution_count": 22,
   "metadata": {},
   "outputs": [],
   "source": [
    "from whoosh.fields import Schema, TEXT, KEYWORD, ID, STORED, DATETIME\n",
    "from whoosh.index import create_in\n",
    "from whoosh.analysis import StemmingAnalyzer\n",
    "from whoosh.qparser import MultifieldParser\n",
    "from whoosh import scoring\n",
    "import whoosh\n",
    "import csv\n",
    "\n",
    "from gensim.models import KeyedVectors\n",
    "import numpy as np"
   ]
  },
  {
   "cell_type": "code",
   "execution_count": 23,
   "metadata": {},
   "outputs": [],
   "source": [
    "imdb_dataset_path = \"./data/IMDB-Movie-Data.csv\"\n",
    "imdb_dataset_path2 = \"./data/movies.csv\"\n",
    "index_path = \"./whoosh_index\"\n",
    "word2vec_model_path = 'E:/Users/Lucas xD/Downloads/GoogleNews-vectors-negative300.bin'"
   ]
  },
  {
   "cell_type": "code",
   "execution_count": 24,
   "metadata": {},
   "outputs": [],
   "source": [
    "try: # nich mehrmals in Speicher laden... sind 3gb\n",
    "    model\n",
    "except NameError:\n",
    "    model = KeyedVectors.load_word2vec_format(word2vec_model_path, binary=True)"
   ]
  },
  {
   "cell_type": "code",
   "execution_count": 25,
   "metadata": {},
   "outputs": [],
   "source": [
    "def read_in_csv(csv_file):\n",
    "    with open(csv_file, 'r', encoding='utf-8') as fp:\n",
    "        reader = csv.reader(fp, delimiter=',', quotechar='\"')\n",
    "        data_read = [row for row in reader]\n",
    "    return data_read\n",
    "\n",
    "csv_data = read_in_csv(imdb_dataset_path2)\n"
   ]
  },
  {
   "cell_type": "code",
   "execution_count": 34,
   "metadata": {},
   "outputs": [],
   "source": [
    "schema = Schema(movie_id=ID(stored=True),\n",
    "                title=TEXT(analyzer=StemmingAnalyzer(), stored=True),\n",
    "                description=TEXT(analyzer=StemmingAnalyzer()),\n",
    "                genre=KEYWORD,\n",
    "                director=TEXT,\n",
    "                actors=TEXT,\n",
    "                year=DATETIME)\n",
    "\n",
    "schema2 = Schema(id=ID(stored=True),\n",
    "                        title=TEXT(analyzer=StemmingAnalyzer(), stored=True),\n",
    "                        poster=TEXT,\n",
    "                        overview=TEXT(analyzer=StemmingAnalyzer()),\n",
    "                        release_date=TEXT)"
   ]
  },
  {
   "cell_type": "code",
   "execution_count": 35,
   "metadata": {},
   "outputs": [],
   "source": [
    "create_new_index = True\n",
    "if(create_new_index):\n",
    "    index = create_in(index_path, schema2)\n",
    "else:    \n",
    "    index = whoosh.index.open_dir(index_path)\n",
    "\n",
    "writer = index.writer()"
   ]
  },
  {
   "cell_type": "code",
   "execution_count": 36,
   "metadata": {},
   "outputs": [],
   "source": [
    "for row in csv_data[1:]:\n",
    "            id = row[0]\n",
    "            title = row[1]\n",
    "            poster = row[2]\n",
    "            overview = row[3]\n",
    "            release_date = row[4]\n",
    "            writer.add_document(id=id,\n",
    "                                     title=title,\n",
    "                                     poster=poster,\n",
    "                                     overview=overview,\n",
    "                                     release_date=release_date)\n",
    "writer.commit()"
   ]
  },
  {
   "cell_type": "code",
   "execution_count": 44,
   "metadata": {},
   "outputs": [
    {
     "output_type": "stream",
     "name": "stdout",
     "text": [
      "Results with Word2Vec:\nSimilar words used: ['Superman', 'superhero', 'mere_mortal']\n136 8.940126009867058\n6270 8.940126009867058\n10108 8.940126009867058\n10771 8.940126009867058\n15331 8.940126009867058\n18656 8.940126009867058\n<Top 6 Results for Or([Term('title', 'lightn'), Term('description', 'Lightning')]) runtime=0.0002513999988877913>\n________________________\n\nResults without Word2Vec:\n135 8.940126009867058\n6269 8.940126009867058\n10107 8.940126009867058\n10770 8.940126009867058\n15330 8.940126009867058\n18655 8.940126009867058\n32657\n87440\n31162\n154512\n22317\n4984\n"
     ]
    }
   ],
   "source": [
    "\n",
    "use_synonyms = False\n",
    "\n",
    "search_term = \"Lightning\"\n",
    "\n",
    "if(use_synonyms):\n",
    "    similarity_list = model.most_similar(search_term, topn=3)\n",
    "    similar_words = [sim_tuple[0] for sim_tuple in similarity_list]\n",
    "    keywords = \" OR \".join([search_term] + similar_words)\n",
    "else:\n",
    "    keywords  = search_term\n",
    "\n",
    "results = []\n",
    "print(\"Results with Word2Vec:\")\n",
    "print(f\"Similar words used: {similar_words}\")\n",
    "with index.searcher(weighting=scoring.TF_IDF()) as searcher:\n",
    "    query = MultifieldParser([\"title\", \"description\"], index.schema).parse(keywords)\n",
    "    results = searcher.search(query)\n",
    "    for docnum, score in results.items():\n",
    "        print(docnum+1, score)\n",
    "    print(results)\n",
    "\n",
    "\n",
    "print(\"________________________\\n\")\n",
    "print(\"Results without Word2Vec:\")\n",
    "with index.searcher(weighting=scoring.TF_IDF()) as searcher:\n",
    "    query = MultifieldParser([\"title\", \"description\"], index.schema).parse(search_term)\n",
    "    results = searcher.search(query)\n",
    "    for docnum, score in results.items():\n",
    "        print(docnum, score)\n",
    "    for doc in results:\n",
    "        print(doc['id'])"
   ]
  },
  {
   "cell_type": "code",
   "execution_count": 14,
   "metadata": {},
   "outputs": [],
   "source": []
  }
 ]
}