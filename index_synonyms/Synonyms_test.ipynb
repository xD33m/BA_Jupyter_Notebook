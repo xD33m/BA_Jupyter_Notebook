{
 "metadata": {
  "language_info": {
   "codemirror_mode": {
    "name": "ipython",
    "version": 3
   },
   "file_extension": ".py",
   "mimetype": "text/x-python",
   "name": "python",
   "nbconvert_exporter": "python",
   "pygments_lexer": "ipython3",
   "version": "3.9.1"
  },
  "orig_nbformat": 4,
  "kernelspec": {
   "name": "python3",
   "display_name": "Python 3.9.1 64-bit ('.venv': venv)"
  },
  "interpreter": {
   "hash": "3fa4fbff26baf5372c1227c893813242fd1c5dcfd93352f945b61348dd56c099"
  }
 },
 "nbformat": 4,
 "nbformat_minor": 2,
 "cells": [
  {
   "cell_type": "code",
   "execution_count": 21,
   "source": [
    "import gensim.downloader as api\r\n",
    "from gensim.models import KeyedVectors\r\n",
    "from typing import Type"
   ],
   "outputs": [],
   "metadata": {}
  },
  {
   "cell_type": "code",
   "execution_count": 22,
   "source": [
    "word_vectors = api.load(\"glove-wiki-gigaword-100\")\r\n",
    "word2vec = api.load(\"word2vec-google-news-300\")"
   ],
   "outputs": [],
   "metadata": {}
  },
  {
   "cell_type": "code",
   "execution_count": 23,
   "source": [
    "def print_synonyms(word_vectors: Type[KeyedVectors], seed_word: str, seed_word_antonym: str, n_synonyms: int=5) -> None:\r\n",
    "    result = word_vectors.most_similar(positive=[seed_word], negative=[seed_word_antonym])\r\n",
    "    print(f\"The synonyms for '{seed_word}':\")\r\n",
    "    for r in result[:n_synonyms]:\r\n",
    "        print(f\"{r[0]:<15}: {r[1]:.3f}\")\r\n",
    "\r\n",
    "def print_synonyms_w2v(word_vectors: Type[KeyedVectors], seed_word: str, seed_word_antonym: str, n_synonyms: int=5) -> None:\r\n",
    "    result = word2vec.most_similar(positive=[seed_word], negative=[seed_word_antonym])\r\n",
    "    print(f\"\\nW2V-The synonyms for '{seed_word}':\")\r\n",
    "    for r in result[:n_synonyms]:\r\n",
    "        print(f\"{r[0]:<15}: {r[1]:.3f}\")"
   ],
   "outputs": [],
   "metadata": {}
  },
  {
   "cell_type": "code",
   "execution_count": 24,
   "source": [
    "\r\n",
    "print_synonyms(word_vectors, seed_word=\"good\", seed_word_antonym=\"bad\")\r\n",
    "print_synonyms_w2v(word_vectors, seed_word=\"good\", seed_word_antonym=\"bad\")\r\n"
   ],
   "outputs": [
    {
     "output_type": "stream",
     "name": "stdout",
     "text": [
      "The synonyms for 'good':\n",
      "excellent      : 0.480\n",
      "versatile      : 0.442\n",
      "rapport        : 0.434\n",
      "ideal          : 0.426\n",
      "indispensable  : 0.411\n",
      "\n",
      "W2V-The synonyms for 'good':\n",
      "excellent      : 0.461\n",
      "great          : 0.449\n",
      "terrific       : 0.411\n",
      "nice           : 0.378\n",
      "fantastic      : 0.376\n"
     ]
    }
   ],
   "metadata": {}
  },
  {
   "cell_type": "code",
   "execution_count": 25,
   "source": [
    "print_synonyms(word_vectors, seed_word=\"opaque\", seed_word_antonym=\"clear\")\r\n",
    "print_synonyms_w2v(word_vectors, seed_word=\"opaque\", seed_word_antonym=\"clear\")"
   ],
   "outputs": [
    {
     "output_type": "stream",
     "name": "stdout",
     "text": [
      "The synonyms for 'opaque':\n",
      "organic-rich   : 0.555\n",
      "lampblack      : 0.555\n",
      "khazakstan     : 0.549\n",
      "oozy           : 0.541\n",
      "a.c.e.         : 0.537\n",
      "\n",
      "W2V-The synonyms for 'opaque':\n",
      "opaqueness     : 0.381\n",
      "Opaque         : 0.366\n",
      "secretive      : 0.361\n",
      "impenetrably   : 0.354\n",
      "nontransparent : 0.351\n"
     ]
    }
   ],
   "metadata": {}
  },
  {
   "cell_type": "code",
   "execution_count": 26,
   "source": [
    "print_synonyms(word_vectors, seed_word=\"chino\", seed_word_antonym=\"lawsuit\")\r\n",
    "print_synonyms_w2v(word_vectors, seed_word=\"chino\", seed_word_antonym=\"lawsuit\")"
   ],
   "outputs": [
    {
     "output_type": "stream",
     "name": "stdout",
     "text": [
      "The synonyms for 'chino':\n",
      "tadao          : 0.550\n",
      "basar          : 0.499\n",
      "larfaoui       : 0.496\n",
      "africano       : 0.485\n",
      "bida           : 0.472\n",
      "\n",
      "W2V-The synonyms for 'chino':\n",
      "moreno         : 0.443\n",
      "safa           : 0.436\n",
      "sola           : 0.434\n",
      "chicas         : 0.433\n",
      "Chinos         : 0.431\n"
     ]
    }
   ],
   "metadata": {}
  }
 ]
}