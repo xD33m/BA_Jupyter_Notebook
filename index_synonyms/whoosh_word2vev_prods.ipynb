{
 "metadata": {
  "language_info": {
   "codemirror_mode": {
    "name": "ipython",
    "version": 3
   },
   "file_extension": ".py",
   "mimetype": "text/x-python",
   "name": "python",
   "nbconvert_exporter": "python",
   "pygments_lexer": "ipython3",
   "version": "3.9.1"
  },
  "orig_nbformat": 4,
  "kernelspec": {
   "name": "python3",
   "display_name": "Python 3.9.1 64-bit ('.venv': venv)"
  },
  "interpreter": {
   "hash": "3fa4fbff26baf5372c1227c893813242fd1c5dcfd93352f945b61348dd56c099"
  }
 },
 "nbformat": 4,
 "nbformat_minor": 2,
 "cells": [
  {
   "cell_type": "markdown",
   "source": [
    "# Imports"
   ],
   "metadata": {}
  },
  {
   "cell_type": "code",
   "execution_count": 1,
   "source": [
    "# index creation\r\n",
    "from whoosh.fields import Schema, TEXT, KEYWORD, ID, STORED, DATETIME\r\n",
    "from whoosh.index import create_in\r\n",
    "from whoosh.analysis import StemmingAnalyzer, NgramFilter, StopFilter\r\n",
    "from whoosh.qparser import MultifieldParser\r\n",
    "from whoosh import scoring\r\n",
    "import whoosh\r\n",
    "\r\n",
    "# data import\r\n",
    "import json\r\n",
    "\r\n",
    "from gensim.models import KeyedVectors\r\n",
    "import numpy as np"
   ],
   "outputs": [],
   "metadata": {}
  },
  {
   "cell_type": "markdown",
   "source": [
    "# Import pretrained word embeddings (Google's Word2Vec)"
   ],
   "metadata": {}
  },
  {
   "cell_type": "code",
   "execution_count": 2,
   "source": [
    "word2vec_model_path = 'E:/Users/Lucas xD/Downloads/GoogleNews-vectors-negative300.bin'\r\n",
    "from gensim.models import KeyedVectors\r\n",
    "\r\n",
    "try: # nich mehrmals in Speicher laden... sind 3gb\r\n",
    "    model\r\n",
    "except NameError: \r\n",
    "    model = KeyedVectors.load_word2vec_format(word2vec_model_path, binary=True)"
   ],
   "outputs": [],
   "metadata": {}
  },
  {
   "cell_type": "code",
   "execution_count": 3,
   "source": [
    "model.most_similar(positive=['hugo'])\r\n",
    "model.most_similar(positive=['boss'])\r\n",
    "model.most_similar(positive=['boss'])"
   ],
   "outputs": [
    {
     "output_type": "execute_result",
     "data": {
      "text/plain": [
       "[('supremo', 0.6426823735237122),\n",
       " ('bosses', 0.6286453604698181),\n",
       " ('head_honcho', 0.5850003957748413),\n",
       " ('MOTHERWELL_boss', 0.5591158270835876),\n",
       " ('WIGAN_boss', 0.5582457184791565),\n",
       " ('caretaker_boss', 0.5453289151191711),\n",
       " ('honcho', 0.5437785387039185),\n",
       " ('boss_Terry_Venables', 0.5429865717887878),\n",
       " ('chairman_Theo_Paphitis', 0.5417101383209229),\n",
       " ('Bully_Wee_boss', 0.540573239326477)]"
      ]
     },
     "metadata": {},
     "execution_count": 3
    }
   ],
   "metadata": {}
  },
  {
   "cell_type": "code",
   "execution_count": 4,
   "source": [
    "# from gensim.models import Word2Vec\r\n",
    "\r\n",
    "# # read the evaluation file, get it at:\r\n",
    "# # https://word2vec.googlecode.com/svn/trunk/questions-words.txt\r\n",
    "# questions = 'questions-words.txt'\r\n",
    "# evals = open(questions, 'r').readlines()\r\n",
    "# num_sections = len([l for l in evals if l.startswith(':')])\r\n",
    "# print('total evaluation sentences: {} '.format(len(evals) - num_sections))\r\n",
    "# # total evaluation sentences: 19544\r\n",
    "\r\n",
    "# # load the pre-trained model of GoogleNews dataset (100 billion words), get it at:\r\n",
    "# # https://code.google.com/p/word2vec/#Pre-trained_word_and_phrase_vectors \r\n",
    "# google = Word2Vec.load_word2vec_format(word2vec_model_path, binary=True)\r\n",
    "# # test the model accuracy*\r\n",
    "# w2v_model_accuracy(google)\r\n",
    "# # Total sentences: 7614, Correct: 74.26%, Incorrect: 25.74%\r\n",
    "\r\n",
    "\r\n",
    "# def w2v_model_accuracy(model):\r\n",
    "\r\n",
    "#     accuracy = model.accuracy(questions)\r\n",
    "    \r\n",
    "#     sum_corr = len(accuracy[-1]['correct'])\r\n",
    "#     sum_incorr = len(accuracy[-1]['incorrect'])\r\n",
    "#     total = sum_corr + sum_incorr\r\n",
    "#     percent = lambda a: a / total * 100\r\n",
    "    \r\n",
    "#     print('Total sentences: {}, Correct: {:.2f}%, Incorrect: {:.2f}%'.format(total, percent(sum_corr), percent(sum_incorr)))"
   ],
   "outputs": [],
   "metadata": {}
  },
  {
   "cell_type": "markdown",
   "source": [
    "# Synonyms generation with a dictionary (WordNet)"
   ],
   "metadata": {}
  },
  {
   "cell_type": "code",
   "execution_count": 5,
   "source": [
    "# preprocessing\r\n",
    "from nltk.tokenize import word_tokenize\r\n",
    "from nltk.tag import pos_tag\r\n",
    "from nltk.corpus import wordnet"
   ],
   "outputs": [],
   "metadata": {}
  },
  {
   "cell_type": "code",
   "execution_count": 6,
   "source": [
    "# nltk.download('punkt')\r\n",
    "# nltk.download('averaged_perceptron_tagger')\r\n",
    "\r\n",
    "def tag(sentence):\r\n",
    "    words = word_tokenize(sentence)\r\n",
    "    words = pos_tag(words)\r\n",
    "    return words\r\n",
    "\r\n",
    "\r\n",
    "def pos(tag):\r\n",
    "    if tag.startswith('NN'):\r\n",
    "        return wordnet.NOUN\r\n",
    "\r\n",
    "\r\n",
    "def synonyms(word, tag):\r\n",
    "    synsets = wordnet.synsets(word, pos(tag))\r\n",
    "    if len(synsets) > 1:\r\n",
    "        first_syn = synsets[0]  # only take closest match (frequent synonyms)\r\n",
    "        lemma_lists = first_syn.lemmas()\r\n",
    "        lemmas = [lemma.name()\r\n",
    "                  for lemma in lemma_lists if lemma.name() != word]\r\n",
    "        return lemmas\r\n",
    "    else:\r\n",
    "        return []\r\n",
    "\r\n",
    "\r\n",
    "def synonymIfExists(sentence):\r\n",
    "    for (word, t) in tag(sentence):\r\n",
    "        if t.startswith('NN'):  # only take nouns\r\n",
    "            syns = synonyms(word, t)\r\n",
    "            if syns:\r\n",
    "                if len(syns) >= 1:\r\n",
    "                    yield [word, syns[0]]  # keep only one synonym\r\n",
    "                    continue\r\n",
    "            yield [word]\r\n",
    "\r\n",
    "\r\n",
    "def get_synonyms(sentence):\r\n",
    "    words = [word for word in synonymIfExists(sentence)]\r\n",
    "    single_list = [item for sublist in words for item in sublist]\r\n",
    "\r\n",
    "    return single_list\r\n",
    "\r\n",
    "print(get_synonyms(\"casual winter cloth\"))\r\n",
    "print(get_synonyms(\"fitting tie for a casual meeting\"))\r\n",
    "print(get_synonyms(\"summer T-shirt\"))\r\n",
    "print(get_synonyms(\"elastic trouser\"))\r\n",
    "print(get_synonyms(\"pretty little skirt\"))\r\n"
   ],
   "outputs": [
    {
     "output_type": "stream",
     "name": "stdout",
     "text": [
      "['winter', 'cloth']\n",
      "['tie', 'necktie', 'meeting', 'group_meeting']\n",
      "['summer', 'summertime', 'T-shirt']\n",
      "['trouser', 'pant']\n",
      "['skirt']\n"
     ]
    }
   ],
   "metadata": {}
  },
  {
   "cell_type": "code",
   "execution_count": 7,
   "source": [
    "#################\r\n",
    "# Similar words #\r\n",
    "#################\r\n",
    "\r\n",
    "\r\n",
    "def sim_words(word):\r\n",
    "    sim_words_arr = []\r\n",
    "    try:\r\n",
    "        # pretrained or custom w2v model <---- beide dazunehmen\r\n",
    "        words = model.most_similar(word)\r\n",
    "    except KeyError:  # no similar words found\r\n",
    "        return sim_words_arr\r\n",
    "    for word in words:\r\n",
    "        if word[1] > 0.75:  # cosine similarity must be at least 75%\r\n",
    "            sim_words_arr.append(word[0])\r\n",
    "\r\n",
    "    return sim_words_arr\r\n",
    "\r\n",
    "\r\n",
    "def similarIfExists(sentence):\r\n",
    "    for (word, t) in tag(sentence):\r\n",
    "        if t.startswith('NN'):\r\n",
    "            sim = sim_words(word)\r\n",
    "            if sim:\r\n",
    "                if len(sim) >= 1:\r\n",
    "                    yield [word, sim[0]]  # keep only one\r\n",
    "                    continue\r\n",
    "        yield [word]\r\n",
    "\r\n",
    "\r\n",
    "def get_similar_words(sentence):\r\n",
    "    words = [word for word in similarIfExists(sentence)]\r\n",
    "    single_list = [item for sublist in words for item in sublist]\r\n",
    "    return single_list\r\n",
    "\r\n",
    "\r\n",
    "def add_syns_and_similar_words(sentence):\r\n",
    "    syns = get_synonyms(sentence)\r\n",
    "    sims = get_similar_words(sentence)\r\n",
    "    result = syns + sims\r\n",
    "\r\n",
    "    result = ','.join(set(result))\r\n",
    "    return result\r\n",
    "\r\n",
    "print(get_similar_words(\"pretty little skirt\"))\r\n",
    "print(get_similar_words(\"casual winter cloth\"))\r\n",
    "print(get_similar_words(\"fitting tie for a casual meeting\"))\r\n",
    "print(get_similar_words(\"summer T-shirt\"))\r\n",
    "\r\n",
    "print(add_syns_and_similar_words(\"elastic trouser\"))\r\n",
    "print(add_syns_and_similar_words(\"pretty little skirt\"))\r\n",
    "print(add_syns_and_similar_words(\"casual winter cloth\"))\r\n",
    "print(add_syns_and_similar_words(\"fitting tie for a casual meeting\"))\r\n",
    "print(add_syns_and_similar_words(\"summer T-shirt\"))"
   ],
   "outputs": [
    {
     "output_type": "stream",
     "name": "stdout",
     "text": [
      "['pretty', 'little', 'skirt', 'skirts']\n",
      "['casual', 'winter', 'cloth']\n",
      "['fitting', 'tie', 'for', 'a', 'casual', 'meeting', 'meetings']\n",
      "['summer', 'spring', 'T-shirt']\n",
      "elastic,pant,trouser\n",
      "skirt,pretty,skirts,little\n",
      "casual,cloth,winter\n",
      "meetings,fitting,casual,meeting,a,necktie,for,tie,group_meeting\n",
      "spring,summertime,summer,T-shirt\n"
     ]
    }
   ],
   "metadata": {}
  },
  {
   "cell_type": "code",
   "execution_count": 8,
   "source": [
    "def preprocess_query(search_term):\r\n",
    "        stem = StemmingAnalyzer(stoplist=frozenset([\r\n",
    "            'and', 'is', 'it', 'an', 'as', 'at', 'have', 'in', 'yet', 'if',\r\n",
    "            'from', 'for', 'when', 'by', 'to', 'you', 'be', 'we', 'that',\r\n",
    "            'may', 'not', 'with', 'tbd', 'a', 'on', 'your', 'this', 'of', 'us',\r\n",
    "            'will', 'can', 'the', 'or', 'are'\r\n",
    "        ]),\r\n",
    "                                minsize=3)\r\n",
    "        return [token.text for token in stem(search_term)]"
   ],
   "outputs": [],
   "metadata": {}
  },
  {
   "cell_type": "code",
   "execution_count": 9,
   "source": [
    "print(','.join(preprocess_query('fitting,necktie,tie,for,a,casual,occasional,meeting,coming_together')))\r\n",
    "print(','.join(preprocess_query('elastic,pliant,trouser,pant')))"
   ],
   "outputs": [
    {
     "output_type": "stream",
     "name": "stdout",
     "text": [
      "fitt,neckti,tie,casual,occasion,meet,coming_togeth\n",
      "elast,pliant,trouser,pant\n"
     ]
    }
   ],
   "metadata": {}
  },
  {
   "cell_type": "markdown",
   "source": [
    "# Training word embeddings with product data (Tensorflow, Keras)"
   ],
   "metadata": {}
  },
  {
   "cell_type": "code",
   "execution_count": 16,
   "source": [
    "import io\r\n",
    "import re\r\n",
    "import string\r\n",
    "import tensorflow as tf\r\n",
    "import tqdm\r\n",
    "\r\n",
    "from tensorflow.keras import Model\r\n",
    "from tensorflow.keras.layers import Dot, Embedding, Flatten\r\n",
    "from tensorflow.keras.layers.experimental.preprocessing import TextVectorization\r\n",
    "\r\n",
    "import numpy as np"
   ],
   "outputs": [],
   "metadata": {}
  },
  {
   "cell_type": "markdown",
   "source": [
    "## Testing concepts"
   ],
   "metadata": {}
  },
  {
   "cell_type": "code",
   "execution_count": 17,
   "source": [
    "sentence = \"Hooded sweatshirt with logo tape trim\"\r\n",
    "tokens = list(sentence.lower().split())\r\n",
    "print(tokens)"
   ],
   "outputs": [
    {
     "output_type": "stream",
     "name": "stdout",
     "text": [
      "['hooded', 'sweatshirt', 'with', 'logo', 'tape', 'trim']\n"
     ]
    }
   ],
   "metadata": {}
  },
  {
   "cell_type": "code",
   "execution_count": 18,
   "source": [
    "vocab, index = {}, 1  # start indexing from 1\r\n",
    "vocab['<pad>'] = 0  # add a padding token\r\n",
    "for token in tokens:\r\n",
    "  if token not in vocab:\r\n",
    "    vocab[token] = index\r\n",
    "    index += 1\r\n",
    "vocab_size = len(vocab)\r\n",
    "print(vocab)"
   ],
   "outputs": [
    {
     "output_type": "stream",
     "name": "stdout",
     "text": [
      "{'<pad>': 0, 'hooded': 1, 'sweatshirt': 2, 'with': 3, 'logo': 4, 'tape': 5, 'trim': 6}\n"
     ]
    }
   ],
   "metadata": {}
  },
  {
   "cell_type": "code",
   "execution_count": 19,
   "source": [
    "inverse_vocab = {index: token for token, index in vocab.items()}\r\n",
    "print(inverse_vocab)"
   ],
   "outputs": [
    {
     "output_type": "stream",
     "name": "stdout",
     "text": [
      "{0: '<pad>', 1: 'hooded', 2: 'sweatshirt', 3: 'with', 4: 'logo', 5: 'tape', 6: 'trim'}\n"
     ]
    }
   ],
   "metadata": {}
  },
  {
   "cell_type": "code",
   "execution_count": 20,
   "source": [
    "example_sequence = [vocab[word] for word in tokens]\r\n",
    "print(example_sequence)"
   ],
   "outputs": [
    {
     "output_type": "stream",
     "name": "stdout",
     "text": [
      "[1, 2, 3, 4, 5, 6]\n"
     ]
    }
   ],
   "metadata": {}
  },
  {
   "cell_type": "code",
   "execution_count": 21,
   "source": [
    "window_size = 2\r\n",
    "positive_skip_grams, _ = tf.keras.preprocessing.sequence.skipgrams(\r\n",
    "      example_sequence,\r\n",
    "      vocabulary_size=vocab_size,\r\n",
    "      window_size=window_size,\r\n",
    "      negative_samples=0)\r\n",
    "print(len(positive_skip_grams))"
   ],
   "outputs": [
    {
     "output_type": "stream",
     "name": "stdout",
     "text": [
      "18\n"
     ]
    }
   ],
   "metadata": {}
  },
  {
   "cell_type": "code",
   "execution_count": 22,
   "source": [
    "for target, context in positive_skip_grams[:5]:\r\n",
    "  print(f\"({target}, {context}): ({inverse_vocab[target]}, {inverse_vocab[context]})\")"
   ],
   "outputs": [
    {
     "output_type": "stream",
     "name": "stdout",
     "text": [
      "(3, 5): (with, tape)\n",
      "(5, 4): (tape, logo)\n",
      "(3, 1): (with, hooded)\n",
      "(5, 3): (tape, with)\n",
      "(4, 5): (logo, tape)\n"
     ]
    }
   ],
   "metadata": {}
  },
  {
   "cell_type": "code",
   "execution_count": 23,
   "source": [
    "# Get target and context words for one positive skip-gram.\r\n",
    "target_word, context_word = positive_skip_grams[0]\r\n",
    "\r\n",
    "# Set the number of negative samples per positive context.\r\n",
    "num_ns = 4\r\n",
    "\r\n",
    "context_class = tf.reshape(tf.constant(context_word, dtype=\"int64\"), (1, 1))\r\n",
    "negative_sampling_candidates, _, _ = tf.random.log_uniform_candidate_sampler(\r\n",
    "    true_classes=context_class,  # class that should be sampled as 'positive'\r\n",
    "    num_true=1,  # each positive skip-gram has 1 positive context class\r\n",
    "    num_sampled=num_ns,  # number of negative context words to sample\r\n",
    "    unique=True,  # all the negative samples should be unique\r\n",
    "    range_max=vocab_size,  # pick index of the samples from [0, vocab_size]\r\n",
    "    seed=4,  # seed for reproducibility\r\n",
    "    name=\"negative_sampling\"  # name of this operation\r\n",
    ")\r\n",
    "print(negative_sampling_candidates)\r\n",
    "print([inverse_vocab[index.numpy()] for index in negative_sampling_candidates])"
   ],
   "outputs": [
    {
     "output_type": "stream",
     "name": "stdout",
     "text": [
      "tf.Tensor([2 6 0 3], shape=(4,), dtype=int64)\n",
      "['sweatshirt', 'trim', '<pad>', 'with']\n"
     ]
    }
   ],
   "metadata": {}
  },
  {
   "cell_type": "code",
   "execution_count": 24,
   "source": [
    "# Add a dimension so you can use concatenation (on the next step).\r\n",
    "negative_sampling_candidates = tf.expand_dims(negative_sampling_candidates, 1)\r\n",
    "\r\n",
    "# Concat positive context word with negative sampled words.\r\n",
    "context = tf.concat([context_class, negative_sampling_candidates], 0)\r\n",
    "\r\n",
    "# Label first context word as 1 (positive) followed by num_ns 0s (negative).\r\n",
    "label = tf.constant([1] + [0]*num_ns, dtype=\"int64\")\r\n",
    "\r\n",
    "# Reshape target to shape (1,) and context and label to (num_ns+1,).\r\n",
    "target = tf.squeeze(target_word)\r\n",
    "context = tf.squeeze(context)\r\n",
    "label = tf.squeeze(label)"
   ],
   "outputs": [],
   "metadata": {}
  },
  {
   "cell_type": "code",
   "execution_count": 25,
   "source": [
    "print(f\"target_index    : {target}\")\r\n",
    "print(f\"target_word     : {inverse_vocab[target_word]}\")\r\n",
    "print(f\"context_indices : {context}\")\r\n",
    "print(f\"context_words   : {[inverse_vocab[c.numpy()] for c in context]}\")\r\n",
    "print(f\"label           : {label}\")\r\n",
    "\r\n",
    "print(\"target  :\", target)\r\n",
    "print(\"context :\", context)\r\n",
    "print(\"label   :\", label)"
   ],
   "outputs": [
    {
     "output_type": "stream",
     "name": "stdout",
     "text": [
      "target_index    : 3\n",
      "target_word     : with\n",
      "context_indices : [5 2 6 0 3]\n",
      "context_words   : ['tape', 'sweatshirt', 'trim', '<pad>', 'with']\n",
      "label           : [1 0 0 0 0]\n",
      "target  : tf.Tensor(3, shape=(), dtype=int32)\n",
      "context : tf.Tensor([5 2 6 0 3], shape=(5,), dtype=int64)\n",
      "label   : tf.Tensor([1 0 0 0 0], shape=(5,), dtype=int64)\n"
     ]
    }
   ],
   "metadata": {}
  },
  {
   "cell_type": "markdown",
   "source": [
    "## Import training data"
   ],
   "metadata": {}
  },
  {
   "cell_type": "code",
   "execution_count": 26,
   "source": [
    "import json\r\n",
    "import pandas as pd\r\n",
    "import re\r\n",
    "import io"
   ],
   "outputs": [],
   "metadata": {}
  },
  {
   "cell_type": "code",
   "execution_count": 27,
   "source": [
    "with open(r\"E:\\Users\\Lucas xD\\Downloads\\Products_Q_US_edited.json\", encoding=\"utf8\") as json_file:\r\n",
    "    data = json.load(json_file)"
   ],
   "outputs": [],
   "metadata": {}
  },
  {
   "cell_type": "code",
   "execution_count": 28,
   "source": [
    "df = pd.json_normalize(data)\r\n",
    "df.head()"
   ],
   "outputs": [
    {
     "output_type": "execute_result",
     "data": {
      "text/plain": [
       "  brand                                             colors gender  \\\n",
       "0  HUGO  [{'code': '001', 'name': 'Black', 'link': 'htt...    Men   \n",
       "1  BOSS  [{'code': '001', 'name': 'Black', 'link': 'htt...    Men   \n",
       "2  BOSS  [{'code': '001', 'name': 'Black', 'link': 'htt...    Men   \n",
       "3  BOSS  [{'code': '001', 'name': 'Black', 'link': 'htt...    Men   \n",
       "4  BOSS  [{'code': '410', 'name': 'Dark Blue', 'link': ...    Men   \n",
       "\n",
       "                                     longDescription  \\\n",
       "0  V-neck Solid Small embossed tonal logo detail ...   \n",
       "1  Cow skin Basket weave printed texture Tonal sq...   \n",
       "2  Lace-up Derby Italian leather upper Leather li...   \n",
       "3  A regular fit tuxedo in virgin wool.  <b>Jacke...   \n",
       "4  A slim-fit suit made from Italian Super 110s v...   \n",
       "\n",
       "                                               name     productId  \\\n",
       "0          Stretch Cotton V-Neck T-Shirt | Dredosos  hbna50261022   \n",
       "1                 Leather belt with embossed detail  hbna50262032   \n",
       "2         Italian Leather Derby Dress Shoe | Prindo  hbna50263062   \n",
       "3   Virgin Wool Tuxedo, Regular Fit | Stars/Glamour  hbna50194045   \n",
       "4  Italian Virgin Wool Suit, Slim Fit | Huge/Genius  hbna50263213   \n",
       "\n",
       "                                    shortDescription  \\\n",
       "0  This t-shirt by HUGO is crafted from cotton wi...   \n",
       "1  Upgrade your everyday collection with this tim...   \n",
       "2  Crafted from fine Italian calfskin with a prin...   \n",
       "3  This regular fit tuxedo by BOSS is crafted in ...   \n",
       "4  Our best-selling suit just got better with an ...   \n",
       "\n",
       "                                               sizes     styleName  \\\n",
       "0                             [XS, L, M, S, XL, XXL]                 \n",
       "1                   [34, 38, 40, 42, 44, 30, 32, 36]                 \n",
       "2  [6.5, 9, 11, 11.5, 12, 7, 7.5, 8, 8.5, 9.5, 10...    DressShoes   \n",
       "3  [34R, 42L, 44L, 46L, 48L, 36R, 36S, 38R, 38S, ...       Tuxedos   \n",
       "4  [44S, 48L, 42L, 44L, 34R, 36R, 38R, 40R, 40S, ...  Professional   \n",
       "\n",
       "                                            variants  \\\n",
       "0  [{'careInstructionCodes': ['000087', 'B1', 'C0...   \n",
       "1  [{'careInstructionCodes': [], 'colorCode': '00...   \n",
       "2  [{'careInstructionCodes': [], 'colorCode': '00...   \n",
       "3  [{'careInstructionCodes': ['00', 'B1', 'C0', '...   \n",
       "4  [{'careInstructionCodes': ['00', 'B1', 'C0', '...   \n",
       "\n",
       "                                               image   id  \n",
       "0  https://images.hugoboss.com/is/image/boss/hbna...  0.0  \n",
       "1  https://images.hugoboss.com/is/image/boss/hbna...  1.0  \n",
       "2  https://images.hugoboss.com/is/image/boss/hbna...  2.0  \n",
       "3  https://images.hugoboss.com/is/image/boss/hbna...  3.0  \n",
       "4  https://images.hugoboss.com/is/image/boss/hbna...  4.0  "
      ],
      "text/html": [
       "<div>\n",
       "<style scoped>\n",
       "    .dataframe tbody tr th:only-of-type {\n",
       "        vertical-align: middle;\n",
       "    }\n",
       "\n",
       "    .dataframe tbody tr th {\n",
       "        vertical-align: top;\n",
       "    }\n",
       "\n",
       "    .dataframe thead th {\n",
       "        text-align: right;\n",
       "    }\n",
       "</style>\n",
       "<table border=\"1\" class=\"dataframe\">\n",
       "  <thead>\n",
       "    <tr style=\"text-align: right;\">\n",
       "      <th></th>\n",
       "      <th>brand</th>\n",
       "      <th>colors</th>\n",
       "      <th>gender</th>\n",
       "      <th>longDescription</th>\n",
       "      <th>name</th>\n",
       "      <th>productId</th>\n",
       "      <th>shortDescription</th>\n",
       "      <th>sizes</th>\n",
       "      <th>styleName</th>\n",
       "      <th>variants</th>\n",
       "      <th>image</th>\n",
       "      <th>id</th>\n",
       "    </tr>\n",
       "  </thead>\n",
       "  <tbody>\n",
       "    <tr>\n",
       "      <th>0</th>\n",
       "      <td>HUGO</td>\n",
       "      <td>[{'code': '001', 'name': 'Black', 'link': 'htt...</td>\n",
       "      <td>Men</td>\n",
       "      <td>V-neck Solid Small embossed tonal logo detail ...</td>\n",
       "      <td>Stretch Cotton V-Neck T-Shirt | Dredosos</td>\n",
       "      <td>hbna50261022</td>\n",
       "      <td>This t-shirt by HUGO is crafted from cotton wi...</td>\n",
       "      <td>[XS, L, M, S, XL, XXL]</td>\n",
       "      <td></td>\n",
       "      <td>[{'careInstructionCodes': ['000087', 'B1', 'C0...</td>\n",
       "      <td>https://images.hugoboss.com/is/image/boss/hbna...</td>\n",
       "      <td>0.0</td>\n",
       "    </tr>\n",
       "    <tr>\n",
       "      <th>1</th>\n",
       "      <td>BOSS</td>\n",
       "      <td>[{'code': '001', 'name': 'Black', 'link': 'htt...</td>\n",
       "      <td>Men</td>\n",
       "      <td>Cow skin Basket weave printed texture Tonal sq...</td>\n",
       "      <td>Leather belt with embossed detail</td>\n",
       "      <td>hbna50262032</td>\n",
       "      <td>Upgrade your everyday collection with this tim...</td>\n",
       "      <td>[34, 38, 40, 42, 44, 30, 32, 36]</td>\n",
       "      <td></td>\n",
       "      <td>[{'careInstructionCodes': [], 'colorCode': '00...</td>\n",
       "      <td>https://images.hugoboss.com/is/image/boss/hbna...</td>\n",
       "      <td>1.0</td>\n",
       "    </tr>\n",
       "    <tr>\n",
       "      <th>2</th>\n",
       "      <td>BOSS</td>\n",
       "      <td>[{'code': '001', 'name': 'Black', 'link': 'htt...</td>\n",
       "      <td>Men</td>\n",
       "      <td>Lace-up Derby Italian leather upper Leather li...</td>\n",
       "      <td>Italian Leather Derby Dress Shoe | Prindo</td>\n",
       "      <td>hbna50263062</td>\n",
       "      <td>Crafted from fine Italian calfskin with a prin...</td>\n",
       "      <td>[6.5, 9, 11, 11.5, 12, 7, 7.5, 8, 8.5, 9.5, 10...</td>\n",
       "      <td>DressShoes</td>\n",
       "      <td>[{'careInstructionCodes': [], 'colorCode': '00...</td>\n",
       "      <td>https://images.hugoboss.com/is/image/boss/hbna...</td>\n",
       "      <td>2.0</td>\n",
       "    </tr>\n",
       "    <tr>\n",
       "      <th>3</th>\n",
       "      <td>BOSS</td>\n",
       "      <td>[{'code': '001', 'name': 'Black', 'link': 'htt...</td>\n",
       "      <td>Men</td>\n",
       "      <td>A regular fit tuxedo in virgin wool.  &lt;b&gt;Jacke...</td>\n",
       "      <td>Virgin Wool Tuxedo, Regular Fit | Stars/Glamour</td>\n",
       "      <td>hbna50194045</td>\n",
       "      <td>This regular fit tuxedo by BOSS is crafted in ...</td>\n",
       "      <td>[34R, 42L, 44L, 46L, 48L, 36R, 36S, 38R, 38S, ...</td>\n",
       "      <td>Tuxedos</td>\n",
       "      <td>[{'careInstructionCodes': ['00', 'B1', 'C0', '...</td>\n",
       "      <td>https://images.hugoboss.com/is/image/boss/hbna...</td>\n",
       "      <td>3.0</td>\n",
       "    </tr>\n",
       "    <tr>\n",
       "      <th>4</th>\n",
       "      <td>BOSS</td>\n",
       "      <td>[{'code': '410', 'name': 'Dark Blue', 'link': ...</td>\n",
       "      <td>Men</td>\n",
       "      <td>A slim-fit suit made from Italian Super 110s v...</td>\n",
       "      <td>Italian Virgin Wool Suit, Slim Fit | Huge/Genius</td>\n",
       "      <td>hbna50263213</td>\n",
       "      <td>Our best-selling suit just got better with an ...</td>\n",
       "      <td>[44S, 48L, 42L, 44L, 34R, 36R, 38R, 40R, 40S, ...</td>\n",
       "      <td>Professional</td>\n",
       "      <td>[{'careInstructionCodes': ['00', 'B1', 'C0', '...</td>\n",
       "      <td>https://images.hugoboss.com/is/image/boss/hbna...</td>\n",
       "      <td>4.0</td>\n",
       "    </tr>\n",
       "  </tbody>\n",
       "</table>\n",
       "</div>"
      ]
     },
     "metadata": {},
     "execution_count": 28
    }
   ],
   "metadata": {}
  },
  {
   "cell_type": "code",
   "execution_count": 29,
   "source": [
    "df.info()"
   ],
   "outputs": [
    {
     "output_type": "stream",
     "name": "stdout",
     "text": [
      "<class 'pandas.core.frame.DataFrame'>\n",
      "RangeIndex: 2777 entries, 0 to 2776\n",
      "Data columns (total 12 columns):\n",
      " #   Column            Non-Null Count  Dtype  \n",
      "---  ------            --------------  -----  \n",
      " 0   brand             2777 non-null   object \n",
      " 1   colors            2777 non-null   object \n",
      " 2   gender            2777 non-null   object \n",
      " 3   longDescription   2777 non-null   object \n",
      " 4   name              2777 non-null   object \n",
      " 5   productId         2777 non-null   object \n",
      " 6   shortDescription  2777 non-null   object \n",
      " 7   sizes             2777 non-null   object \n",
      " 8   styleName         2777 non-null   object \n",
      " 9   variants          2777 non-null   object \n",
      " 10  image             2777 non-null   object \n",
      " 11  id                2777 non-null   float64\n",
      "dtypes: float64(1), object(11)\n",
      "memory usage: 260.5+ KB\n"
     ]
    }
   ],
   "metadata": {}
  },
  {
   "cell_type": "code",
   "execution_count": 30,
   "source": [
    "df = df.drop(columns=['brand', 'colors', 'gender', 'productId', 'sizes', 'styleName', 'variants', 'image', 'id'])\r\n",
    "df.head()"
   ],
   "outputs": [
    {
     "output_type": "execute_result",
     "data": {
      "text/plain": [
       "                                     longDescription  \\\n",
       "0  V-neck Solid Small embossed tonal logo detail ...   \n",
       "1  Cow skin Basket weave printed texture Tonal sq...   \n",
       "2  Lace-up Derby Italian leather upper Leather li...   \n",
       "3  A regular fit tuxedo in virgin wool.  <b>Jacke...   \n",
       "4  A slim-fit suit made from Italian Super 110s v...   \n",
       "\n",
       "                                               name  \\\n",
       "0          Stretch Cotton V-Neck T-Shirt | Dredosos   \n",
       "1                 Leather belt with embossed detail   \n",
       "2         Italian Leather Derby Dress Shoe | Prindo   \n",
       "3   Virgin Wool Tuxedo, Regular Fit | Stars/Glamour   \n",
       "4  Italian Virgin Wool Suit, Slim Fit | Huge/Genius   \n",
       "\n",
       "                                    shortDescription  \n",
       "0  This t-shirt by HUGO is crafted from cotton wi...  \n",
       "1  Upgrade your everyday collection with this tim...  \n",
       "2  Crafted from fine Italian calfskin with a prin...  \n",
       "3  This regular fit tuxedo by BOSS is crafted in ...  \n",
       "4  Our best-selling suit just got better with an ...  "
      ],
      "text/html": [
       "<div>\n",
       "<style scoped>\n",
       "    .dataframe tbody tr th:only-of-type {\n",
       "        vertical-align: middle;\n",
       "    }\n",
       "\n",
       "    .dataframe tbody tr th {\n",
       "        vertical-align: top;\n",
       "    }\n",
       "\n",
       "    .dataframe thead th {\n",
       "        text-align: right;\n",
       "    }\n",
       "</style>\n",
       "<table border=\"1\" class=\"dataframe\">\n",
       "  <thead>\n",
       "    <tr style=\"text-align: right;\">\n",
       "      <th></th>\n",
       "      <th>longDescription</th>\n",
       "      <th>name</th>\n",
       "      <th>shortDescription</th>\n",
       "    </tr>\n",
       "  </thead>\n",
       "  <tbody>\n",
       "    <tr>\n",
       "      <th>0</th>\n",
       "      <td>V-neck Solid Small embossed tonal logo detail ...</td>\n",
       "      <td>Stretch Cotton V-Neck T-Shirt | Dredosos</td>\n",
       "      <td>This t-shirt by HUGO is crafted from cotton wi...</td>\n",
       "    </tr>\n",
       "    <tr>\n",
       "      <th>1</th>\n",
       "      <td>Cow skin Basket weave printed texture Tonal sq...</td>\n",
       "      <td>Leather belt with embossed detail</td>\n",
       "      <td>Upgrade your everyday collection with this tim...</td>\n",
       "    </tr>\n",
       "    <tr>\n",
       "      <th>2</th>\n",
       "      <td>Lace-up Derby Italian leather upper Leather li...</td>\n",
       "      <td>Italian Leather Derby Dress Shoe | Prindo</td>\n",
       "      <td>Crafted from fine Italian calfskin with a prin...</td>\n",
       "    </tr>\n",
       "    <tr>\n",
       "      <th>3</th>\n",
       "      <td>A regular fit tuxedo in virgin wool.  &lt;b&gt;Jacke...</td>\n",
       "      <td>Virgin Wool Tuxedo, Regular Fit | Stars/Glamour</td>\n",
       "      <td>This regular fit tuxedo by BOSS is crafted in ...</td>\n",
       "    </tr>\n",
       "    <tr>\n",
       "      <th>4</th>\n",
       "      <td>A slim-fit suit made from Italian Super 110s v...</td>\n",
       "      <td>Italian Virgin Wool Suit, Slim Fit | Huge/Genius</td>\n",
       "      <td>Our best-selling suit just got better with an ...</td>\n",
       "    </tr>\n",
       "  </tbody>\n",
       "</table>\n",
       "</div>"
      ]
     },
     "metadata": {},
     "execution_count": 30
    }
   ],
   "metadata": {}
  },
  {
   "cell_type": "code",
   "execution_count": 31,
   "source": [
    "df = df.stack().reset_index() # all in one column"
   ],
   "outputs": [],
   "metadata": {}
  },
  {
   "cell_type": "code",
   "execution_count": 32,
   "source": [
    "df = df.drop(columns=['level_0', 'level_1'])\r\n",
    "df.columns = ['sentences']\r\n",
    "df.head()"
   ],
   "outputs": [
    {
     "output_type": "execute_result",
     "data": {
      "text/plain": [
       "                                           sentences\n",
       "0  V-neck Solid Small embossed tonal logo detail ...\n",
       "1           Stretch Cotton V-Neck T-Shirt | Dredosos\n",
       "2  This t-shirt by HUGO is crafted from cotton wi...\n",
       "3  Cow skin Basket weave printed texture Tonal sq...\n",
       "4                  Leather belt with embossed detail"
      ],
      "text/html": [
       "<div>\n",
       "<style scoped>\n",
       "    .dataframe tbody tr th:only-of-type {\n",
       "        vertical-align: middle;\n",
       "    }\n",
       "\n",
       "    .dataframe tbody tr th {\n",
       "        vertical-align: top;\n",
       "    }\n",
       "\n",
       "    .dataframe thead th {\n",
       "        text-align: right;\n",
       "    }\n",
       "</style>\n",
       "<table border=\"1\" class=\"dataframe\">\n",
       "  <thead>\n",
       "    <tr style=\"text-align: right;\">\n",
       "      <th></th>\n",
       "      <th>sentences</th>\n",
       "    </tr>\n",
       "  </thead>\n",
       "  <tbody>\n",
       "    <tr>\n",
       "      <th>0</th>\n",
       "      <td>V-neck Solid Small embossed tonal logo detail ...</td>\n",
       "    </tr>\n",
       "    <tr>\n",
       "      <th>1</th>\n",
       "      <td>Stretch Cotton V-Neck T-Shirt | Dredosos</td>\n",
       "    </tr>\n",
       "    <tr>\n",
       "      <th>2</th>\n",
       "      <td>This t-shirt by HUGO is crafted from cotton wi...</td>\n",
       "    </tr>\n",
       "    <tr>\n",
       "      <th>3</th>\n",
       "      <td>Cow skin Basket weave printed texture Tonal sq...</td>\n",
       "    </tr>\n",
       "    <tr>\n",
       "      <th>4</th>\n",
       "      <td>Leather belt with embossed detail</td>\n",
       "    </tr>\n",
       "  </tbody>\n",
       "</table>\n",
       "</div>"
      ]
     },
     "metadata": {},
     "execution_count": 32
    }
   ],
   "metadata": {}
  },
  {
   "cell_type": "code",
   "execution_count": 33,
   "source": [
    "def pre_process(text):\r\n",
    "    # lowercase\r\n",
    "    text=text.lower()\r\n",
    "    \r\n",
    "    #remove tags\r\n",
    "    text=re.sub(\"</?.*?>\",\" <> \",text)\r\n",
    "    \r\n",
    "    # remove special characters and digits\r\n",
    "    text=re.sub(\"(\\\\d|\\\\W)+\",\" \",text)\r\n",
    "    \r\n",
    "    return text"
   ],
   "outputs": [],
   "metadata": {}
  },
  {
   "cell_type": "code",
   "execution_count": 34,
   "source": [
    "df['sentences'] = df['sentences'].apply(lambda x:pre_process(x))\r\n",
    "df.head()"
   ],
   "outputs": [
    {
     "output_type": "execute_result",
     "data": {
      "text/plain": [
       "                                           sentences\n",
       "0  v neck solid small embossed tonal logo detail ...\n",
       "1             stretch cotton v neck t shirt dredosos\n",
       "2  this t shirt by hugo is crafted from cotton wi...\n",
       "3  cow skin basket weave printed texture tonal sq...\n",
       "4                  leather belt with embossed detail"
      ],
      "text/html": [
       "<div>\n",
       "<style scoped>\n",
       "    .dataframe tbody tr th:only-of-type {\n",
       "        vertical-align: middle;\n",
       "    }\n",
       "\n",
       "    .dataframe tbody tr th {\n",
       "        vertical-align: top;\n",
       "    }\n",
       "\n",
       "    .dataframe thead th {\n",
       "        text-align: right;\n",
       "    }\n",
       "</style>\n",
       "<table border=\"1\" class=\"dataframe\">\n",
       "  <thead>\n",
       "    <tr style=\"text-align: right;\">\n",
       "      <th></th>\n",
       "      <th>sentences</th>\n",
       "    </tr>\n",
       "  </thead>\n",
       "  <tbody>\n",
       "    <tr>\n",
       "      <th>0</th>\n",
       "      <td>v neck solid small embossed tonal logo detail ...</td>\n",
       "    </tr>\n",
       "    <tr>\n",
       "      <th>1</th>\n",
       "      <td>stretch cotton v neck t shirt dredosos</td>\n",
       "    </tr>\n",
       "    <tr>\n",
       "      <th>2</th>\n",
       "      <td>this t shirt by hugo is crafted from cotton wi...</td>\n",
       "    </tr>\n",
       "    <tr>\n",
       "      <th>3</th>\n",
       "      <td>cow skin basket weave printed texture tonal sq...</td>\n",
       "    </tr>\n",
       "    <tr>\n",
       "      <th>4</th>\n",
       "      <td>leather belt with embossed detail</td>\n",
       "    </tr>\n",
       "  </tbody>\n",
       "</table>\n",
       "</div>"
      ]
     },
     "metadata": {},
     "execution_count": 34
    }
   ],
   "metadata": {}
  },
  {
   "cell_type": "code",
   "execution_count": 35,
   "source": [
    "sentences_arr = df['sentences'].tolist()\r\n",
    "out = io.open('product_text.txt', 'w', encoding='utf-8')\r\n",
    "\r\n",
    "for sentence in sentences_arr:\r\n",
    "  out.write(sentence + \"\\n\")\r\n",
    "out.close()"
   ],
   "outputs": [],
   "metadata": {}
  },
  {
   "cell_type": "markdown",
   "source": [
    "## Preprocessing in one function"
   ],
   "metadata": {}
  },
  {
   "cell_type": "code",
   "execution_count": 36,
   "source": [
    "# Generates skip-gram pairs with negative sampling for a list of sequences\r\n",
    "# (int-encoded sentences) based on window size, number of negative samples\r\n",
    "# and vocabulary size.\r\n",
    "def generate_training_data(sequences, window_size, num_ns, vocab_size):\r\n",
    "  # Elements of each training example are appended to these lists.\r\n",
    "  targets, contexts, labels = [], [], []\r\n",
    "\r\n",
    "  # Build the sampling table for vocab_size tokens.\r\n",
    "  sampling_table = tf.keras.preprocessing.sequence.make_sampling_table(vocab_size)\r\n",
    "\r\n",
    "  # Iterate over all sequences (sentences) in dataset.\r\n",
    "  for sequence in tqdm.tqdm(sequences):\r\n",
    "\r\n",
    "    # Generate positive skip-gram pairs for a sequence (sentence).\r\n",
    "    positive_skip_grams, _ = tf.keras.preprocessing.sequence.skipgrams(\r\n",
    "          sequence,\r\n",
    "          vocabulary_size=vocab_size,\r\n",
    "          sampling_table=sampling_table,\r\n",
    "          window_size=window_size,\r\n",
    "          negative_samples=0)\r\n",
    "\r\n",
    "    # Iterate over each positive skip-gram pair to produce training examples\r\n",
    "    # with positive context word and negative samples.\r\n",
    "    for target_word, context_word in positive_skip_grams:\r\n",
    "      context_class = tf.expand_dims(\r\n",
    "          tf.constant([context_word], dtype=\"int64\"), 1)\r\n",
    "      negative_sampling_candidates, _, _ = tf.random.log_uniform_candidate_sampler(\r\n",
    "          true_classes=context_class,\r\n",
    "          num_true=1,\r\n",
    "          num_sampled=num_ns,\r\n",
    "          unique=True,\r\n",
    "          range_max=vocab_size,\r\n",
    "          name=\"negative_sampling\")\r\n",
    "\r\n",
    "      # Build context and label vectors (for one target word)\r\n",
    "      negative_sampling_candidates = tf.expand_dims(\r\n",
    "          negative_sampling_candidates, 1)\r\n",
    "\r\n",
    "      context = tf.concat([context_class, negative_sampling_candidates], 0)\r\n",
    "      label = tf.constant([1] + [0]*num_ns, dtype=\"int64\")\r\n",
    "\r\n",
    "      # Append each element from the training example to global lists.\r\n",
    "      targets.append(target_word)\r\n",
    "      contexts.append(context)\r\n",
    "      labels.append(label)\r\n",
    "\r\n",
    "  return targets, contexts, labels\r\n"
   ],
   "outputs": [],
   "metadata": {}
  },
  {
   "cell_type": "code",
   "execution_count": 37,
   "source": [
    "# path_to_file = tf.keras.utils.get_file('shakespeare.txt', 'https://storage.googleapis.com/download.tensorflow.org/data/shakespeare.txt')\r\n",
    "path_to_file = r\"C:\\Users\\lucas\\Documents\\Github\\BA_Jupyter_Notebook\\index_synonyms\\product_text.txt\""
   ],
   "outputs": [],
   "metadata": {}
  },
  {
   "cell_type": "code",
   "execution_count": 38,
   "source": [
    "with open(path_to_file, encoding=\"utf8\") as f: \r\n",
    "  lines = f.read().splitlines()\r\n",
    "for line in lines[:5]:\r\n",
    "  print(line)"
   ],
   "outputs": [
    {
     "output_type": "stream",
     "name": "stdout",
     "text": [
      "v neck solid small embossed tonal logo detail above hem stretch cotton\n",
      "stretch cotton v neck t shirt dredosos\n",
      "this t shirt by hugo is crafted from cotton with a hint of stretch for comfort a small embossed tonal logo detail above the hem completes this v neck style \n",
      "cow skin basket weave printed texture tonal square pin buckle logo printed at buckle width in cm \n",
      "leather belt with embossed detail\n"
     ]
    }
   ],
   "metadata": {}
  },
  {
   "cell_type": "code",
   "execution_count": 39,
   "source": [
    "text_ds = tf.data.TextLineDataset(path_to_file).filter(lambda x: tf.cast(tf.strings.length(x), bool))"
   ],
   "outputs": [],
   "metadata": {}
  },
  {
   "cell_type": "code",
   "execution_count": 40,
   "source": [
    "import matplotlib.pyplot as plt\r\n",
    "\r\n",
    "num_words = [len(x.split()) for x in df['sentences'].tolist() if len(x.split()) > 0]\r\n",
    "num_words\r\n",
    "plt.hist(num_words, bins=500)\r\n",
    "plt.show()"
   ],
   "outputs": [
    {
     "output_type": "display_data",
     "data": {
      "text/plain": [
       "<Figure size 432x288 with 1 Axes>"
      ],
      "image/png": "[encoded data removed]",
      "image/svg+xml": "<?xml version=\"1.0\" encoding=\"utf-8\" standalone=\"no\"?>\r\n<!DOCTYPE svg PUBLIC \"-//W3C//DTD SVG 1.1//EN\"\r\n  \"http://www.w3.org/Graphics/SVG/1.1/DTD/svg11.dtd\">\r\n<svg height=\"248.518125pt\" version=\"1.1\" viewBox=\"0 0 375.2875 248.518125\" width=\"375.2875pt\" xmlns=\"http://www.w3.org/2000/svg\" xmlns:xlink=\"http://www.w3.org/1999/xlink\">\r\n <metadata>\r\n  <rdf:RDF xmlns:cc=\"http://creativecommons.org/ns#\" xmlns:dc=\"http://purl.org/dc/elements/1.1/\" xmlns:rdf=\"http://www.w3.org/1999/02/22-rdf-syntax-ns#\">\r\n   <cc:Work>\r\n    <dc:type rdf:resource=\"http://purl.org/dc/dcmitype/StillImage\"/>\r\n    <dc:date>2021-07-20T14:50:19.202709</dc:date>\r\n    <dc:format>image/svg+xml</dc:format>\r\n    <dc:creator>\r\n     <cc:Agent>\r\n      <dc:title>Matplotlib v3.4.2, https://matplotlib.org/</dc:title>\r\n     </cc:Agent>\r\n    </dc:creator>\r\n   </cc:Work>\r\n  </rdf:RDF>\r\n </metadata>\r\n <defs>\r\n  <style type=\"text/css\">*{stroke-linecap:butt;stroke-linejoin:round;}</style>\r\n </defs>\r\n <g id=\"figure_1\">\r\n  <g id=\"patch_1\">\r\n   <path d=\"M 0 248.518125 \r\nL 375.2875 248.518125 \r\nL 375.2875 0 \r\nL 0 0 \r\nz\r\n\" style=\"fill:none;\"/>\r\n  </g>\r\n  <g id=\"axes_1\">\r\n   <g id=\"patch_2\">\r\n    <path d=\"M 33.2875 224.64 \r\nL 368.0875 224.64 \r\nL 368.0875 7.2 \r\nL 33.2875 7.2 \r\nz\r\n\" style=\"fill:#ffffff;\"/>\r\n   </g>\r\n   <g id=\"patch_3\">\r\n    <path clip-path=\"url(#pd5dabb1f39)\" d=\"M 48.505682 224.64 \r\nL 49.114409 224.64 \r\nL 49.114409 223.962511 \r\nL 48.505682 223.962511 \r\nz\r\n\" style=\"fill:#1f77b4;\"/>\r\n   </g>\r\n   <g id=\"patch_4\">\r\n    <path clip-path=\"url(#pd5dabb1f39)\" d=\"M 49.114409 224.64 \r\nL 49.723136 224.64 \r\nL 49.723136 214.929329 \r\nL 49.114409 214.929329 \r\nz\r\n\" style=\"fill:#1f77b4;\"/>\r\n   </g>\r\n   <g id=\"patch_5\">\r\n    <path clip-path=\"url(#pd5dabb1f39)\" d=\"M 49.723136 224.64 \r\nL 50.331864 224.64 \r\nL 50.331864 224.64 \r\nL 49.723136 224.64 \r\nz\r\n\" style=\"fill:#1f77b4;\"/>\r\n   </g>\r\n   <g id=\"patch_6\">\r\n    <path clip-path=\"url(#pd5dabb1f39)\" d=\"M 50.331864 224.64 \r\nL 50.940591 224.64 \r\nL 50.940591 217.187624 \r\nL 50.331864 217.187624 \r\nz\r\n\" style=\"fill:#1f77b4;\"/>\r\n   </g>\r\n   <g id=\"patch_7\">\r\n    <path clip-path=\"url(#pd5dabb1f39)\" d=\"M 50.940591 224.64 \r\nL 51.549318 224.64 \r\nL 51.549318 224.64 \r\nL 50.940591 224.64 \r\nz\r\n\" style=\"fill:#1f77b4;\"/>\r\n   </g>\r\n   <g id=\"patch_8\">\r\n    <path clip-path=\"url(#pd5dabb1f39)\" d=\"M 51.549318 224.64 \r\nL 52.158045 224.64 \r\nL 52.158045 213.800181 \r\nL 51.549318 213.800181 \r\nz\r\n\" style=\"fill:#1f77b4;\"/>\r\n   </g>\r\n   <g id=\"patch_9\">\r\n    <path clip-path=\"url(#pd5dabb1f39)\" d=\"M 52.158045 224.64 \r\nL 52.766773 224.64 \r\nL 52.766773 224.64 \r\nL 52.158045 224.64 \r\nz\r\n\" style=\"fill:#1f77b4;\"/>\r\n   </g>\r\n   <g id=\"patch_10\">\r\n    <path clip-path=\"url(#pd5dabb1f39)\" d=\"M 52.766773 224.64 \r\nL 53.3755 224.64 \r\nL 53.3755 201.605384 \r\nL 52.766773 201.605384 \r\nz\r\n\" style=\"fill:#1f77b4;\"/>\r\n   </g>\r\n   <g id=\"patch_11\">\r\n    <path clip-path=\"url(#pd5dabb1f39)\" d=\"M 53.3755 224.64 \r\nL 53.984227 224.64 \r\nL 53.984227 99.756249 \r\nL 53.3755 99.756249 \r\nz\r\n\" style=\"fill:#1f77b4;\"/>\r\n   </g>\r\n   <g id=\"patch_12\">\r\n    <path clip-path=\"url(#pd5dabb1f39)\" d=\"M 53.984227 224.64 \r\nL 54.592955 224.64 \r\nL 54.592955 224.64 \r\nL 53.984227 224.64 \r\nz\r\n\" style=\"fill:#1f77b4;\"/>\r\n   </g>\r\n   <g id=\"patch_13\">\r\n    <path clip-path=\"url(#pd5dabb1f39)\" d=\"M 54.592955 224.64 \r\nL 55.201682 224.64 \r\nL 55.201682 21.167559 \r\nL 54.592955 21.167559 \r\nz\r\n\" style=\"fill:#1f77b4;\"/>\r\n   </g>\r\n   <g id=\"patch_14\">\r\n    <path clip-path=\"url(#pd5dabb1f39)\" d=\"M 55.201682 224.64 \r\nL 55.810409 224.64 \r\nL 55.810409 224.64 \r\nL 55.201682 224.64 \r\nz\r\n\" style=\"fill:#1f77b4;\"/>\r\n   </g>\r\n   <g id=\"patch_15\">\r\n    <path clip-path=\"url(#pd5dabb1f39)\" d=\"M 55.810409 224.64 \r\nL 56.419136 224.64 \r\nL 56.419136 17.554286 \r\nL 55.810409 17.554286 \r\nz\r\n\" style=\"fill:#1f77b4;\"/>\r\n   </g>\r\n   <g id=\"patch_16\">\r\n    <path clip-path=\"url(#pd5dabb1f39)\" d=\"M 56.419136 224.64 \r\nL 57.027864 224.64 \r\nL 57.027864 224.64 \r\nL 56.419136 224.64 \r\nz\r\n\" style=\"fill:#1f77b4;\"/>\r\n   </g>\r\n   <g id=\"patch_17\">\r\n    <path clip-path=\"url(#pd5dabb1f39)\" d=\"M 57.027864 224.64 \r\nL 57.636591 224.64 \r\nL 57.636591 23.651684 \r\nL 57.027864 23.651684 \r\nz\r\n\" style=\"fill:#1f77b4;\"/>\r\n   </g>\r\n   <g id=\"patch_18\">\r\n    <path clip-path=\"url(#pd5dabb1f39)\" d=\"M 57.636591 224.64 \r\nL 58.245318 224.64 \r\nL 58.245318 224.64 \r\nL 57.636591 224.64 \r\nz\r\n\" style=\"fill:#1f77b4;\"/>\r\n   </g>\r\n   <g id=\"patch_19\">\r\n    <path clip-path=\"url(#pd5dabb1f39)\" d=\"M 58.245318 224.64 \r\nL 58.854045 224.64 \r\nL 58.854045 187.82978 \r\nL 58.245318 187.82978 \r\nz\r\n\" style=\"fill:#1f77b4;\"/>\r\n   </g>\r\n   <g id=\"patch_20\">\r\n    <path clip-path=\"url(#pd5dabb1f39)\" d=\"M 58.854045 224.64 \r\nL 59.462773 224.64 \r\nL 59.462773 207.702782 \r\nL 58.854045 207.702782 \r\nz\r\n\" style=\"fill:#1f77b4;\"/>\r\n   </g>\r\n   <g id=\"patch_21\">\r\n    <path clip-path=\"url(#pd5dabb1f39)\" d=\"M 59.462773 224.64 \r\nL 60.0715 224.64 \r\nL 60.0715 224.64 \r\nL 59.462773 224.64 \r\nz\r\n\" style=\"fill:#1f77b4;\"/>\r\n   </g>\r\n   <g id=\"patch_22\">\r\n    <path clip-path=\"url(#pd5dabb1f39)\" d=\"M 60.0715 224.64 \r\nL 60.680227 224.64 \r\nL 60.680227 213.574351 \r\nL 60.0715 213.574351 \r\nz\r\n\" style=\"fill:#1f77b4;\"/>\r\n   </g>\r\n   <g id=\"patch_23\">\r\n    <path clip-path=\"url(#pd5dabb1f39)\" d=\"M 60.680227 224.64 \r\nL 61.288955 224.64 \r\nL 61.288955 224.64 \r\nL 60.680227 224.64 \r\nz\r\n\" style=\"fill:#1f77b4;\"/>\r\n   </g>\r\n   <g id=\"patch_24\">\r\n    <path clip-path=\"url(#pd5dabb1f39)\" d=\"M 61.288955 224.64 \r\nL 61.897682 224.64 \r\nL 61.897682 216.735965 \r\nL 61.288955 216.735965 \r\nz\r\n\" style=\"fill:#1f77b4;\"/>\r\n   </g>\r\n   <g id=\"patch_25\">\r\n    <path clip-path=\"url(#pd5dabb1f39)\" d=\"M 61.897682 224.64 \r\nL 62.506409 224.64 \r\nL 62.506409 224.64 \r\nL 61.897682 224.64 \r\nz\r\n\" style=\"fill:#1f77b4;\"/>\r\n   </g>\r\n   <g id=\"patch_26\">\r\n    <path clip-path=\"url(#pd5dabb1f39)\" d=\"M 62.506409 224.64 \r\nL 63.115136 224.64 \r\nL 63.115136 207.025294 \r\nL 62.506409 207.025294 \r\nz\r\n\" style=\"fill:#1f77b4;\"/>\r\n   </g>\r\n   <g id=\"patch_27\">\r\n    <path clip-path=\"url(#pd5dabb1f39)\" d=\"M 63.115136 224.64 \r\nL 63.723864 224.64 \r\nL 63.723864 207.251123 \r\nL 63.115136 207.251123 \r\nz\r\n\" style=\"fill:#1f77b4;\"/>\r\n   </g>\r\n   <g id=\"patch_28\">\r\n    <path clip-path=\"url(#pd5dabb1f39)\" d=\"M 63.723864 224.64 \r\nL 64.332591 224.64 \r\nL 64.332591 224.64 \r\nL 63.723864 224.64 \r\nz\r\n\" style=\"fill:#1f77b4;\"/>\r\n   </g>\r\n   <g id=\"patch_29\">\r\n    <path clip-path=\"url(#pd5dabb1f39)\" d=\"M 64.332591 224.64 \r\nL 64.941318 224.64 \r\nL 64.941318 207.702782 \r\nL 64.332591 207.702782 \r\nz\r\n\" style=\"fill:#1f77b4;\"/>\r\n   </g>\r\n   <g id=\"patch_30\">\r\n    <path clip-path=\"url(#pd5dabb1f39)\" d=\"M 64.941318 224.64 \r\nL 65.550045 224.64 \r\nL 65.550045 224.64 \r\nL 64.941318 224.64 \r\nz\r\n\" style=\"fill:#1f77b4;\"/>\r\n   </g>\r\n   <g id=\"patch_31\">\r\n    <path clip-path=\"url(#pd5dabb1f39)\" d=\"M 65.550045 224.64 \r\nL 66.158773 224.64 \r\nL 66.158773 207.928612 \r\nL 65.550045 207.928612 \r\nz\r\n\" style=\"fill:#1f77b4;\"/>\r\n   </g>\r\n   <g id=\"patch_32\">\r\n    <path clip-path=\"url(#pd5dabb1f39)\" d=\"M 66.158773 224.64 \r\nL 66.7675 224.64 \r\nL 66.7675 224.64 \r\nL 66.158773 224.64 \r\nz\r\n\" style=\"fill:#1f77b4;\"/>\r\n   </g>\r\n   <g id=\"patch_33\">\r\n    <path clip-path=\"url(#pd5dabb1f39)\" d=\"M 66.7675 224.64 \r\nL 67.376227 224.64 \r\nL 67.376227 209.283589 \r\nL 66.7675 209.283589 \r\nz\r\n\" style=\"fill:#1f77b4;\"/>\r\n   </g>\r\n   <g id=\"patch_34\">\r\n    <path clip-path=\"url(#pd5dabb1f39)\" d=\"M 67.376227 224.64 \r\nL 67.984955 224.64 \r\nL 67.984955 224.64 \r\nL 67.376227 224.64 \r\nz\r\n\" style=\"fill:#1f77b4;\"/>\r\n   </g>\r\n   <g id=\"patch_35\">\r\n    <path clip-path=\"url(#pd5dabb1f39)\" d=\"M 67.984955 224.64 \r\nL 68.593682 224.64 \r\nL 68.593682 209.283589 \r\nL 67.984955 209.283589 \r\nz\r\n\" style=\"fill:#1f77b4;\"/>\r\n   </g>\r\n   <g id=\"patch_36\">\r\n    <path clip-path=\"url(#pd5dabb1f39)\" d=\"M 68.593682 224.64 \r\nL 69.202409 224.64 \r\nL 69.202409 207.025294 \r\nL 68.593682 207.025294 \r\nz\r\n\" style=\"fill:#1f77b4;\"/>\r\n   </g>\r\n   <g id=\"patch_37\">\r\n    <path clip-path=\"url(#pd5dabb1f39)\" d=\"M 69.202409 224.64 \r\nL 69.811136 224.64 \r\nL 69.811136 224.64 \r\nL 69.202409 224.64 \r\nz\r\n\" style=\"fill:#1f77b4;\"/>\r\n   </g>\r\n   <g id=\"patch_38\">\r\n    <path clip-path=\"url(#pd5dabb1f39)\" d=\"M 69.811136 224.64 \r\nL 70.419864 224.64 \r\nL 70.419864 210.186908 \r\nL 69.811136 210.186908 \r\nz\r\n\" style=\"fill:#1f77b4;\"/>\r\n   </g>\r\n   <g id=\"patch_39\">\r\n    <path clip-path=\"url(#pd5dabb1f39)\" d=\"M 70.419864 224.64 \r\nL 71.028591 224.64 \r\nL 71.028591 224.64 \r\nL 70.419864 224.64 \r\nz\r\n\" style=\"fill:#1f77b4;\"/>\r\n   </g>\r\n   <g id=\"patch_40\">\r\n    <path clip-path=\"url(#pd5dabb1f39)\" d=\"M 71.028591 224.64 \r\nL 71.637318 224.64 \r\nL 71.637318 214.02601 \r\nL 71.028591 214.02601 \r\nz\r\n\" style=\"fill:#1f77b4;\"/>\r\n   </g>\r\n   <g id=\"patch_41\">\r\n    <path clip-path=\"url(#pd5dabb1f39)\" d=\"M 71.637318 224.64 \r\nL 72.246045 224.64 \r\nL 72.246045 224.64 \r\nL 71.637318 224.64 \r\nz\r\n\" style=\"fill:#1f77b4;\"/>\r\n   </g>\r\n   <g id=\"patch_42\">\r\n    <path clip-path=\"url(#pd5dabb1f39)\" d=\"M 72.246045 224.64 \r\nL 72.854773 224.64 \r\nL 72.854773 202.282873 \r\nL 72.246045 202.282873 \r\nz\r\n\" style=\"fill:#1f77b4;\"/>\r\n   </g>\r\n   <g id=\"patch_43\">\r\n    <path clip-path=\"url(#pd5dabb1f39)\" d=\"M 72.854773 224.64 \r\nL 73.4635 224.64 \r\nL 73.4635 224.64 \r\nL 72.854773 224.64 \r\nz\r\n\" style=\"fill:#1f77b4;\"/>\r\n   </g>\r\n   <g id=\"patch_44\">\r\n    <path clip-path=\"url(#pd5dabb1f39)\" d=\"M 73.4635 224.64 \r\nL 74.072227 224.64 \r\nL 74.072227 207.928612 \r\nL 73.4635 207.928612 \r\nz\r\n\" style=\"fill:#1f77b4;\"/>\r\n   </g>\r\n   <g id=\"patch_45\">\r\n    <path clip-path=\"url(#pd5dabb1f39)\" d=\"M 74.072227 224.64 \r\nL 74.680955 224.64 \r\nL 74.680955 209.283589 \r\nL 74.072227 209.283589 \r\nz\r\n\" style=\"fill:#1f77b4;\"/>\r\n   </g>\r\n   <g id=\"patch_46\">\r\n    <path clip-path=\"url(#pd5dabb1f39)\" d=\"M 74.680955 224.64 \r\nL 75.289682 224.64 \r\nL 75.289682 224.64 \r\nL 74.680955 224.64 \r\nz\r\n\" style=\"fill:#1f77b4;\"/>\r\n   </g>\r\n   <g id=\"patch_47\">\r\n    <path clip-path=\"url(#pd5dabb1f39)\" d=\"M 75.289682 224.64 \r\nL 75.898409 224.64 \r\nL 75.898409 195.507986 \r\nL 75.289682 195.507986 \r\nz\r\n\" style=\"fill:#1f77b4;\"/>\r\n   </g>\r\n   <g id=\"patch_48\">\r\n    <path clip-path=\"url(#pd5dabb1f39)\" d=\"M 75.898409 224.64 \r\nL 76.507136 224.64 \r\nL 76.507136 224.64 \r\nL 75.898409 224.64 \r\nz\r\n\" style=\"fill:#1f77b4;\"/>\r\n   </g>\r\n   <g id=\"patch_49\">\r\n    <path clip-path=\"url(#pd5dabb1f39)\" d=\"M 76.507136 224.64 \r\nL 77.115864 224.64 \r\nL 77.115864 186.700632 \r\nL 76.507136 186.700632 \r\nz\r\n\" style=\"fill:#1f77b4;\"/>\r\n   </g>\r\n   <g id=\"patch_50\">\r\n    <path clip-path=\"url(#pd5dabb1f39)\" d=\"M 77.115864 224.64 \r\nL 77.724591 224.64 \r\nL 77.724591 224.64 \r\nL 77.115864 224.64 \r\nz\r\n\" style=\"fill:#1f77b4;\"/>\r\n   </g>\r\n   <g id=\"patch_51\">\r\n    <path clip-path=\"url(#pd5dabb1f39)\" d=\"M 77.724591 224.64 \r\nL 78.333318 224.64 \r\nL 78.333318 210.412737 \r\nL 77.724591 210.412737 \r\nz\r\n\" style=\"fill:#1f77b4;\"/>\r\n   </g>\r\n   <g id=\"patch_52\">\r\n    <path clip-path=\"url(#pd5dabb1f39)\" d=\"M 78.333318 224.64 \r\nL 78.942045 224.64 \r\nL 78.942045 210.186908 \r\nL 78.333318 210.186908 \r\nz\r\n\" style=\"fill:#1f77b4;\"/>\r\n   </g>\r\n   <g id=\"patch_53\">\r\n    <path clip-path=\"url(#pd5dabb1f39)\" d=\"M 78.942045 224.64 \r\nL 79.550773 224.64 \r\nL 79.550773 224.64 \r\nL 78.942045 224.64 \r\nz\r\n\" style=\"fill:#1f77b4;\"/>\r\n   </g>\r\n   <g id=\"patch_54\">\r\n    <path clip-path=\"url(#pd5dabb1f39)\" d=\"M 79.550773 224.64 \r\nL 80.1595 224.64 \r\nL 80.1595 208.380271 \r\nL 79.550773 208.380271 \r\nz\r\n\" style=\"fill:#1f77b4;\"/>\r\n   </g>\r\n   <g id=\"patch_55\">\r\n    <path clip-path=\"url(#pd5dabb1f39)\" d=\"M 80.1595 224.64 \r\nL 80.768227 224.64 \r\nL 80.768227 224.64 \r\nL 80.1595 224.64 \r\nz\r\n\" style=\"fill:#1f77b4;\"/>\r\n   </g>\r\n   <g id=\"patch_56\">\r\n    <path clip-path=\"url(#pd5dabb1f39)\" d=\"M 80.768227 224.64 \r\nL 81.376955 224.64 \r\nL 81.376955 216.284306 \r\nL 80.768227 216.284306 \r\nz\r\n\" style=\"fill:#1f77b4;\"/>\r\n   </g>\r\n   <g id=\"patch_57\">\r\n    <path clip-path=\"url(#pd5dabb1f39)\" d=\"M 81.376955 224.64 \r\nL 81.985682 224.64 \r\nL 81.985682 224.64 \r\nL 81.376955 224.64 \r\nz\r\n\" style=\"fill:#1f77b4;\"/>\r\n   </g>\r\n   <g id=\"patch_58\">\r\n    <path clip-path=\"url(#pd5dabb1f39)\" d=\"M 81.985682 224.64 \r\nL 82.594409 224.64 \r\nL 82.594409 220.349238 \r\nL 81.985682 220.349238 \r\nz\r\n\" style=\"fill:#1f77b4;\"/>\r\n   </g>\r\n   <g id=\"patch_59\">\r\n    <path clip-path=\"url(#pd5dabb1f39)\" d=\"M 82.594409 224.64 \r\nL 83.203136 224.64 \r\nL 83.203136 224.64 \r\nL 82.594409 224.64 \r\nz\r\n\" style=\"fill:#1f77b4;\"/>\r\n   </g>\r\n   <g id=\"patch_60\">\r\n    <path clip-path=\"url(#pd5dabb1f39)\" d=\"M 83.203136 224.64 \r\nL 83.811864 224.64 \r\nL 83.811864 221.026727 \r\nL 83.203136 221.026727 \r\nz\r\n\" style=\"fill:#1f77b4;\"/>\r\n   </g>\r\n   <g id=\"patch_61\">\r\n    <path clip-path=\"url(#pd5dabb1f39)\" d=\"M 83.811864 224.64 \r\nL 84.420591 224.64 \r\nL 84.420591 218.316772 \r\nL 83.811864 218.316772 \r\nz\r\n\" style=\"fill:#1f77b4;\"/>\r\n   </g>\r\n   <g id=\"patch_62\">\r\n    <path clip-path=\"url(#pd5dabb1f39)\" d=\"M 84.420591 224.64 \r\nL 85.029318 224.64 \r\nL 85.029318 224.64 \r\nL 84.420591 224.64 \r\nz\r\n\" style=\"fill:#1f77b4;\"/>\r\n   </g>\r\n   <g id=\"patch_63\">\r\n    <path clip-path=\"url(#pd5dabb1f39)\" d=\"M 85.029318 224.64 \r\nL 85.638045 224.64 \r\nL 85.638045 219.44592 \r\nL 85.029318 219.44592 \r\nz\r\n\" style=\"fill:#1f77b4;\"/>\r\n   </g>\r\n   <g id=\"patch_64\">\r\n    <path clip-path=\"url(#pd5dabb1f39)\" d=\"M 85.638045 224.64 \r\nL 86.246773 224.64 \r\nL 86.246773 224.64 \r\nL 85.638045 224.64 \r\nz\r\n\" style=\"fill:#1f77b4;\"/>\r\n   </g>\r\n   <g id=\"patch_65\">\r\n    <path clip-path=\"url(#pd5dabb1f39)\" d=\"M 86.246773 224.64 \r\nL 86.8555 224.64 \r\nL 86.8555 220.123409 \r\nL 86.246773 220.123409 \r\nz\r\n\" style=\"fill:#1f77b4;\"/>\r\n   </g>\r\n   <g id=\"patch_66\">\r\n    <path clip-path=\"url(#pd5dabb1f39)\" d=\"M 86.8555 224.64 \r\nL 87.464227 224.64 \r\nL 87.464227 224.64 \r\nL 86.8555 224.64 \r\nz\r\n\" style=\"fill:#1f77b4;\"/>\r\n   </g>\r\n   <g id=\"patch_67\">\r\n    <path clip-path=\"url(#pd5dabb1f39)\" d=\"M 87.464227 224.64 \r\nL 88.072955 224.64 \r\nL 88.072955 219.22009 \r\nL 87.464227 219.22009 \r\nz\r\n\" style=\"fill:#1f77b4;\"/>\r\n   </g>\r\n   <g id=\"patch_68\">\r\n    <path clip-path=\"url(#pd5dabb1f39)\" d=\"M 88.072955 224.64 \r\nL 88.681682 224.64 \r\nL 88.681682 224.64 \r\nL 88.072955 224.64 \r\nz\r\n\" style=\"fill:#1f77b4;\"/>\r\n   </g>\r\n   <g id=\"patch_69\">\r\n    <path clip-path=\"url(#pd5dabb1f39)\" d=\"M 88.681682 224.64 \r\nL 89.290409 224.64 \r\nL 89.290409 210.186908 \r\nL 88.681682 210.186908 \r\nz\r\n\" style=\"fill:#1f77b4;\"/>\r\n   </g>\r\n   <g id=\"patch_70\">\r\n    <path clip-path=\"url(#pd5dabb1f39)\" d=\"M 89.290409 224.64 \r\nL 89.899136 224.64 \r\nL 89.899136 215.606817 \r\nL 89.290409 215.606817 \r\nz\r\n\" style=\"fill:#1f77b4;\"/>\r\n   </g>\r\n   <g id=\"patch_71\">\r\n    <path clip-path=\"url(#pd5dabb1f39)\" d=\"M 89.899136 224.64 \r\nL 90.507864 224.64 \r\nL 90.507864 224.64 \r\nL 89.899136 224.64 \r\nz\r\n\" style=\"fill:#1f77b4;\"/>\r\n   </g>\r\n   <g id=\"patch_72\">\r\n    <path clip-path=\"url(#pd5dabb1f39)\" d=\"M 90.507864 224.64 \r\nL 91.116591 224.64 \r\nL 91.116591 214.929329 \r\nL 90.507864 214.929329 \r\nz\r\n\" style=\"fill:#1f77b4;\"/>\r\n   </g>\r\n   <g id=\"patch_73\">\r\n    <path clip-path=\"url(#pd5dabb1f39)\" d=\"M 91.116591 224.64 \r\nL 91.725318 224.64 \r\nL 91.725318 224.64 \r\nL 91.116591 224.64 \r\nz\r\n\" style=\"fill:#1f77b4;\"/>\r\n   </g>\r\n   <g id=\"patch_74\">\r\n    <path clip-path=\"url(#pd5dabb1f39)\" d=\"M 91.725318 224.64 \r\nL 92.334045 224.64 \r\nL 92.334045 213.348522 \r\nL 91.725318 213.348522 \r\nz\r\n\" style=\"fill:#1f77b4;\"/>\r\n   </g>\r\n   <g id=\"patch_75\">\r\n    <path clip-path=\"url(#pd5dabb1f39)\" d=\"M 92.334045 224.64 \r\nL 92.942773 224.64 \r\nL 92.942773 224.64 \r\nL 92.334045 224.64 \r\nz\r\n\" style=\"fill:#1f77b4;\"/>\r\n   </g>\r\n   <g id=\"patch_76\">\r\n    <path clip-path=\"url(#pd5dabb1f39)\" d=\"M 92.942773 224.64 \r\nL 93.5515 224.64 \r\nL 93.5515 211.090226 \r\nL 92.942773 211.090226 \r\nz\r\n\" style=\"fill:#1f77b4;\"/>\r\n   </g>\r\n   <g id=\"patch_77\">\r\n    <path clip-path=\"url(#pd5dabb1f39)\" d=\"M 93.5515 224.64 \r\nL 94.160227 224.64 \r\nL 94.160227 210.186908 \r\nL 93.5515 210.186908 \r\nz\r\n\" style=\"fill:#1f77b4;\"/>\r\n   </g>\r\n   <g id=\"patch_78\">\r\n    <path clip-path=\"url(#pd5dabb1f39)\" d=\"M 94.160227 224.64 \r\nL 94.768955 224.64 \r\nL 94.768955 224.64 \r\nL 94.160227 224.64 \r\nz\r\n\" style=\"fill:#1f77b4;\"/>\r\n   </g>\r\n   <g id=\"patch_79\">\r\n    <path clip-path=\"url(#pd5dabb1f39)\" d=\"M 94.768955 224.64 \r\nL 95.377682 224.64 \r\nL 95.377682 202.282873 \r\nL 94.768955 202.282873 \r\nz\r\n\" style=\"fill:#1f77b4;\"/>\r\n   </g>\r\n   <g id=\"patch_80\">\r\n    <path clip-path=\"url(#pd5dabb1f39)\" d=\"M 95.377682 224.64 \r\nL 95.986409 224.64 \r\nL 95.986409 224.64 \r\nL 95.377682 224.64 \r\nz\r\n\" style=\"fill:#1f77b4;\"/>\r\n   </g>\r\n   <g id=\"patch_81\">\r\n    <path clip-path=\"url(#pd5dabb1f39)\" d=\"M 95.986409 224.64 \r\nL 96.595136 224.64 \r\nL 96.595136 205.218657 \r\nL 95.986409 205.218657 \r\nz\r\n\" style=\"fill:#1f77b4;\"/>\r\n   </g>\r\n   <g id=\"patch_82\">\r\n    <path clip-path=\"url(#pd5dabb1f39)\" d=\"M 96.595136 224.64 \r\nL 97.203864 224.64 \r\nL 97.203864 224.64 \r\nL 96.595136 224.64 \r\nz\r\n\" style=\"fill:#1f77b4;\"/>\r\n   </g>\r\n   <g id=\"patch_83\">\r\n    <path clip-path=\"url(#pd5dabb1f39)\" d=\"M 97.203864 224.64 \r\nL 97.812591 224.64 \r\nL 97.812591 200.476236 \r\nL 97.203864 200.476236 \r\nz\r\n\" style=\"fill:#1f77b4;\"/>\r\n   </g>\r\n   <g id=\"patch_84\">\r\n    <path clip-path=\"url(#pd5dabb1f39)\" d=\"M 97.812591 224.64 \r\nL 98.421318 224.64 \r\nL 98.421318 224.64 \r\nL 97.812591 224.64 \r\nz\r\n\" style=\"fill:#1f77b4;\"/>\r\n   </g>\r\n   <g id=\"patch_85\">\r\n    <path clip-path=\"url(#pd5dabb1f39)\" d=\"M 98.421318 224.64 \r\nL 99.030045 224.64 \r\nL 99.030045 199.121259 \r\nL 98.421318 199.121259 \r\nz\r\n\" style=\"fill:#1f77b4;\"/>\r\n   </g>\r\n   <g id=\"patch_86\">\r\n    <path clip-path=\"url(#pd5dabb1f39)\" d=\"M 99.030045 224.64 \r\nL 99.638773 224.64 \r\nL 99.638773 196.862963 \r\nL 99.030045 196.862963 \r\nz\r\n\" style=\"fill:#1f77b4;\"/>\r\n   </g>\r\n   <g id=\"patch_87\">\r\n    <path clip-path=\"url(#pd5dabb1f39)\" d=\"M 99.638773 224.64 \r\nL 100.2475 224.64 \r\nL 100.2475 224.64 \r\nL 99.638773 224.64 \r\nz\r\n\" style=\"fill:#1f77b4;\"/>\r\n   </g>\r\n   <g id=\"patch_88\">\r\n    <path clip-path=\"url(#pd5dabb1f39)\" d=\"M 100.2475 224.64 \r\nL 100.856227 224.64 \r\nL 100.856227 198.6696 \r\nL 100.2475 198.6696 \r\nz\r\n\" style=\"fill:#1f77b4;\"/>\r\n   </g>\r\n   <g id=\"patch_89\">\r\n    <path clip-path=\"url(#pd5dabb1f39)\" d=\"M 100.856227 224.64 \r\nL 101.464955 224.64 \r\nL 101.464955 224.64 \r\nL 100.856227 224.64 \r\nz\r\n\" style=\"fill:#1f77b4;\"/>\r\n   </g>\r\n   <g id=\"patch_90\">\r\n    <path clip-path=\"url(#pd5dabb1f39)\" d=\"M 101.464955 224.64 \r\nL 102.073682 224.64 \r\nL 102.073682 197.540452 \r\nL 101.464955 197.540452 \r\nz\r\n\" style=\"fill:#1f77b4;\"/>\r\n   </g>\r\n   <g id=\"patch_91\">\r\n    <path clip-path=\"url(#pd5dabb1f39)\" d=\"M 102.073682 224.64 \r\nL 102.682409 224.64 \r\nL 102.682409 224.64 \r\nL 102.073682 224.64 \r\nz\r\n\" style=\"fill:#1f77b4;\"/>\r\n   </g>\r\n   <g id=\"patch_92\">\r\n    <path clip-path=\"url(#pd5dabb1f39)\" d=\"M 102.682409 224.64 \r\nL 103.291136 224.64 \r\nL 103.291136 197.992111 \r\nL 102.682409 197.992111 \r\nz\r\n\" style=\"fill:#1f77b4;\"/>\r\n   </g>\r\n   <g id=\"patch_93\">\r\n    <path clip-path=\"url(#pd5dabb1f39)\" d=\"M 103.291136 224.64 \r\nL 103.899864 224.64 \r\nL 103.899864 224.64 \r\nL 103.291136 224.64 \r\nz\r\n\" style=\"fill:#1f77b4;\"/>\r\n   </g>\r\n   <g id=\"patch_94\">\r\n    <path clip-path=\"url(#pd5dabb1f39)\" d=\"M 103.899864 224.64 \r\nL 104.508591 224.64 \r\nL 104.508591 200.250407 \r\nL 103.899864 200.250407 \r\nz\r\n\" style=\"fill:#1f77b4;\"/>\r\n   </g>\r\n   <g id=\"patch_95\">\r\n    <path clip-path=\"url(#pd5dabb1f39)\" d=\"M 104.508591 224.64 \r\nL 105.117318 224.64 \r\nL 105.117318 196.862963 \r\nL 104.508591 196.862963 \r\nz\r\n\" style=\"fill:#1f77b4;\"/>\r\n   </g>\r\n   <g id=\"patch_96\">\r\n    <path clip-path=\"url(#pd5dabb1f39)\" d=\"M 105.117318 224.64 \r\nL 105.726045 224.64 \r\nL 105.726045 224.64 \r\nL 105.117318 224.64 \r\nz\r\n\" style=\"fill:#1f77b4;\"/>\r\n   </g>\r\n   <g id=\"patch_97\">\r\n    <path clip-path=\"url(#pd5dabb1f39)\" d=\"M 105.726045 224.64 \r\nL 106.334773 224.64 \r\nL 106.334773 202.057043 \r\nL 105.726045 202.057043 \r\nz\r\n\" style=\"fill:#1f77b4;\"/>\r\n   </g>\r\n   <g id=\"patch_98\">\r\n    <path clip-path=\"url(#pd5dabb1f39)\" d=\"M 106.334773 224.64 \r\nL 106.9435 224.64 \r\nL 106.9435 224.64 \r\nL 106.334773 224.64 \r\nz\r\n\" style=\"fill:#1f77b4;\"/>\r\n   </g>\r\n   <g id=\"patch_99\">\r\n    <path clip-path=\"url(#pd5dabb1f39)\" d=\"M 106.9435 224.64 \r\nL 107.552227 224.64 \r\nL 107.552227 199.347088 \r\nL 106.9435 199.347088 \r\nz\r\n\" style=\"fill:#1f77b4;\"/>\r\n   </g>\r\n   <g id=\"patch_100\">\r\n    <path clip-path=\"url(#pd5dabb1f39)\" d=\"M 107.552227 224.64 \r\nL 108.160955 224.64 \r\nL 108.160955 224.64 \r\nL 107.552227 224.64 \r\nz\r\n\" style=\"fill:#1f77b4;\"/>\r\n   </g>\r\n   <g id=\"patch_101\">\r\n    <path clip-path=\"url(#pd5dabb1f39)\" d=\"M 108.160955 224.64 \r\nL 108.769682 224.64 \r\nL 108.769682 200.927895 \r\nL 108.160955 200.927895 \r\nz\r\n\" style=\"fill:#1f77b4;\"/>\r\n   </g>\r\n   <g id=\"patch_102\">\r\n    <path clip-path=\"url(#pd5dabb1f39)\" d=\"M 108.769682 224.64 \r\nL 109.378409 224.64 \r\nL 109.378409 199.347088 \r\nL 108.769682 199.347088 \r\nz\r\n\" style=\"fill:#1f77b4;\"/>\r\n   </g>\r\n   <g id=\"patch_103\">\r\n    <path clip-path=\"url(#pd5dabb1f39)\" d=\"M 109.378409 224.64 \r\nL 109.987136 224.64 \r\nL 109.987136 224.64 \r\nL 109.378409 224.64 \r\nz\r\n\" style=\"fill:#1f77b4;\"/>\r\n   </g>\r\n   <g id=\"patch_104\">\r\n    <path clip-path=\"url(#pd5dabb1f39)\" d=\"M 109.987136 224.64 \r\nL 110.595864 224.64 \r\nL 110.595864 202.508702 \r\nL 109.987136 202.508702 \r\nz\r\n\" style=\"fill:#1f77b4;\"/>\r\n   </g>\r\n   <g id=\"patch_105\">\r\n    <path clip-path=\"url(#pd5dabb1f39)\" d=\"M 110.595864 224.64 \r\nL 111.204591 224.64 \r\nL 111.204591 224.64 \r\nL 110.595864 224.64 \r\nz\r\n\" style=\"fill:#1f77b4;\"/>\r\n   </g>\r\n   <g id=\"patch_106\">\r\n    <path clip-path=\"url(#pd5dabb1f39)\" d=\"M 111.204591 224.64 \r\nL 111.813318 224.64 \r\nL 111.813318 200.250407 \r\nL 111.204591 200.250407 \r\nz\r\n\" style=\"fill:#1f77b4;\"/>\r\n   </g>\r\n   <g id=\"patch_107\">\r\n    <path clip-path=\"url(#pd5dabb1f39)\" d=\"M 111.813318 224.64 \r\nL 112.422045 224.64 \r\nL 112.422045 224.64 \r\nL 111.813318 224.64 \r\nz\r\n\" style=\"fill:#1f77b4;\"/>\r\n   </g>\r\n   <g id=\"patch_108\">\r\n    <path clip-path=\"url(#pd5dabb1f39)\" d=\"M 112.422045 224.64 \r\nL 113.030773 224.64 \r\nL 113.030773 206.121975 \r\nL 112.422045 206.121975 \r\nz\r\n\" style=\"fill:#1f77b4;\"/>\r\n   </g>\r\n   <g id=\"patch_109\">\r\n    <path clip-path=\"url(#pd5dabb1f39)\" d=\"M 113.030773 224.64 \r\nL 113.6395 224.64 \r\nL 113.6395 224.64 \r\nL 113.030773 224.64 \r\nz\r\n\" style=\"fill:#1f77b4;\"/>\r\n   </g>\r\n   <g id=\"patch_110\">\r\n    <path clip-path=\"url(#pd5dabb1f39)\" d=\"M 113.6395 224.64 \r\nL 114.248227 224.64 \r\nL 114.248227 206.573635 \r\nL 113.6395 206.573635 \r\nz\r\n\" style=\"fill:#1f77b4;\"/>\r\n   </g>\r\n   <g id=\"patch_111\">\r\n    <path clip-path=\"url(#pd5dabb1f39)\" d=\"M 114.248227 224.64 \r\nL 114.856955 224.64 \r\nL 114.856955 209.735248 \r\nL 114.248227 209.735248 \r\nz\r\n\" style=\"fill:#1f77b4;\"/>\r\n   </g>\r\n   <g id=\"patch_112\">\r\n    <path clip-path=\"url(#pd5dabb1f39)\" d=\"M 114.856955 224.64 \r\nL 115.465682 224.64 \r\nL 115.465682 224.64 \r\nL 114.856955 224.64 \r\nz\r\n\" style=\"fill:#1f77b4;\"/>\r\n   </g>\r\n   <g id=\"patch_113\">\r\n    <path clip-path=\"url(#pd5dabb1f39)\" d=\"M 115.465682 224.64 \r\nL 116.074409 224.64 \r\nL 116.074409 211.993544 \r\nL 115.465682 211.993544 \r\nz\r\n\" style=\"fill:#1f77b4;\"/>\r\n   </g>\r\n   <g id=\"patch_114\">\r\n    <path clip-path=\"url(#pd5dabb1f39)\" d=\"M 116.074409 224.64 \r\nL 116.683136 224.64 \r\nL 116.683136 224.64 \r\nL 116.074409 224.64 \r\nz\r\n\" style=\"fill:#1f77b4;\"/>\r\n   </g>\r\n   <g id=\"patch_115\">\r\n    <path clip-path=\"url(#pd5dabb1f39)\" d=\"M 116.683136 224.64 \r\nL 117.291864 224.64 \r\nL 117.291864 214.02601 \r\nL 116.683136 214.02601 \r\nz\r\n\" style=\"fill:#1f77b4;\"/>\r\n   </g>\r\n   <g id=\"patch_116\">\r\n    <path clip-path=\"url(#pd5dabb1f39)\" d=\"M 117.291864 224.64 \r\nL 117.900591 224.64 \r\nL 117.900591 224.64 \r\nL 117.291864 224.64 \r\nz\r\n\" style=\"fill:#1f77b4;\"/>\r\n   </g>\r\n   <g id=\"patch_117\">\r\n    <path clip-path=\"url(#pd5dabb1f39)\" d=\"M 117.900591 224.64 \r\nL 118.509318 224.64 \r\nL 118.509318 216.058476 \r\nL 117.900591 216.058476 \r\nz\r\n\" style=\"fill:#1f77b4;\"/>\r\n   </g>\r\n   <g id=\"patch_118\">\r\n    <path clip-path=\"url(#pd5dabb1f39)\" d=\"M 118.509318 224.64 \r\nL 119.118045 224.64 \r\nL 119.118045 224.64 \r\nL 118.509318 224.64 \r\nz\r\n\" style=\"fill:#1f77b4;\"/>\r\n   </g>\r\n   <g id=\"patch_119\">\r\n    <path clip-path=\"url(#pd5dabb1f39)\" d=\"M 119.118045 224.64 \r\nL 119.726773 224.64 \r\nL 119.726773 214.929329 \r\nL 119.118045 214.929329 \r\nz\r\n\" style=\"fill:#1f77b4;\"/>\r\n   </g>\r\n   <g id=\"patch_120\">\r\n    <path clip-path=\"url(#pd5dabb1f39)\" d=\"M 119.726773 224.64 \r\nL 120.3355 224.64 \r\nL 120.3355 216.961795 \r\nL 119.726773 216.961795 \r\nz\r\n\" style=\"fill:#1f77b4;\"/>\r\n   </g>\r\n   <g id=\"patch_121\">\r\n    <path clip-path=\"url(#pd5dabb1f39)\" d=\"M 120.3355 224.64 \r\nL 120.944227 224.64 \r\nL 120.944227 224.64 \r\nL 120.3355 224.64 \r\nz\r\n\" style=\"fill:#1f77b4;\"/>\r\n   </g>\r\n   <g id=\"patch_122\">\r\n    <path clip-path=\"url(#pd5dabb1f39)\" d=\"M 120.944227 224.64 \r\nL 121.552955 224.64 \r\nL 121.552955 218.768431 \r\nL 120.944227 218.768431 \r\nz\r\n\" style=\"fill:#1f77b4;\"/>\r\n   </g>\r\n   <g id=\"patch_123\">\r\n    <path clip-path=\"url(#pd5dabb1f39)\" d=\"M 121.552955 224.64 \r\nL 122.161682 224.64 \r\nL 122.161682 224.64 \r\nL 121.552955 224.64 \r\nz\r\n\" style=\"fill:#1f77b4;\"/>\r\n   </g>\r\n   <g id=\"patch_124\">\r\n    <path clip-path=\"url(#pd5dabb1f39)\" d=\"M 122.161682 224.64 \r\nL 122.770409 224.64 \r\nL 122.770409 219.671749 \r\nL 122.161682 219.671749 \r\nz\r\n\" style=\"fill:#1f77b4;\"/>\r\n   </g>\r\n   <g id=\"patch_125\">\r\n    <path clip-path=\"url(#pd5dabb1f39)\" d=\"M 122.770409 224.64 \r\nL 123.379136 224.64 \r\nL 123.379136 224.64 \r\nL 122.770409 224.64 \r\nz\r\n\" style=\"fill:#1f77b4;\"/>\r\n   </g>\r\n   <g id=\"patch_126\">\r\n    <path clip-path=\"url(#pd5dabb1f39)\" d=\"M 123.379136 224.64 \r\nL 123.987864 224.64 \r\nL 123.987864 219.897579 \r\nL 123.379136 219.897579 \r\nz\r\n\" style=\"fill:#1f77b4;\"/>\r\n   </g>\r\n   <g id=\"patch_127\">\r\n    <path clip-path=\"url(#pd5dabb1f39)\" d=\"M 123.987864 224.64 \r\nL 124.596591 224.64 \r\nL 124.596591 224.64 \r\nL 123.987864 224.64 \r\nz\r\n\" style=\"fill:#1f77b4;\"/>\r\n   </g>\r\n   <g id=\"patch_128\">\r\n    <path clip-path=\"url(#pd5dabb1f39)\" d=\"M 124.596591 224.64 \r\nL 125.205318 224.64 \r\nL 125.205318 220.349238 \r\nL 124.596591 220.349238 \r\nz\r\n\" style=\"fill:#1f77b4;\"/>\r\n   </g>\r\n   <g id=\"patch_129\">\r\n    <path clip-path=\"url(#pd5dabb1f39)\" d=\"M 125.205318 224.64 \r\nL 125.814045 224.64 \r\nL 125.814045 221.704216 \r\nL 125.205318 221.704216 \r\nz\r\n\" style=\"fill:#1f77b4;\"/>\r\n   </g>\r\n   <g id=\"patch_130\">\r\n    <path clip-path=\"url(#pd5dabb1f39)\" d=\"M 125.814045 224.64 \r\nL 126.422773 224.64 \r\nL 126.422773 224.64 \r\nL 125.814045 224.64 \r\nz\r\n\" style=\"fill:#1f77b4;\"/>\r\n   </g>\r\n   <g id=\"patch_131\">\r\n    <path clip-path=\"url(#pd5dabb1f39)\" d=\"M 126.422773 224.64 \r\nL 127.0315 224.64 \r\nL 127.0315 219.897579 \r\nL 126.422773 219.897579 \r\nz\r\n\" style=\"fill:#1f77b4;\"/>\r\n   </g>\r\n   <g id=\"patch_132\">\r\n    <path clip-path=\"url(#pd5dabb1f39)\" d=\"M 127.0315 224.64 \r\nL 127.640227 224.64 \r\nL 127.640227 224.64 \r\nL 127.0315 224.64 \r\nz\r\n\" style=\"fill:#1f77b4;\"/>\r\n   </g>\r\n   <g id=\"patch_133\">\r\n    <path clip-path=\"url(#pd5dabb1f39)\" d=\"M 127.640227 224.64 \r\nL 128.248955 224.64 \r\nL 128.248955 221.026727 \r\nL 127.640227 221.026727 \r\nz\r\n\" style=\"fill:#1f77b4;\"/>\r\n   </g>\r\n   <g id=\"patch_134\">\r\n    <path clip-path=\"url(#pd5dabb1f39)\" d=\"M 128.248955 224.64 \r\nL 128.857682 224.64 \r\nL 128.857682 224.64 \r\nL 128.248955 224.64 \r\nz\r\n\" style=\"fill:#1f77b4;\"/>\r\n   </g>\r\n   <g id=\"patch_135\">\r\n    <path clip-path=\"url(#pd5dabb1f39)\" d=\"M 128.857682 224.64 \r\nL 129.466409 224.64 \r\nL 129.466409 223.510852 \r\nL 128.857682 223.510852 \r\nz\r\n\" style=\"fill:#1f77b4;\"/>\r\n   </g>\r\n   <g id=\"patch_136\">\r\n    <path clip-path=\"url(#pd5dabb1f39)\" d=\"M 129.466409 224.64 \r\nL 130.075136 224.64 \r\nL 130.075136 223.059193 \r\nL 129.466409 223.059193 \r\nz\r\n\" style=\"fill:#1f77b4;\"/>\r\n   </g>\r\n   <g id=\"patch_137\">\r\n    <path clip-path=\"url(#pd5dabb1f39)\" d=\"M 130.075136 224.64 \r\nL 130.683864 224.64 \r\nL 130.683864 224.64 \r\nL 130.075136 224.64 \r\nz\r\n\" style=\"fill:#1f77b4;\"/>\r\n   </g>\r\n   <g id=\"patch_138\">\r\n    <path clip-path=\"url(#pd5dabb1f39)\" d=\"M 130.683864 224.64 \r\nL 131.292591 224.64 \r\nL 131.292591 223.736682 \r\nL 130.683864 223.736682 \r\nz\r\n\" style=\"fill:#1f77b4;\"/>\r\n   </g>\r\n   <g id=\"patch_139\">\r\n    <path clip-path=\"url(#pd5dabb1f39)\" d=\"M 131.292591 224.64 \r\nL 131.901318 224.64 \r\nL 131.901318 224.64 \r\nL 131.292591 224.64 \r\nz\r\n\" style=\"fill:#1f77b4;\"/>\r\n   </g>\r\n   <g id=\"patch_140\">\r\n    <path clip-path=\"url(#pd5dabb1f39)\" d=\"M 131.901318 224.64 \r\nL 132.510045 224.64 \r\nL 132.510045 223.736682 \r\nL 131.901318 223.736682 \r\nz\r\n\" style=\"fill:#1f77b4;\"/>\r\n   </g>\r\n   <g id=\"patch_141\">\r\n    <path clip-path=\"url(#pd5dabb1f39)\" d=\"M 132.510045 224.64 \r\nL 133.118773 224.64 \r\nL 133.118773 224.64 \r\nL 132.510045 224.64 \r\nz\r\n\" style=\"fill:#1f77b4;\"/>\r\n   </g>\r\n   <g id=\"patch_142\">\r\n    <path clip-path=\"url(#pd5dabb1f39)\" d=\"M 133.118773 224.64 \r\nL 133.7275 224.64 \r\nL 133.7275 224.188341 \r\nL 133.118773 224.188341 \r\nz\r\n\" style=\"fill:#1f77b4;\"/>\r\n   </g>\r\n   <g id=\"patch_143\">\r\n    <path clip-path=\"url(#pd5dabb1f39)\" d=\"M 133.7275 224.64 \r\nL 134.336227 224.64 \r\nL 134.336227 224.64 \r\nL 133.7275 224.64 \r\nz\r\n\" style=\"fill:#1f77b4;\"/>\r\n   </g>\r\n   <g id=\"patch_144\">\r\n    <path clip-path=\"url(#pd5dabb1f39)\" d=\"M 134.336227 224.64 \r\nL 134.944955 224.64 \r\nL 134.944955 223.285023 \r\nL 134.336227 223.285023 \r\nz\r\n\" style=\"fill:#1f77b4;\"/>\r\n   </g>\r\n   <g id=\"patch_145\">\r\n    <path clip-path=\"url(#pd5dabb1f39)\" d=\"M 134.944955 224.64 \r\nL 135.553682 224.64 \r\nL 135.553682 223.059193 \r\nL 134.944955 223.059193 \r\nz\r\n\" style=\"fill:#1f77b4;\"/>\r\n   </g>\r\n   <g id=\"patch_146\">\r\n    <path clip-path=\"url(#pd5dabb1f39)\" d=\"M 135.553682 224.64 \r\nL 136.162409 224.64 \r\nL 136.162409 224.64 \r\nL 135.553682 224.64 \r\nz\r\n\" style=\"fill:#1f77b4;\"/>\r\n   </g>\r\n   <g id=\"patch_147\">\r\n    <path clip-path=\"url(#pd5dabb1f39)\" d=\"M 136.162409 224.64 \r\nL 136.771136 224.64 \r\nL 136.771136 224.188341 \r\nL 136.162409 224.188341 \r\nz\r\n\" style=\"fill:#1f77b4;\"/>\r\n   </g>\r\n   <g id=\"patch_148\">\r\n    <path clip-path=\"url(#pd5dabb1f39)\" d=\"M 136.771136 224.64 \r\nL 137.379864 224.64 \r\nL 137.379864 224.64 \r\nL 136.771136 224.64 \r\nz\r\n\" style=\"fill:#1f77b4;\"/>\r\n   </g>\r\n   <g id=\"patch_149\">\r\n    <path clip-path=\"url(#pd5dabb1f39)\" d=\"M 137.379864 224.64 \r\nL 137.988591 224.64 \r\nL 137.988591 223.510852 \r\nL 137.379864 223.510852 \r\nz\r\n\" style=\"fill:#1f77b4;\"/>\r\n   </g>\r\n   <g id=\"patch_150\">\r\n    <path clip-path=\"url(#pd5dabb1f39)\" d=\"M 137.988591 224.64 \r\nL 138.597318 224.64 \r\nL 138.597318 224.64 \r\nL 137.988591 224.64 \r\nz\r\n\" style=\"fill:#1f77b4;\"/>\r\n   </g>\r\n   <g id=\"patch_151\">\r\n    <path clip-path=\"url(#pd5dabb1f39)\" d=\"M 138.597318 224.64 \r\nL 139.206045 224.64 \r\nL 139.206045 224.41417 \r\nL 138.597318 224.41417 \r\nz\r\n\" style=\"fill:#1f77b4;\"/>\r\n   </g>\r\n   <g id=\"patch_152\">\r\n    <path clip-path=\"url(#pd5dabb1f39)\" d=\"M 139.206045 224.64 \r\nL 139.814773 224.64 \r\nL 139.814773 224.64 \r\nL 139.206045 224.64 \r\nz\r\n\" style=\"fill:#1f77b4;\"/>\r\n   </g>\r\n   <g id=\"patch_153\">\r\n    <path clip-path=\"url(#pd5dabb1f39)\" d=\"M 139.814773 224.64 \r\nL 140.4235 224.64 \r\nL 140.4235 224.64 \r\nL 139.814773 224.64 \r\nz\r\n\" style=\"fill:#1f77b4;\"/>\r\n   </g>\r\n   <g id=\"patch_154\">\r\n    <path clip-path=\"url(#pd5dabb1f39)\" d=\"M 140.4235 224.64 \r\nL 141.032227 224.64 \r\nL 141.032227 224.188341 \r\nL 140.4235 224.188341 \r\nz\r\n\" style=\"fill:#1f77b4;\"/>\r\n   </g>\r\n   <g id=\"patch_155\">\r\n    <path clip-path=\"url(#pd5dabb1f39)\" d=\"M 141.032227 224.64 \r\nL 141.640955 224.64 \r\nL 141.640955 224.64 \r\nL 141.032227 224.64 \r\nz\r\n\" style=\"fill:#1f77b4;\"/>\r\n   </g>\r\n   <g id=\"patch_156\">\r\n    <path clip-path=\"url(#pd5dabb1f39)\" d=\"M 141.640955 224.64 \r\nL 142.249682 224.64 \r\nL 142.249682 224.41417 \r\nL 141.640955 224.41417 \r\nz\r\n\" style=\"fill:#1f77b4;\"/>\r\n   </g>\r\n   <g id=\"patch_157\">\r\n    <path clip-path=\"url(#pd5dabb1f39)\" d=\"M 142.249682 224.64 \r\nL 142.858409 224.64 \r\nL 142.858409 224.64 \r\nL 142.249682 224.64 \r\nz\r\n\" style=\"fill:#1f77b4;\"/>\r\n   </g>\r\n   <g id=\"patch_158\">\r\n    <path clip-path=\"url(#pd5dabb1f39)\" d=\"M 142.858409 224.64 \r\nL 143.467136 224.64 \r\nL 143.467136 224.41417 \r\nL 142.858409 224.41417 \r\nz\r\n\" style=\"fill:#1f77b4;\"/>\r\n   </g>\r\n   <g id=\"patch_159\">\r\n    <path clip-path=\"url(#pd5dabb1f39)\" d=\"M 143.467136 224.64 \r\nL 144.075864 224.64 \r\nL 144.075864 224.64 \r\nL 143.467136 224.64 \r\nz\r\n\" style=\"fill:#1f77b4;\"/>\r\n   </g>\r\n   <g id=\"patch_160\">\r\n    <path clip-path=\"url(#pd5dabb1f39)\" d=\"M 144.075864 224.64 \r\nL 144.684591 224.64 \r\nL 144.684591 224.188341 \r\nL 144.075864 224.188341 \r\nz\r\n\" style=\"fill:#1f77b4;\"/>\r\n   </g>\r\n   <g id=\"patch_161\">\r\n    <path clip-path=\"url(#pd5dabb1f39)\" d=\"M 144.684591 224.64 \r\nL 145.293318 224.64 \r\nL 145.293318 224.64 \r\nL 144.684591 224.64 \r\nz\r\n\" style=\"fill:#1f77b4;\"/>\r\n   </g>\r\n   <g id=\"patch_162\">\r\n    <path clip-path=\"url(#pd5dabb1f39)\" d=\"M 145.293318 224.64 \r\nL 145.902045 224.64 \r\nL 145.902045 224.64 \r\nL 145.293318 224.64 \r\nz\r\n\" style=\"fill:#1f77b4;\"/>\r\n   </g>\r\n   <g id=\"patch_163\">\r\n    <path clip-path=\"url(#pd5dabb1f39)\" d=\"M 145.902045 224.64 \r\nL 146.510773 224.64 \r\nL 146.510773 224.188341 \r\nL 145.902045 224.188341 \r\nz\r\n\" style=\"fill:#1f77b4;\"/>\r\n   </g>\r\n   <g id=\"patch_164\">\r\n    <path clip-path=\"url(#pd5dabb1f39)\" d=\"M 146.510773 224.64 \r\nL 147.1195 224.64 \r\nL 147.1195 224.64 \r\nL 146.510773 224.64 \r\nz\r\n\" style=\"fill:#1f77b4;\"/>\r\n   </g>\r\n   <g id=\"patch_165\">\r\n    <path clip-path=\"url(#pd5dabb1f39)\" d=\"M 147.1195 224.64 \r\nL 147.728227 224.64 \r\nL 147.728227 223.510852 \r\nL 147.1195 223.510852 \r\nz\r\n\" style=\"fill:#1f77b4;\"/>\r\n   </g>\r\n   <g id=\"patch_166\">\r\n    <path clip-path=\"url(#pd5dabb1f39)\" d=\"M 147.728227 224.64 \r\nL 148.336955 224.64 \r\nL 148.336955 224.64 \r\nL 147.728227 224.64 \r\nz\r\n\" style=\"fill:#1f77b4;\"/>\r\n   </g>\r\n   <g id=\"patch_167\">\r\n    <path clip-path=\"url(#pd5dabb1f39)\" d=\"M 148.336955 224.64 \r\nL 148.945682 224.64 \r\nL 148.945682 224.41417 \r\nL 148.336955 224.41417 \r\nz\r\n\" style=\"fill:#1f77b4;\"/>\r\n   </g>\r\n   <g id=\"patch_168\">\r\n    <path clip-path=\"url(#pd5dabb1f39)\" d=\"M 148.945682 224.64 \r\nL 149.554409 224.64 \r\nL 149.554409 224.64 \r\nL 148.945682 224.64 \r\nz\r\n\" style=\"fill:#1f77b4;\"/>\r\n   </g>\r\n   <g id=\"patch_169\">\r\n    <path clip-path=\"url(#pd5dabb1f39)\" d=\"M 149.554409 224.64 \r\nL 150.163136 224.64 \r\nL 150.163136 224.64 \r\nL 149.554409 224.64 \r\nz\r\n\" style=\"fill:#1f77b4;\"/>\r\n   </g>\r\n   <g id=\"patch_170\">\r\n    <path clip-path=\"url(#pd5dabb1f39)\" d=\"M 150.163136 224.64 \r\nL 150.771864 224.64 \r\nL 150.771864 224.64 \r\nL 150.163136 224.64 \r\nz\r\n\" style=\"fill:#1f77b4;\"/>\r\n   </g>\r\n   <g id=\"patch_171\">\r\n    <path clip-path=\"url(#pd5dabb1f39)\" d=\"M 150.771864 224.64 \r\nL 151.380591 224.64 \r\nL 151.380591 224.64 \r\nL 150.771864 224.64 \r\nz\r\n\" style=\"fill:#1f77b4;\"/>\r\n   </g>\r\n   <g id=\"patch_172\">\r\n    <path clip-path=\"url(#pd5dabb1f39)\" d=\"M 151.380591 224.64 \r\nL 151.989318 224.64 \r\nL 151.989318 224.64 \r\nL 151.380591 224.64 \r\nz\r\n\" style=\"fill:#1f77b4;\"/>\r\n   </g>\r\n   <g id=\"patch_173\">\r\n    <path clip-path=\"url(#pd5dabb1f39)\" d=\"M 151.989318 224.64 \r\nL 152.598045 224.64 \r\nL 152.598045 224.64 \r\nL 151.989318 224.64 \r\nz\r\n\" style=\"fill:#1f77b4;\"/>\r\n   </g>\r\n   <g id=\"patch_174\">\r\n    <path clip-path=\"url(#pd5dabb1f39)\" d=\"M 152.598045 224.64 \r\nL 153.206773 224.64 \r\nL 153.206773 224.64 \r\nL 152.598045 224.64 \r\nz\r\n\" style=\"fill:#1f77b4;\"/>\r\n   </g>\r\n   <g id=\"patch_175\">\r\n    <path clip-path=\"url(#pd5dabb1f39)\" d=\"M 153.206773 224.64 \r\nL 153.8155 224.64 \r\nL 153.8155 224.64 \r\nL 153.206773 224.64 \r\nz\r\n\" style=\"fill:#1f77b4;\"/>\r\n   </g>\r\n   <g id=\"patch_176\">\r\n    <path clip-path=\"url(#pd5dabb1f39)\" d=\"M 153.8155 224.64 \r\nL 154.424227 224.64 \r\nL 154.424227 224.64 \r\nL 153.8155 224.64 \r\nz\r\n\" style=\"fill:#1f77b4;\"/>\r\n   </g>\r\n   <g id=\"patch_177\">\r\n    <path clip-path=\"url(#pd5dabb1f39)\" d=\"M 154.424227 224.64 \r\nL 155.032955 224.64 \r\nL 155.032955 224.188341 \r\nL 154.424227 224.188341 \r\nz\r\n\" style=\"fill:#1f77b4;\"/>\r\n   </g>\r\n   <g id=\"patch_178\">\r\n    <path clip-path=\"url(#pd5dabb1f39)\" d=\"M 155.032955 224.64 \r\nL 155.641682 224.64 \r\nL 155.641682 224.64 \r\nL 155.032955 224.64 \r\nz\r\n\" style=\"fill:#1f77b4;\"/>\r\n   </g>\r\n   <g id=\"patch_179\">\r\n    <path clip-path=\"url(#pd5dabb1f39)\" d=\"M 155.641682 224.64 \r\nL 156.250409 224.64 \r\nL 156.250409 224.41417 \r\nL 155.641682 224.41417 \r\nz\r\n\" style=\"fill:#1f77b4;\"/>\r\n   </g>\r\n   <g id=\"patch_180\">\r\n    <path clip-path=\"url(#pd5dabb1f39)\" d=\"M 156.250409 224.64 \r\nL 156.859136 224.64 \r\nL 156.859136 224.64 \r\nL 156.250409 224.64 \r\nz\r\n\" style=\"fill:#1f77b4;\"/>\r\n   </g>\r\n   <g id=\"patch_181\">\r\n    <path clip-path=\"url(#pd5dabb1f39)\" d=\"M 156.859136 224.64 \r\nL 157.467864 224.64 \r\nL 157.467864 224.64 \r\nL 156.859136 224.64 \r\nz\r\n\" style=\"fill:#1f77b4;\"/>\r\n   </g>\r\n   <g id=\"patch_182\">\r\n    <path clip-path=\"url(#pd5dabb1f39)\" d=\"M 157.467864 224.64 \r\nL 158.076591 224.64 \r\nL 158.076591 224.64 \r\nL 157.467864 224.64 \r\nz\r\n\" style=\"fill:#1f77b4;\"/>\r\n   </g>\r\n   <g id=\"patch_183\">\r\n    <path clip-path=\"url(#pd5dabb1f39)\" d=\"M 158.076591 224.64 \r\nL 158.685318 224.64 \r\nL 158.685318 224.64 \r\nL 158.076591 224.64 \r\nz\r\n\" style=\"fill:#1f77b4;\"/>\r\n   </g>\r\n   <g id=\"patch_184\">\r\n    <path clip-path=\"url(#pd5dabb1f39)\" d=\"M 158.685318 224.64 \r\nL 159.294045 224.64 \r\nL 159.294045 224.64 \r\nL 158.685318 224.64 \r\nz\r\n\" style=\"fill:#1f77b4;\"/>\r\n   </g>\r\n   <g id=\"patch_185\">\r\n    <path clip-path=\"url(#pd5dabb1f39)\" d=\"M 159.294045 224.64 \r\nL 159.902773 224.64 \r\nL 159.902773 224.64 \r\nL 159.294045 224.64 \r\nz\r\n\" style=\"fill:#1f77b4;\"/>\r\n   </g>\r\n   <g id=\"patch_186\">\r\n    <path clip-path=\"url(#pd5dabb1f39)\" d=\"M 159.902773 224.64 \r\nL 160.5115 224.64 \r\nL 160.5115 224.64 \r\nL 159.902773 224.64 \r\nz\r\n\" style=\"fill:#1f77b4;\"/>\r\n   </g>\r\n   <g id=\"patch_187\">\r\n    <path clip-path=\"url(#pd5dabb1f39)\" d=\"M 160.5115 224.64 \r\nL 161.120227 224.64 \r\nL 161.120227 224.64 \r\nL 160.5115 224.64 \r\nz\r\n\" style=\"fill:#1f77b4;\"/>\r\n   </g>\r\n   <g id=\"patch_188\">\r\n    <path clip-path=\"url(#pd5dabb1f39)\" d=\"M 161.120227 224.64 \r\nL 161.728955 224.64 \r\nL 161.728955 224.64 \r\nL 161.120227 224.64 \r\nz\r\n\" style=\"fill:#1f77b4;\"/>\r\n   </g>\r\n   <g id=\"patch_189\">\r\n    <path clip-path=\"url(#pd5dabb1f39)\" d=\"M 161.728955 224.64 \r\nL 162.337682 224.64 \r\nL 162.337682 224.64 \r\nL 161.728955 224.64 \r\nz\r\n\" style=\"fill:#1f77b4;\"/>\r\n   </g>\r\n   <g id=\"patch_190\">\r\n    <path clip-path=\"url(#pd5dabb1f39)\" d=\"M 162.337682 224.64 \r\nL 162.946409 224.64 \r\nL 162.946409 224.64 \r\nL 162.337682 224.64 \r\nz\r\n\" style=\"fill:#1f77b4;\"/>\r\n   </g>\r\n   <g id=\"patch_191\">\r\n    <path clip-path=\"url(#pd5dabb1f39)\" d=\"M 162.946409 224.64 \r\nL 163.555136 224.64 \r\nL 163.555136 224.64 \r\nL 162.946409 224.64 \r\nz\r\n\" style=\"fill:#1f77b4;\"/>\r\n   </g>\r\n   <g id=\"patch_192\">\r\n    <path clip-path=\"url(#pd5dabb1f39)\" d=\"M 163.555136 224.64 \r\nL 164.163864 224.64 \r\nL 164.163864 224.64 \r\nL 163.555136 224.64 \r\nz\r\n\" style=\"fill:#1f77b4;\"/>\r\n   </g>\r\n   <g id=\"patch_193\">\r\n    <path clip-path=\"url(#pd5dabb1f39)\" d=\"M 164.163864 224.64 \r\nL 164.772591 224.64 \r\nL 164.772591 224.64 \r\nL 164.163864 224.64 \r\nz\r\n\" style=\"fill:#1f77b4;\"/>\r\n   </g>\r\n   <g id=\"patch_194\">\r\n    <path clip-path=\"url(#pd5dabb1f39)\" d=\"M 164.772591 224.64 \r\nL 165.381318 224.64 \r\nL 165.381318 224.64 \r\nL 164.772591 224.64 \r\nz\r\n\" style=\"fill:#1f77b4;\"/>\r\n   </g>\r\n   <g id=\"patch_195\">\r\n    <path clip-path=\"url(#pd5dabb1f39)\" d=\"M 165.381318 224.64 \r\nL 165.990045 224.64 \r\nL 165.990045 224.41417 \r\nL 165.381318 224.41417 \r\nz\r\n\" style=\"fill:#1f77b4;\"/>\r\n   </g>\r\n   <g id=\"patch_196\">\r\n    <path clip-path=\"url(#pd5dabb1f39)\" d=\"M 165.990045 224.64 \r\nL 166.598773 224.64 \r\nL 166.598773 224.64 \r\nL 165.990045 224.64 \r\nz\r\n\" style=\"fill:#1f77b4;\"/>\r\n   </g>\r\n   <g id=\"patch_197\">\r\n    <path clip-path=\"url(#pd5dabb1f39)\" d=\"M 166.598773 224.64 \r\nL 167.2075 224.64 \r\nL 167.2075 224.64 \r\nL 166.598773 224.64 \r\nz\r\n\" style=\"fill:#1f77b4;\"/>\r\n   </g>\r\n   <g id=\"patch_198\">\r\n    <path clip-path=\"url(#pd5dabb1f39)\" d=\"M 167.2075 224.64 \r\nL 167.816227 224.64 \r\nL 167.816227 224.64 \r\nL 167.2075 224.64 \r\nz\r\n\" style=\"fill:#1f77b4;\"/>\r\n   </g>\r\n   <g id=\"patch_199\">\r\n    <path clip-path=\"url(#pd5dabb1f39)\" d=\"M 167.816227 224.64 \r\nL 168.424955 224.64 \r\nL 168.424955 224.41417 \r\nL 167.816227 224.41417 \r\nz\r\n\" style=\"fill:#1f77b4;\"/>\r\n   </g>\r\n   <g id=\"patch_200\">\r\n    <path clip-path=\"url(#pd5dabb1f39)\" d=\"M 168.424955 224.64 \r\nL 169.033682 224.64 \r\nL 169.033682 224.64 \r\nL 168.424955 224.64 \r\nz\r\n\" style=\"fill:#1f77b4;\"/>\r\n   </g>\r\n   <g id=\"patch_201\">\r\n    <path clip-path=\"url(#pd5dabb1f39)\" d=\"M 169.033682 224.64 \r\nL 169.642409 224.64 \r\nL 169.642409 224.64 \r\nL 169.033682 224.64 \r\nz\r\n\" style=\"fill:#1f77b4;\"/>\r\n   </g>\r\n   <g id=\"patch_202\">\r\n    <path clip-path=\"url(#pd5dabb1f39)\" d=\"M 169.642409 224.64 \r\nL 170.251136 224.64 \r\nL 170.251136 224.64 \r\nL 169.642409 224.64 \r\nz\r\n\" style=\"fill:#1f77b4;\"/>\r\n   </g>\r\n   <g id=\"patch_203\">\r\n    <path clip-path=\"url(#pd5dabb1f39)\" d=\"M 170.251136 224.64 \r\nL 170.859864 224.64 \r\nL 170.859864 224.64 \r\nL 170.251136 224.64 \r\nz\r\n\" style=\"fill:#1f77b4;\"/>\r\n   </g>\r\n   <g id=\"patch_204\">\r\n    <path clip-path=\"url(#pd5dabb1f39)\" d=\"M 170.859864 224.64 \r\nL 171.468591 224.64 \r\nL 171.468591 224.64 \r\nL 170.859864 224.64 \r\nz\r\n\" style=\"fill:#1f77b4;\"/>\r\n   </g>\r\n   <g id=\"patch_205\">\r\n    <path clip-path=\"url(#pd5dabb1f39)\" d=\"M 171.468591 224.64 \r\nL 172.077318 224.64 \r\nL 172.077318 224.64 \r\nL 171.468591 224.64 \r\nz\r\n\" style=\"fill:#1f77b4;\"/>\r\n   </g>\r\n   <g id=\"patch_206\">\r\n    <path clip-path=\"url(#pd5dabb1f39)\" d=\"M 172.077318 224.64 \r\nL 172.686045 224.64 \r\nL 172.686045 224.64 \r\nL 172.077318 224.64 \r\nz\r\n\" style=\"fill:#1f77b4;\"/>\r\n   </g>\r\n   <g id=\"patch_207\">\r\n    <path clip-path=\"url(#pd5dabb1f39)\" d=\"M 172.686045 224.64 \r\nL 173.294773 224.64 \r\nL 173.294773 224.64 \r\nL 172.686045 224.64 \r\nz\r\n\" style=\"fill:#1f77b4;\"/>\r\n   </g>\r\n   <g id=\"patch_208\">\r\n    <path clip-path=\"url(#pd5dabb1f39)\" d=\"M 173.294773 224.64 \r\nL 173.9035 224.64 \r\nL 173.9035 224.64 \r\nL 173.294773 224.64 \r\nz\r\n\" style=\"fill:#1f77b4;\"/>\r\n   </g>\r\n   <g id=\"patch_209\">\r\n    <path clip-path=\"url(#pd5dabb1f39)\" d=\"M 173.9035 224.64 \r\nL 174.512227 224.64 \r\nL 174.512227 224.64 \r\nL 173.9035 224.64 \r\nz\r\n\" style=\"fill:#1f77b4;\"/>\r\n   </g>\r\n   <g id=\"patch_210\">\r\n    <path clip-path=\"url(#pd5dabb1f39)\" d=\"M 174.512227 224.64 \r\nL 175.120955 224.64 \r\nL 175.120955 224.41417 \r\nL 174.512227 224.41417 \r\nz\r\n\" style=\"fill:#1f77b4;\"/>\r\n   </g>\r\n   <g id=\"patch_211\">\r\n    <path clip-path=\"url(#pd5dabb1f39)\" d=\"M 175.120955 224.64 \r\nL 175.729682 224.64 \r\nL 175.729682 224.64 \r\nL 175.120955 224.64 \r\nz\r\n\" style=\"fill:#1f77b4;\"/>\r\n   </g>\r\n   <g id=\"patch_212\">\r\n    <path clip-path=\"url(#pd5dabb1f39)\" d=\"M 175.729682 224.64 \r\nL 176.338409 224.64 \r\nL 176.338409 224.64 \r\nL 175.729682 224.64 \r\nz\r\n\" style=\"fill:#1f77b4;\"/>\r\n   </g>\r\n   <g id=\"patch_213\">\r\n    <path clip-path=\"url(#pd5dabb1f39)\" d=\"M 176.338409 224.64 \r\nL 176.947136 224.64 \r\nL 176.947136 224.64 \r\nL 176.338409 224.64 \r\nz\r\n\" style=\"fill:#1f77b4;\"/>\r\n   </g>\r\n   <g id=\"patch_214\">\r\n    <path clip-path=\"url(#pd5dabb1f39)\" d=\"M 176.947136 224.64 \r\nL 177.555864 224.64 \r\nL 177.555864 224.64 \r\nL 176.947136 224.64 \r\nz\r\n\" style=\"fill:#1f77b4;\"/>\r\n   </g>\r\n   <g id=\"patch_215\">\r\n    <path clip-path=\"url(#pd5dabb1f39)\" d=\"M 177.555864 224.64 \r\nL 178.164591 224.64 \r\nL 178.164591 224.64 \r\nL 177.555864 224.64 \r\nz\r\n\" style=\"fill:#1f77b4;\"/>\r\n   </g>\r\n   <g id=\"patch_216\">\r\n    <path clip-path=\"url(#pd5dabb1f39)\" d=\"M 178.164591 224.64 \r\nL 178.773318 224.64 \r\nL 178.773318 224.64 \r\nL 178.164591 224.64 \r\nz\r\n\" style=\"fill:#1f77b4;\"/>\r\n   </g>\r\n   <g id=\"patch_217\">\r\n    <path clip-path=\"url(#pd5dabb1f39)\" d=\"M 178.773318 224.64 \r\nL 179.382045 224.64 \r\nL 179.382045 224.64 \r\nL 178.773318 224.64 \r\nz\r\n\" style=\"fill:#1f77b4;\"/>\r\n   </g>\r\n   <g id=\"patch_218\">\r\n    <path clip-path=\"url(#pd5dabb1f39)\" d=\"M 179.382045 224.64 \r\nL 179.990773 224.64 \r\nL 179.990773 224.64 \r\nL 179.382045 224.64 \r\nz\r\n\" style=\"fill:#1f77b4;\"/>\r\n   </g>\r\n   <g id=\"patch_219\">\r\n    <path clip-path=\"url(#pd5dabb1f39)\" d=\"M 179.990773 224.64 \r\nL 180.5995 224.64 \r\nL 180.5995 224.64 \r\nL 179.990773 224.64 \r\nz\r\n\" style=\"fill:#1f77b4;\"/>\r\n   </g>\r\n   <g id=\"patch_220\">\r\n    <path clip-path=\"url(#pd5dabb1f39)\" d=\"M 180.5995 224.64 \r\nL 181.208227 224.64 \r\nL 181.208227 224.64 \r\nL 180.5995 224.64 \r\nz\r\n\" style=\"fill:#1f77b4;\"/>\r\n   </g>\r\n   <g id=\"patch_221\">\r\n    <path clip-path=\"url(#pd5dabb1f39)\" d=\"M 181.208227 224.64 \r\nL 181.816955 224.64 \r\nL 181.816955 224.64 \r\nL 181.208227 224.64 \r\nz\r\n\" style=\"fill:#1f77b4;\"/>\r\n   </g>\r\n   <g id=\"patch_222\">\r\n    <path clip-path=\"url(#pd5dabb1f39)\" d=\"M 181.816955 224.64 \r\nL 182.425682 224.64 \r\nL 182.425682 224.64 \r\nL 181.816955 224.64 \r\nz\r\n\" style=\"fill:#1f77b4;\"/>\r\n   </g>\r\n   <g id=\"patch_223\">\r\n    <path clip-path=\"url(#pd5dabb1f39)\" d=\"M 182.425682 224.64 \r\nL 183.034409 224.64 \r\nL 183.034409 224.64 \r\nL 182.425682 224.64 \r\nz\r\n\" style=\"fill:#1f77b4;\"/>\r\n   </g>\r\n   <g id=\"patch_224\">\r\n    <path clip-path=\"url(#pd5dabb1f39)\" d=\"M 183.034409 224.64 \r\nL 183.643136 224.64 \r\nL 183.643136 224.64 \r\nL 183.034409 224.64 \r\nz\r\n\" style=\"fill:#1f77b4;\"/>\r\n   </g>\r\n   <g id=\"patch_225\">\r\n    <path clip-path=\"url(#pd5dabb1f39)\" d=\"M 183.643136 224.64 \r\nL 184.251864 224.64 \r\nL 184.251864 224.64 \r\nL 183.643136 224.64 \r\nz\r\n\" style=\"fill:#1f77b4;\"/>\r\n   </g>\r\n   <g id=\"patch_226\">\r\n    <path clip-path=\"url(#pd5dabb1f39)\" d=\"M 184.251864 224.64 \r\nL 184.860591 224.64 \r\nL 184.860591 224.64 \r\nL 184.251864 224.64 \r\nz\r\n\" style=\"fill:#1f77b4;\"/>\r\n   </g>\r\n   <g id=\"patch_227\">\r\n    <path clip-path=\"url(#pd5dabb1f39)\" d=\"M 184.860591 224.64 \r\nL 185.469318 224.64 \r\nL 185.469318 224.64 \r\nL 184.860591 224.64 \r\nz\r\n\" style=\"fill:#1f77b4;\"/>\r\n   </g>\r\n   <g id=\"patch_228\">\r\n    <path clip-path=\"url(#pd5dabb1f39)\" d=\"M 185.469318 224.64 \r\nL 186.078045 224.64 \r\nL 186.078045 224.64 \r\nL 185.469318 224.64 \r\nz\r\n\" style=\"fill:#1f77b4;\"/>\r\n   </g>\r\n   <g id=\"patch_229\">\r\n    <path clip-path=\"url(#pd5dabb1f39)\" d=\"M 186.078045 224.64 \r\nL 186.686773 224.64 \r\nL 186.686773 224.64 \r\nL 186.078045 224.64 \r\nz\r\n\" style=\"fill:#1f77b4;\"/>\r\n   </g>\r\n   <g id=\"patch_230\">\r\n    <path clip-path=\"url(#pd5dabb1f39)\" d=\"M 186.686773 224.64 \r\nL 187.2955 224.64 \r\nL 187.2955 224.64 \r\nL 186.686773 224.64 \r\nz\r\n\" style=\"fill:#1f77b4;\"/>\r\n   </g>\r\n   <g id=\"patch_231\">\r\n    <path clip-path=\"url(#pd5dabb1f39)\" d=\"M 187.2955 224.64 \r\nL 187.904227 224.64 \r\nL 187.904227 224.64 \r\nL 187.2955 224.64 \r\nz\r\n\" style=\"fill:#1f77b4;\"/>\r\n   </g>\r\n   <g id=\"patch_232\">\r\n    <path clip-path=\"url(#pd5dabb1f39)\" d=\"M 187.904227 224.64 \r\nL 188.512955 224.64 \r\nL 188.512955 224.64 \r\nL 187.904227 224.64 \r\nz\r\n\" style=\"fill:#1f77b4;\"/>\r\n   </g>\r\n   <g id=\"patch_233\">\r\n    <path clip-path=\"url(#pd5dabb1f39)\" d=\"M 188.512955 224.64 \r\nL 189.121682 224.64 \r\nL 189.121682 224.64 \r\nL 188.512955 224.64 \r\nz\r\n\" style=\"fill:#1f77b4;\"/>\r\n   </g>\r\n   <g id=\"patch_234\">\r\n    <path clip-path=\"url(#pd5dabb1f39)\" d=\"M 189.121682 224.64 \r\nL 189.730409 224.64 \r\nL 189.730409 224.64 \r\nL 189.121682 224.64 \r\nz\r\n\" style=\"fill:#1f77b4;\"/>\r\n   </g>\r\n   <g id=\"patch_235\">\r\n    <path clip-path=\"url(#pd5dabb1f39)\" d=\"M 189.730409 224.64 \r\nL 190.339136 224.64 \r\nL 190.339136 224.64 \r\nL 189.730409 224.64 \r\nz\r\n\" style=\"fill:#1f77b4;\"/>\r\n   </g>\r\n   <g id=\"patch_236\">\r\n    <path clip-path=\"url(#pd5dabb1f39)\" d=\"M 190.339136 224.64 \r\nL 190.947864 224.64 \r\nL 190.947864 224.64 \r\nL 190.339136 224.64 \r\nz\r\n\" style=\"fill:#1f77b4;\"/>\r\n   </g>\r\n   <g id=\"patch_237\">\r\n    <path clip-path=\"url(#pd5dabb1f39)\" d=\"M 190.947864 224.64 \r\nL 191.556591 224.64 \r\nL 191.556591 224.64 \r\nL 190.947864 224.64 \r\nz\r\n\" style=\"fill:#1f77b4;\"/>\r\n   </g>\r\n   <g id=\"patch_238\">\r\n    <path clip-path=\"url(#pd5dabb1f39)\" d=\"M 191.556591 224.64 \r\nL 192.165318 224.64 \r\nL 192.165318 224.64 \r\nL 191.556591 224.64 \r\nz\r\n\" style=\"fill:#1f77b4;\"/>\r\n   </g>\r\n   <g id=\"patch_239\">\r\n    <path clip-path=\"url(#pd5dabb1f39)\" d=\"M 192.165318 224.64 \r\nL 192.774045 224.64 \r\nL 192.774045 224.64 \r\nL 192.165318 224.64 \r\nz\r\n\" style=\"fill:#1f77b4;\"/>\r\n   </g>\r\n   <g id=\"patch_240\">\r\n    <path clip-path=\"url(#pd5dabb1f39)\" d=\"M 192.774045 224.64 \r\nL 193.382773 224.64 \r\nL 193.382773 224.64 \r\nL 192.774045 224.64 \r\nz\r\n\" style=\"fill:#1f77b4;\"/>\r\n   </g>\r\n   <g id=\"patch_241\">\r\n    <path clip-path=\"url(#pd5dabb1f39)\" d=\"M 193.382773 224.64 \r\nL 193.9915 224.64 \r\nL 193.9915 224.64 \r\nL 193.382773 224.64 \r\nz\r\n\" style=\"fill:#1f77b4;\"/>\r\n   </g>\r\n   <g id=\"patch_242\">\r\n    <path clip-path=\"url(#pd5dabb1f39)\" d=\"M 193.9915 224.64 \r\nL 194.600227 224.64 \r\nL 194.600227 224.64 \r\nL 193.9915 224.64 \r\nz\r\n\" style=\"fill:#1f77b4;\"/>\r\n   </g>\r\n   <g id=\"patch_243\">\r\n    <path clip-path=\"url(#pd5dabb1f39)\" d=\"M 194.600227 224.64 \r\nL 195.208955 224.64 \r\nL 195.208955 224.64 \r\nL 194.600227 224.64 \r\nz\r\n\" style=\"fill:#1f77b4;\"/>\r\n   </g>\r\n   <g id=\"patch_244\">\r\n    <path clip-path=\"url(#pd5dabb1f39)\" d=\"M 195.208955 224.64 \r\nL 195.817682 224.64 \r\nL 195.817682 224.64 \r\nL 195.208955 224.64 \r\nz\r\n\" style=\"fill:#1f77b4;\"/>\r\n   </g>\r\n   <g id=\"patch_245\">\r\n    <path clip-path=\"url(#pd5dabb1f39)\" d=\"M 195.817682 224.64 \r\nL 196.426409 224.64 \r\nL 196.426409 224.64 \r\nL 195.817682 224.64 \r\nz\r\n\" style=\"fill:#1f77b4;\"/>\r\n   </g>\r\n   <g id=\"patch_246\">\r\n    <path clip-path=\"url(#pd5dabb1f39)\" d=\"M 196.426409 224.64 \r\nL 197.035136 224.64 \r\nL 197.035136 224.64 \r\nL 196.426409 224.64 \r\nz\r\n\" style=\"fill:#1f77b4;\"/>\r\n   </g>\r\n   <g id=\"patch_247\">\r\n    <path clip-path=\"url(#pd5dabb1f39)\" d=\"M 197.035136 224.64 \r\nL 197.643864 224.64 \r\nL 197.643864 224.64 \r\nL 197.035136 224.64 \r\nz\r\n\" style=\"fill:#1f77b4;\"/>\r\n   </g>\r\n   <g id=\"patch_248\">\r\n    <path clip-path=\"url(#pd5dabb1f39)\" d=\"M 197.643864 224.64 \r\nL 198.252591 224.64 \r\nL 198.252591 224.64 \r\nL 197.643864 224.64 \r\nz\r\n\" style=\"fill:#1f77b4;\"/>\r\n   </g>\r\n   <g id=\"patch_249\">\r\n    <path clip-path=\"url(#pd5dabb1f39)\" d=\"M 198.252591 224.64 \r\nL 198.861318 224.64 \r\nL 198.861318 224.64 \r\nL 198.252591 224.64 \r\nz\r\n\" style=\"fill:#1f77b4;\"/>\r\n   </g>\r\n   <g id=\"patch_250\">\r\n    <path clip-path=\"url(#pd5dabb1f39)\" d=\"M 198.861318 224.64 \r\nL 199.470045 224.64 \r\nL 199.470045 224.64 \r\nL 198.861318 224.64 \r\nz\r\n\" style=\"fill:#1f77b4;\"/>\r\n   </g>\r\n   <g id=\"patch_251\">\r\n    <path clip-path=\"url(#pd5dabb1f39)\" d=\"M 199.470045 224.64 \r\nL 200.078773 224.64 \r\nL 200.078773 224.64 \r\nL 199.470045 224.64 \r\nz\r\n\" style=\"fill:#1f77b4;\"/>\r\n   </g>\r\n   <g id=\"patch_252\">\r\n    <path clip-path=\"url(#pd5dabb1f39)\" d=\"M 200.078773 224.64 \r\nL 200.6875 224.64 \r\nL 200.6875 224.64 \r\nL 200.078773 224.64 \r\nz\r\n\" style=\"fill:#1f77b4;\"/>\r\n   </g>\r\n   <g id=\"patch_253\">\r\n    <path clip-path=\"url(#pd5dabb1f39)\" d=\"M 200.6875 224.64 \r\nL 201.296227 224.64 \r\nL 201.296227 224.64 \r\nL 200.6875 224.64 \r\nz\r\n\" style=\"fill:#1f77b4;\"/>\r\n   </g>\r\n   <g id=\"patch_254\">\r\n    <path clip-path=\"url(#pd5dabb1f39)\" d=\"M 201.296227 224.64 \r\nL 201.904955 224.64 \r\nL 201.904955 224.64 \r\nL 201.296227 224.64 \r\nz\r\n\" style=\"fill:#1f77b4;\"/>\r\n   </g>\r\n   <g id=\"patch_255\">\r\n    <path clip-path=\"url(#pd5dabb1f39)\" d=\"M 201.904955 224.64 \r\nL 202.513682 224.64 \r\nL 202.513682 224.64 \r\nL 201.904955 224.64 \r\nz\r\n\" style=\"fill:#1f77b4;\"/>\r\n   </g>\r\n   <g id=\"patch_256\">\r\n    <path clip-path=\"url(#pd5dabb1f39)\" d=\"M 202.513682 224.64 \r\nL 203.122409 224.64 \r\nL 203.122409 224.64 \r\nL 202.513682 224.64 \r\nz\r\n\" style=\"fill:#1f77b4;\"/>\r\n   </g>\r\n   <g id=\"patch_257\">\r\n    <path clip-path=\"url(#pd5dabb1f39)\" d=\"M 203.122409 224.64 \r\nL 203.731136 224.64 \r\nL 203.731136 224.64 \r\nL 203.122409 224.64 \r\nz\r\n\" style=\"fill:#1f77b4;\"/>\r\n   </g>\r\n   <g id=\"patch_258\">\r\n    <path clip-path=\"url(#pd5dabb1f39)\" d=\"M 203.731136 224.64 \r\nL 204.339864 224.64 \r\nL 204.339864 224.64 \r\nL 203.731136 224.64 \r\nz\r\n\" style=\"fill:#1f77b4;\"/>\r\n   </g>\r\n   <g id=\"patch_259\">\r\n    <path clip-path=\"url(#pd5dabb1f39)\" d=\"M 204.339864 224.64 \r\nL 204.948591 224.64 \r\nL 204.948591 224.64 \r\nL 204.339864 224.64 \r\nz\r\n\" style=\"fill:#1f77b4;\"/>\r\n   </g>\r\n   <g id=\"patch_260\">\r\n    <path clip-path=\"url(#pd5dabb1f39)\" d=\"M 204.948591 224.64 \r\nL 205.557318 224.64 \r\nL 205.557318 224.64 \r\nL 204.948591 224.64 \r\nz\r\n\" style=\"fill:#1f77b4;\"/>\r\n   </g>\r\n   <g id=\"patch_261\">\r\n    <path clip-path=\"url(#pd5dabb1f39)\" d=\"M 205.557318 224.64 \r\nL 206.166045 224.64 \r\nL 206.166045 224.64 \r\nL 205.557318 224.64 \r\nz\r\n\" style=\"fill:#1f77b4;\"/>\r\n   </g>\r\n   <g id=\"patch_262\">\r\n    <path clip-path=\"url(#pd5dabb1f39)\" d=\"M 206.166045 224.64 \r\nL 206.774773 224.64 \r\nL 206.774773 224.64 \r\nL 206.166045 224.64 \r\nz\r\n\" style=\"fill:#1f77b4;\"/>\r\n   </g>\r\n   <g id=\"patch_263\">\r\n    <path clip-path=\"url(#pd5dabb1f39)\" d=\"M 206.774773 224.64 \r\nL 207.3835 224.64 \r\nL 207.3835 224.64 \r\nL 206.774773 224.64 \r\nz\r\n\" style=\"fill:#1f77b4;\"/>\r\n   </g>\r\n   <g id=\"patch_264\">\r\n    <path clip-path=\"url(#pd5dabb1f39)\" d=\"M 207.3835 224.64 \r\nL 207.992227 224.64 \r\nL 207.992227 224.64 \r\nL 207.3835 224.64 \r\nz\r\n\" style=\"fill:#1f77b4;\"/>\r\n   </g>\r\n   <g id=\"patch_265\">\r\n    <path clip-path=\"url(#pd5dabb1f39)\" d=\"M 207.992227 224.64 \r\nL 208.600955 224.64 \r\nL 208.600955 224.64 \r\nL 207.992227 224.64 \r\nz\r\n\" style=\"fill:#1f77b4;\"/>\r\n   </g>\r\n   <g id=\"patch_266\">\r\n    <path clip-path=\"url(#pd5dabb1f39)\" d=\"M 208.600955 224.64 \r\nL 209.209682 224.64 \r\nL 209.209682 224.64 \r\nL 208.600955 224.64 \r\nz\r\n\" style=\"fill:#1f77b4;\"/>\r\n   </g>\r\n   <g id=\"patch_267\">\r\n    <path clip-path=\"url(#pd5dabb1f39)\" d=\"M 209.209682 224.64 \r\nL 209.818409 224.64 \r\nL 209.818409 224.64 \r\nL 209.209682 224.64 \r\nz\r\n\" style=\"fill:#1f77b4;\"/>\r\n   </g>\r\n   <g id=\"patch_268\">\r\n    <path clip-path=\"url(#pd5dabb1f39)\" d=\"M 209.818409 224.64 \r\nL 210.427136 224.64 \r\nL 210.427136 224.64 \r\nL 209.818409 224.64 \r\nz\r\n\" style=\"fill:#1f77b4;\"/>\r\n   </g>\r\n   <g id=\"patch_269\">\r\n    <path clip-path=\"url(#pd5dabb1f39)\" d=\"M 210.427136 224.64 \r\nL 211.035864 224.64 \r\nL 211.035864 224.64 \r\nL 210.427136 224.64 \r\nz\r\n\" style=\"fill:#1f77b4;\"/>\r\n   </g>\r\n   <g id=\"patch_270\">\r\n    <path clip-path=\"url(#pd5dabb1f39)\" d=\"M 211.035864 224.64 \r\nL 211.644591 224.64 \r\nL 211.644591 224.64 \r\nL 211.035864 224.64 \r\nz\r\n\" style=\"fill:#1f77b4;\"/>\r\n   </g>\r\n   <g id=\"patch_271\">\r\n    <path clip-path=\"url(#pd5dabb1f39)\" d=\"M 211.644591 224.64 \r\nL 212.253318 224.64 \r\nL 212.253318 224.64 \r\nL 211.644591 224.64 \r\nz\r\n\" style=\"fill:#1f77b4;\"/>\r\n   </g>\r\n   <g id=\"patch_272\">\r\n    <path clip-path=\"url(#pd5dabb1f39)\" d=\"M 212.253318 224.64 \r\nL 212.862045 224.64 \r\nL 212.862045 224.64 \r\nL 212.253318 224.64 \r\nz\r\n\" style=\"fill:#1f77b4;\"/>\r\n   </g>\r\n   <g id=\"patch_273\">\r\n    <path clip-path=\"url(#pd5dabb1f39)\" d=\"M 212.862045 224.64 \r\nL 213.470773 224.64 \r\nL 213.470773 224.64 \r\nL 212.862045 224.64 \r\nz\r\n\" style=\"fill:#1f77b4;\"/>\r\n   </g>\r\n   <g id=\"patch_274\">\r\n    <path clip-path=\"url(#pd5dabb1f39)\" d=\"M 213.470773 224.64 \r\nL 214.0795 224.64 \r\nL 214.0795 224.64 \r\nL 213.470773 224.64 \r\nz\r\n\" style=\"fill:#1f77b4;\"/>\r\n   </g>\r\n   <g id=\"patch_275\">\r\n    <path clip-path=\"url(#pd5dabb1f39)\" d=\"M 214.0795 224.64 \r\nL 214.688227 224.64 \r\nL 214.688227 224.64 \r\nL 214.0795 224.64 \r\nz\r\n\" style=\"fill:#1f77b4;\"/>\r\n   </g>\r\n   <g id=\"patch_276\">\r\n    <path clip-path=\"url(#pd5dabb1f39)\" d=\"M 214.688227 224.64 \r\nL 215.296955 224.64 \r\nL 215.296955 224.64 \r\nL 214.688227 224.64 \r\nz\r\n\" style=\"fill:#1f77b4;\"/>\r\n   </g>\r\n   <g id=\"patch_277\">\r\n    <path clip-path=\"url(#pd5dabb1f39)\" d=\"M 215.296955 224.64 \r\nL 215.905682 224.64 \r\nL 215.905682 224.64 \r\nL 215.296955 224.64 \r\nz\r\n\" style=\"fill:#1f77b4;\"/>\r\n   </g>\r\n   <g id=\"patch_278\">\r\n    <path clip-path=\"url(#pd5dabb1f39)\" d=\"M 215.905682 224.64 \r\nL 216.514409 224.64 \r\nL 216.514409 224.64 \r\nL 215.905682 224.64 \r\nz\r\n\" style=\"fill:#1f77b4;\"/>\r\n   </g>\r\n   <g id=\"patch_279\">\r\n    <path clip-path=\"url(#pd5dabb1f39)\" d=\"M 216.514409 224.64 \r\nL 217.123136 224.64 \r\nL 217.123136 224.64 \r\nL 216.514409 224.64 \r\nz\r\n\" style=\"fill:#1f77b4;\"/>\r\n   </g>\r\n   <g id=\"patch_280\">\r\n    <path clip-path=\"url(#pd5dabb1f39)\" d=\"M 217.123136 224.64 \r\nL 217.731864 224.64 \r\nL 217.731864 224.64 \r\nL 217.123136 224.64 \r\nz\r\n\" style=\"fill:#1f77b4;\"/>\r\n   </g>\r\n   <g id=\"patch_281\">\r\n    <path clip-path=\"url(#pd5dabb1f39)\" d=\"M 217.731864 224.64 \r\nL 218.340591 224.64 \r\nL 218.340591 224.64 \r\nL 217.731864 224.64 \r\nz\r\n\" style=\"fill:#1f77b4;\"/>\r\n   </g>\r\n   <g id=\"patch_282\">\r\n    <path clip-path=\"url(#pd5dabb1f39)\" d=\"M 218.340591 224.64 \r\nL 218.949318 224.64 \r\nL 218.949318 224.64 \r\nL 218.340591 224.64 \r\nz\r\n\" style=\"fill:#1f77b4;\"/>\r\n   </g>\r\n   <g id=\"patch_283\">\r\n    <path clip-path=\"url(#pd5dabb1f39)\" d=\"M 218.949318 224.64 \r\nL 219.558045 224.64 \r\nL 219.558045 224.64 \r\nL 218.949318 224.64 \r\nz\r\n\" style=\"fill:#1f77b4;\"/>\r\n   </g>\r\n   <g id=\"patch_284\">\r\n    <path clip-path=\"url(#pd5dabb1f39)\" d=\"M 219.558045 224.64 \r\nL 220.166773 224.64 \r\nL 220.166773 224.64 \r\nL 219.558045 224.64 \r\nz\r\n\" style=\"fill:#1f77b4;\"/>\r\n   </g>\r\n   <g id=\"patch_285\">\r\n    <path clip-path=\"url(#pd5dabb1f39)\" d=\"M 220.166773 224.64 \r\nL 220.7755 224.64 \r\nL 220.7755 224.64 \r\nL 220.166773 224.64 \r\nz\r\n\" style=\"fill:#1f77b4;\"/>\r\n   </g>\r\n   <g id=\"patch_286\">\r\n    <path clip-path=\"url(#pd5dabb1f39)\" d=\"M 220.7755 224.64 \r\nL 221.384227 224.64 \r\nL 221.384227 224.64 \r\nL 220.7755 224.64 \r\nz\r\n\" style=\"fill:#1f77b4;\"/>\r\n   </g>\r\n   <g id=\"patch_287\">\r\n    <path clip-path=\"url(#pd5dabb1f39)\" d=\"M 221.384227 224.64 \r\nL 221.992955 224.64 \r\nL 221.992955 224.64 \r\nL 221.384227 224.64 \r\nz\r\n\" style=\"fill:#1f77b4;\"/>\r\n   </g>\r\n   <g id=\"patch_288\">\r\n    <path clip-path=\"url(#pd5dabb1f39)\" d=\"M 221.992955 224.64 \r\nL 222.601682 224.64 \r\nL 222.601682 224.64 \r\nL 221.992955 224.64 \r\nz\r\n\" style=\"fill:#1f77b4;\"/>\r\n   </g>\r\n   <g id=\"patch_289\">\r\n    <path clip-path=\"url(#pd5dabb1f39)\" d=\"M 222.601682 224.64 \r\nL 223.210409 224.64 \r\nL 223.210409 224.64 \r\nL 222.601682 224.64 \r\nz\r\n\" style=\"fill:#1f77b4;\"/>\r\n   </g>\r\n   <g id=\"patch_290\">\r\n    <path clip-path=\"url(#pd5dabb1f39)\" d=\"M 223.210409 224.64 \r\nL 223.819136 224.64 \r\nL 223.819136 224.64 \r\nL 223.210409 224.64 \r\nz\r\n\" style=\"fill:#1f77b4;\"/>\r\n   </g>\r\n   <g id=\"patch_291\">\r\n    <path clip-path=\"url(#pd5dabb1f39)\" d=\"M 223.819136 224.64 \r\nL 224.427864 224.64 \r\nL 224.427864 224.64 \r\nL 223.819136 224.64 \r\nz\r\n\" style=\"fill:#1f77b4;\"/>\r\n   </g>\r\n   <g id=\"patch_292\">\r\n    <path clip-path=\"url(#pd5dabb1f39)\" d=\"M 224.427864 224.64 \r\nL 225.036591 224.64 \r\nL 225.036591 224.64 \r\nL 224.427864 224.64 \r\nz\r\n\" style=\"fill:#1f77b4;\"/>\r\n   </g>\r\n   <g id=\"patch_293\">\r\n    <path clip-path=\"url(#pd5dabb1f39)\" d=\"M 225.036591 224.64 \r\nL 225.645318 224.64 \r\nL 225.645318 224.64 \r\nL 225.036591 224.64 \r\nz\r\n\" style=\"fill:#1f77b4;\"/>\r\n   </g>\r\n   <g id=\"patch_294\">\r\n    <path clip-path=\"url(#pd5dabb1f39)\" d=\"M 225.645318 224.64 \r\nL 226.254045 224.64 \r\nL 226.254045 224.64 \r\nL 225.645318 224.64 \r\nz\r\n\" style=\"fill:#1f77b4;\"/>\r\n   </g>\r\n   <g id=\"patch_295\">\r\n    <path clip-path=\"url(#pd5dabb1f39)\" d=\"M 226.254045 224.64 \r\nL 226.862773 224.64 \r\nL 226.862773 224.64 \r\nL 226.254045 224.64 \r\nz\r\n\" style=\"fill:#1f77b4;\"/>\r\n   </g>\r\n   <g id=\"patch_296\">\r\n    <path clip-path=\"url(#pd5dabb1f39)\" d=\"M 226.862773 224.64 \r\nL 227.4715 224.64 \r\nL 227.4715 224.64 \r\nL 226.862773 224.64 \r\nz\r\n\" style=\"fill:#1f77b4;\"/>\r\n   </g>\r\n   <g id=\"patch_297\">\r\n    <path clip-path=\"url(#pd5dabb1f39)\" d=\"M 227.4715 224.64 \r\nL 228.080227 224.64 \r\nL 228.080227 224.64 \r\nL 227.4715 224.64 \r\nz\r\n\" style=\"fill:#1f77b4;\"/>\r\n   </g>\r\n   <g id=\"patch_298\">\r\n    <path clip-path=\"url(#pd5dabb1f39)\" d=\"M 228.080227 224.64 \r\nL 228.688955 224.64 \r\nL 228.688955 224.64 \r\nL 228.080227 224.64 \r\nz\r\n\" style=\"fill:#1f77b4;\"/>\r\n   </g>\r\n   <g id=\"patch_299\">\r\n    <path clip-path=\"url(#pd5dabb1f39)\" d=\"M 228.688955 224.64 \r\nL 229.297682 224.64 \r\nL 229.297682 224.64 \r\nL 228.688955 224.64 \r\nz\r\n\" style=\"fill:#1f77b4;\"/>\r\n   </g>\r\n   <g id=\"patch_300\">\r\n    <path clip-path=\"url(#pd5dabb1f39)\" d=\"M 229.297682 224.64 \r\nL 229.906409 224.64 \r\nL 229.906409 224.64 \r\nL 229.297682 224.64 \r\nz\r\n\" style=\"fill:#1f77b4;\"/>\r\n   </g>\r\n   <g id=\"patch_301\">\r\n    <path clip-path=\"url(#pd5dabb1f39)\" d=\"M 229.906409 224.64 \r\nL 230.515136 224.64 \r\nL 230.515136 224.64 \r\nL 229.906409 224.64 \r\nz\r\n\" style=\"fill:#1f77b4;\"/>\r\n   </g>\r\n   <g id=\"patch_302\">\r\n    <path clip-path=\"url(#pd5dabb1f39)\" d=\"M 230.515136 224.64 \r\nL 231.123864 224.64 \r\nL 231.123864 224.64 \r\nL 230.515136 224.64 \r\nz\r\n\" style=\"fill:#1f77b4;\"/>\r\n   </g>\r\n   <g id=\"patch_303\">\r\n    <path clip-path=\"url(#pd5dabb1f39)\" d=\"M 231.123864 224.64 \r\nL 231.732591 224.64 \r\nL 231.732591 224.64 \r\nL 231.123864 224.64 \r\nz\r\n\" style=\"fill:#1f77b4;\"/>\r\n   </g>\r\n   <g id=\"patch_304\">\r\n    <path clip-path=\"url(#pd5dabb1f39)\" d=\"M 231.732591 224.64 \r\nL 232.341318 224.64 \r\nL 232.341318 224.64 \r\nL 231.732591 224.64 \r\nz\r\n\" style=\"fill:#1f77b4;\"/>\r\n   </g>\r\n   <g id=\"patch_305\">\r\n    <path clip-path=\"url(#pd5dabb1f39)\" d=\"M 232.341318 224.64 \r\nL 232.950045 224.64 \r\nL 232.950045 224.64 \r\nL 232.341318 224.64 \r\nz\r\n\" style=\"fill:#1f77b4;\"/>\r\n   </g>\r\n   <g id=\"patch_306\">\r\n    <path clip-path=\"url(#pd5dabb1f39)\" d=\"M 232.950045 224.64 \r\nL 233.558773 224.64 \r\nL 233.558773 224.64 \r\nL 232.950045 224.64 \r\nz\r\n\" style=\"fill:#1f77b4;\"/>\r\n   </g>\r\n   <g id=\"patch_307\">\r\n    <path clip-path=\"url(#pd5dabb1f39)\" d=\"M 233.558773 224.64 \r\nL 234.1675 224.64 \r\nL 234.1675 224.64 \r\nL 233.558773 224.64 \r\nz\r\n\" style=\"fill:#1f77b4;\"/>\r\n   </g>\r\n   <g id=\"patch_308\">\r\n    <path clip-path=\"url(#pd5dabb1f39)\" d=\"M 234.1675 224.64 \r\nL 234.776227 224.64 \r\nL 234.776227 224.64 \r\nL 234.1675 224.64 \r\nz\r\n\" style=\"fill:#1f77b4;\"/>\r\n   </g>\r\n   <g id=\"patch_309\">\r\n    <path clip-path=\"url(#pd5dabb1f39)\" d=\"M 234.776227 224.64 \r\nL 235.384955 224.64 \r\nL 235.384955 224.64 \r\nL 234.776227 224.64 \r\nz\r\n\" style=\"fill:#1f77b4;\"/>\r\n   </g>\r\n   <g id=\"patch_310\">\r\n    <path clip-path=\"url(#pd5dabb1f39)\" d=\"M 235.384955 224.64 \r\nL 235.993682 224.64 \r\nL 235.993682 224.64 \r\nL 235.384955 224.64 \r\nz\r\n\" style=\"fill:#1f77b4;\"/>\r\n   </g>\r\n   <g id=\"patch_311\">\r\n    <path clip-path=\"url(#pd5dabb1f39)\" d=\"M 235.993682 224.64 \r\nL 236.602409 224.64 \r\nL 236.602409 224.64 \r\nL 235.993682 224.64 \r\nz\r\n\" style=\"fill:#1f77b4;\"/>\r\n   </g>\r\n   <g id=\"patch_312\">\r\n    <path clip-path=\"url(#pd5dabb1f39)\" d=\"M 236.602409 224.64 \r\nL 237.211136 224.64 \r\nL 237.211136 224.64 \r\nL 236.602409 224.64 \r\nz\r\n\" style=\"fill:#1f77b4;\"/>\r\n   </g>\r\n   <g id=\"patch_313\">\r\n    <path clip-path=\"url(#pd5dabb1f39)\" d=\"M 237.211136 224.64 \r\nL 237.819864 224.64 \r\nL 237.819864 224.64 \r\nL 237.211136 224.64 \r\nz\r\n\" style=\"fill:#1f77b4;\"/>\r\n   </g>\r\n   <g id=\"patch_314\">\r\n    <path clip-path=\"url(#pd5dabb1f39)\" d=\"M 237.819864 224.64 \r\nL 238.428591 224.64 \r\nL 238.428591 224.64 \r\nL 237.819864 224.64 \r\nz\r\n\" style=\"fill:#1f77b4;\"/>\r\n   </g>\r\n   <g id=\"patch_315\">\r\n    <path clip-path=\"url(#pd5dabb1f39)\" d=\"M 238.428591 224.64 \r\nL 239.037318 224.64 \r\nL 239.037318 224.64 \r\nL 238.428591 224.64 \r\nz\r\n\" style=\"fill:#1f77b4;\"/>\r\n   </g>\r\n   <g id=\"patch_316\">\r\n    <path clip-path=\"url(#pd5dabb1f39)\" d=\"M 239.037318 224.64 \r\nL 239.646045 224.64 \r\nL 239.646045 224.64 \r\nL 239.037318 224.64 \r\nz\r\n\" style=\"fill:#1f77b4;\"/>\r\n   </g>\r\n   <g id=\"patch_317\">\r\n    <path clip-path=\"url(#pd5dabb1f39)\" d=\"M 239.646045 224.64 \r\nL 240.254773 224.64 \r\nL 240.254773 224.64 \r\nL 239.646045 224.64 \r\nz\r\n\" style=\"fill:#1f77b4;\"/>\r\n   </g>\r\n   <g id=\"patch_318\">\r\n    <path clip-path=\"url(#pd5dabb1f39)\" d=\"M 240.254773 224.64 \r\nL 240.8635 224.64 \r\nL 240.8635 224.64 \r\nL 240.254773 224.64 \r\nz\r\n\" style=\"fill:#1f77b4;\"/>\r\n   </g>\r\n   <g id=\"patch_319\">\r\n    <path clip-path=\"url(#pd5dabb1f39)\" d=\"M 240.8635 224.64 \r\nL 241.472227 224.64 \r\nL 241.472227 224.64 \r\nL 240.8635 224.64 \r\nz\r\n\" style=\"fill:#1f77b4;\"/>\r\n   </g>\r\n   <g id=\"patch_320\">\r\n    <path clip-path=\"url(#pd5dabb1f39)\" d=\"M 241.472227 224.64 \r\nL 242.080955 224.64 \r\nL 242.080955 224.64 \r\nL 241.472227 224.64 \r\nz\r\n\" style=\"fill:#1f77b4;\"/>\r\n   </g>\r\n   <g id=\"patch_321\">\r\n    <path clip-path=\"url(#pd5dabb1f39)\" d=\"M 242.080955 224.64 \r\nL 242.689682 224.64 \r\nL 242.689682 224.64 \r\nL 242.080955 224.64 \r\nz\r\n\" style=\"fill:#1f77b4;\"/>\r\n   </g>\r\n   <g id=\"patch_322\">\r\n    <path clip-path=\"url(#pd5dabb1f39)\" d=\"M 242.689682 224.64 \r\nL 243.298409 224.64 \r\nL 243.298409 224.64 \r\nL 242.689682 224.64 \r\nz\r\n\" style=\"fill:#1f77b4;\"/>\r\n   </g>\r\n   <g id=\"patch_323\">\r\n    <path clip-path=\"url(#pd5dabb1f39)\" d=\"M 243.298409 224.64 \r\nL 243.907136 224.64 \r\nL 243.907136 224.64 \r\nL 243.298409 224.64 \r\nz\r\n\" style=\"fill:#1f77b4;\"/>\r\n   </g>\r\n   <g id=\"patch_324\">\r\n    <path clip-path=\"url(#pd5dabb1f39)\" d=\"M 243.907136 224.64 \r\nL 244.515864 224.64 \r\nL 244.515864 224.64 \r\nL 243.907136 224.64 \r\nz\r\n\" style=\"fill:#1f77b4;\"/>\r\n   </g>\r\n   <g id=\"patch_325\">\r\n    <path clip-path=\"url(#pd5dabb1f39)\" d=\"M 244.515864 224.64 \r\nL 245.124591 224.64 \r\nL 245.124591 224.64 \r\nL 244.515864 224.64 \r\nz\r\n\" style=\"fill:#1f77b4;\"/>\r\n   </g>\r\n   <g id=\"patch_326\">\r\n    <path clip-path=\"url(#pd5dabb1f39)\" d=\"M 245.124591 224.64 \r\nL 245.733318 224.64 \r\nL 245.733318 224.64 \r\nL 245.124591 224.64 \r\nz\r\n\" style=\"fill:#1f77b4;\"/>\r\n   </g>\r\n   <g id=\"patch_327\">\r\n    <path clip-path=\"url(#pd5dabb1f39)\" d=\"M 245.733318 224.64 \r\nL 246.342045 224.64 \r\nL 246.342045 224.64 \r\nL 245.733318 224.64 \r\nz\r\n\" style=\"fill:#1f77b4;\"/>\r\n   </g>\r\n   <g id=\"patch_328\">\r\n    <path clip-path=\"url(#pd5dabb1f39)\" d=\"M 246.342045 224.64 \r\nL 246.950773 224.64 \r\nL 246.950773 224.64 \r\nL 246.342045 224.64 \r\nz\r\n\" style=\"fill:#1f77b4;\"/>\r\n   </g>\r\n   <g id=\"patch_329\">\r\n    <path clip-path=\"url(#pd5dabb1f39)\" d=\"M 246.950773 224.64 \r\nL 247.5595 224.64 \r\nL 247.5595 224.64 \r\nL 246.950773 224.64 \r\nz\r\n\" style=\"fill:#1f77b4;\"/>\r\n   </g>\r\n   <g id=\"patch_330\">\r\n    <path clip-path=\"url(#pd5dabb1f39)\" d=\"M 247.5595 224.64 \r\nL 248.168227 224.64 \r\nL 248.168227 224.64 \r\nL 247.5595 224.64 \r\nz\r\n\" style=\"fill:#1f77b4;\"/>\r\n   </g>\r\n   <g id=\"patch_331\">\r\n    <path clip-path=\"url(#pd5dabb1f39)\" d=\"M 248.168227 224.64 \r\nL 248.776955 224.64 \r\nL 248.776955 224.64 \r\nL 248.168227 224.64 \r\nz\r\n\" style=\"fill:#1f77b4;\"/>\r\n   </g>\r\n   <g id=\"patch_332\">\r\n    <path clip-path=\"url(#pd5dabb1f39)\" d=\"M 248.776955 224.64 \r\nL 249.385682 224.64 \r\nL 249.385682 224.64 \r\nL 248.776955 224.64 \r\nz\r\n\" style=\"fill:#1f77b4;\"/>\r\n   </g>\r\n   <g id=\"patch_333\">\r\n    <path clip-path=\"url(#pd5dabb1f39)\" d=\"M 249.385682 224.64 \r\nL 249.994409 224.64 \r\nL 249.994409 224.64 \r\nL 249.385682 224.64 \r\nz\r\n\" style=\"fill:#1f77b4;\"/>\r\n   </g>\r\n   <g id=\"patch_334\">\r\n    <path clip-path=\"url(#pd5dabb1f39)\" d=\"M 249.994409 224.64 \r\nL 250.603136 224.64 \r\nL 250.603136 224.64 \r\nL 249.994409 224.64 \r\nz\r\n\" style=\"fill:#1f77b4;\"/>\r\n   </g>\r\n   <g id=\"patch_335\">\r\n    <path clip-path=\"url(#pd5dabb1f39)\" d=\"M 250.603136 224.64 \r\nL 251.211864 224.64 \r\nL 251.211864 224.64 \r\nL 250.603136 224.64 \r\nz\r\n\" style=\"fill:#1f77b4;\"/>\r\n   </g>\r\n   <g id=\"patch_336\">\r\n    <path clip-path=\"url(#pd5dabb1f39)\" d=\"M 251.211864 224.64 \r\nL 251.820591 224.64 \r\nL 251.820591 224.64 \r\nL 251.211864 224.64 \r\nz\r\n\" style=\"fill:#1f77b4;\"/>\r\n   </g>\r\n   <g id=\"patch_337\">\r\n    <path clip-path=\"url(#pd5dabb1f39)\" d=\"M 251.820591 224.64 \r\nL 252.429318 224.64 \r\nL 252.429318 224.64 \r\nL 251.820591 224.64 \r\nz\r\n\" style=\"fill:#1f77b4;\"/>\r\n   </g>\r\n   <g id=\"patch_338\">\r\n    <path clip-path=\"url(#pd5dabb1f39)\" d=\"M 252.429318 224.64 \r\nL 253.038045 224.64 \r\nL 253.038045 224.64 \r\nL 252.429318 224.64 \r\nz\r\n\" style=\"fill:#1f77b4;\"/>\r\n   </g>\r\n   <g id=\"patch_339\">\r\n    <path clip-path=\"url(#pd5dabb1f39)\" d=\"M 253.038045 224.64 \r\nL 253.646773 224.64 \r\nL 253.646773 224.64 \r\nL 253.038045 224.64 \r\nz\r\n\" style=\"fill:#1f77b4;\"/>\r\n   </g>\r\n   <g id=\"patch_340\">\r\n    <path clip-path=\"url(#pd5dabb1f39)\" d=\"M 253.646773 224.64 \r\nL 254.2555 224.64 \r\nL 254.2555 224.64 \r\nL 253.646773 224.64 \r\nz\r\n\" style=\"fill:#1f77b4;\"/>\r\n   </g>\r\n   <g id=\"patch_341\">\r\n    <path clip-path=\"url(#pd5dabb1f39)\" d=\"M 254.2555 224.64 \r\nL 254.864227 224.64 \r\nL 254.864227 224.64 \r\nL 254.2555 224.64 \r\nz\r\n\" style=\"fill:#1f77b4;\"/>\r\n   </g>\r\n   <g id=\"patch_342\">\r\n    <path clip-path=\"url(#pd5dabb1f39)\" d=\"M 254.864227 224.64 \r\nL 255.472955 224.64 \r\nL 255.472955 224.64 \r\nL 254.864227 224.64 \r\nz\r\n\" style=\"fill:#1f77b4;\"/>\r\n   </g>\r\n   <g id=\"patch_343\">\r\n    <path clip-path=\"url(#pd5dabb1f39)\" d=\"M 255.472955 224.64 \r\nL 256.081682 224.64 \r\nL 256.081682 224.64 \r\nL 255.472955 224.64 \r\nz\r\n\" style=\"fill:#1f77b4;\"/>\r\n   </g>\r\n   <g id=\"patch_344\">\r\n    <path clip-path=\"url(#pd5dabb1f39)\" d=\"M 256.081682 224.64 \r\nL 256.690409 224.64 \r\nL 256.690409 224.64 \r\nL 256.081682 224.64 \r\nz\r\n\" style=\"fill:#1f77b4;\"/>\r\n   </g>\r\n   <g id=\"patch_345\">\r\n    <path clip-path=\"url(#pd5dabb1f39)\" d=\"M 256.690409 224.64 \r\nL 257.299136 224.64 \r\nL 257.299136 224.64 \r\nL 256.690409 224.64 \r\nz\r\n\" style=\"fill:#1f77b4;\"/>\r\n   </g>\r\n   <g id=\"patch_346\">\r\n    <path clip-path=\"url(#pd5dabb1f39)\" d=\"M 257.299136 224.64 \r\nL 257.907864 224.64 \r\nL 257.907864 224.64 \r\nL 257.299136 224.64 \r\nz\r\n\" style=\"fill:#1f77b4;\"/>\r\n   </g>\r\n   <g id=\"patch_347\">\r\n    <path clip-path=\"url(#pd5dabb1f39)\" d=\"M 257.907864 224.64 \r\nL 258.516591 224.64 \r\nL 258.516591 224.64 \r\nL 257.907864 224.64 \r\nz\r\n\" style=\"fill:#1f77b4;\"/>\r\n   </g>\r\n   <g id=\"patch_348\">\r\n    <path clip-path=\"url(#pd5dabb1f39)\" d=\"M 258.516591 224.64 \r\nL 259.125318 224.64 \r\nL 259.125318 224.64 \r\nL 258.516591 224.64 \r\nz\r\n\" style=\"fill:#1f77b4;\"/>\r\n   </g>\r\n   <g id=\"patch_349\">\r\n    <path clip-path=\"url(#pd5dabb1f39)\" d=\"M 259.125318 224.64 \r\nL 259.734045 224.64 \r\nL 259.734045 224.64 \r\nL 259.125318 224.64 \r\nz\r\n\" style=\"fill:#1f77b4;\"/>\r\n   </g>\r\n   <g id=\"patch_350\">\r\n    <path clip-path=\"url(#pd5dabb1f39)\" d=\"M 259.734045 224.64 \r\nL 260.342773 224.64 \r\nL 260.342773 224.64 \r\nL 259.734045 224.64 \r\nz\r\n\" style=\"fill:#1f77b4;\"/>\r\n   </g>\r\n   <g id=\"patch_351\">\r\n    <path clip-path=\"url(#pd5dabb1f39)\" d=\"M 260.342773 224.64 \r\nL 260.9515 224.64 \r\nL 260.9515 224.64 \r\nL 260.342773 224.64 \r\nz\r\n\" style=\"fill:#1f77b4;\"/>\r\n   </g>\r\n   <g id=\"patch_352\">\r\n    <path clip-path=\"url(#pd5dabb1f39)\" d=\"M 260.9515 224.64 \r\nL 261.560227 224.64 \r\nL 261.560227 224.64 \r\nL 260.9515 224.64 \r\nz\r\n\" style=\"fill:#1f77b4;\"/>\r\n   </g>\r\n   <g id=\"patch_353\">\r\n    <path clip-path=\"url(#pd5dabb1f39)\" d=\"M 261.560227 224.64 \r\nL 262.168955 224.64 \r\nL 262.168955 224.64 \r\nL 261.560227 224.64 \r\nz\r\n\" style=\"fill:#1f77b4;\"/>\r\n   </g>\r\n   <g id=\"patch_354\">\r\n    <path clip-path=\"url(#pd5dabb1f39)\" d=\"M 262.168955 224.64 \r\nL 262.777682 224.64 \r\nL 262.777682 224.64 \r\nL 262.168955 224.64 \r\nz\r\n\" style=\"fill:#1f77b4;\"/>\r\n   </g>\r\n   <g id=\"patch_355\">\r\n    <path clip-path=\"url(#pd5dabb1f39)\" d=\"M 262.777682 224.64 \r\nL 263.386409 224.64 \r\nL 263.386409 224.64 \r\nL 262.777682 224.64 \r\nz\r\n\" style=\"fill:#1f77b4;\"/>\r\n   </g>\r\n   <g id=\"patch_356\">\r\n    <path clip-path=\"url(#pd5dabb1f39)\" d=\"M 263.386409 224.64 \r\nL 263.995136 224.64 \r\nL 263.995136 224.64 \r\nL 263.386409 224.64 \r\nz\r\n\" style=\"fill:#1f77b4;\"/>\r\n   </g>\r\n   <g id=\"patch_357\">\r\n    <path clip-path=\"url(#pd5dabb1f39)\" d=\"M 263.995136 224.64 \r\nL 264.603864 224.64 \r\nL 264.603864 224.64 \r\nL 263.995136 224.64 \r\nz\r\n\" style=\"fill:#1f77b4;\"/>\r\n   </g>\r\n   <g id=\"patch_358\">\r\n    <path clip-path=\"url(#pd5dabb1f39)\" d=\"M 264.603864 224.64 \r\nL 265.212591 224.64 \r\nL 265.212591 224.64 \r\nL 264.603864 224.64 \r\nz\r\n\" style=\"fill:#1f77b4;\"/>\r\n   </g>\r\n   <g id=\"patch_359\">\r\n    <path clip-path=\"url(#pd5dabb1f39)\" d=\"M 265.212591 224.64 \r\nL 265.821318 224.64 \r\nL 265.821318 224.64 \r\nL 265.212591 224.64 \r\nz\r\n\" style=\"fill:#1f77b4;\"/>\r\n   </g>\r\n   <g id=\"patch_360\">\r\n    <path clip-path=\"url(#pd5dabb1f39)\" d=\"M 265.821318 224.64 \r\nL 266.430045 224.64 \r\nL 266.430045 224.64 \r\nL 265.821318 224.64 \r\nz\r\n\" style=\"fill:#1f77b4;\"/>\r\n   </g>\r\n   <g id=\"patch_361\">\r\n    <path clip-path=\"url(#pd5dabb1f39)\" d=\"M 266.430045 224.64 \r\nL 267.038773 224.64 \r\nL 267.038773 224.64 \r\nL 266.430045 224.64 \r\nz\r\n\" style=\"fill:#1f77b4;\"/>\r\n   </g>\r\n   <g id=\"patch_362\">\r\n    <path clip-path=\"url(#pd5dabb1f39)\" d=\"M 267.038773 224.64 \r\nL 267.6475 224.64 \r\nL 267.6475 224.64 \r\nL 267.038773 224.64 \r\nz\r\n\" style=\"fill:#1f77b4;\"/>\r\n   </g>\r\n   <g id=\"patch_363\">\r\n    <path clip-path=\"url(#pd5dabb1f39)\" d=\"M 267.6475 224.64 \r\nL 268.256227 224.64 \r\nL 268.256227 224.64 \r\nL 267.6475 224.64 \r\nz\r\n\" style=\"fill:#1f77b4;\"/>\r\n   </g>\r\n   <g id=\"patch_364\">\r\n    <path clip-path=\"url(#pd5dabb1f39)\" d=\"M 268.256227 224.64 \r\nL 268.864955 224.64 \r\nL 268.864955 224.64 \r\nL 268.256227 224.64 \r\nz\r\n\" style=\"fill:#1f77b4;\"/>\r\n   </g>\r\n   <g id=\"patch_365\">\r\n    <path clip-path=\"url(#pd5dabb1f39)\" d=\"M 268.864955 224.64 \r\nL 269.473682 224.64 \r\nL 269.473682 224.64 \r\nL 268.864955 224.64 \r\nz\r\n\" style=\"fill:#1f77b4;\"/>\r\n   </g>\r\n   <g id=\"patch_366\">\r\n    <path clip-path=\"url(#pd5dabb1f39)\" d=\"M 269.473682 224.64 \r\nL 270.082409 224.64 \r\nL 270.082409 224.64 \r\nL 269.473682 224.64 \r\nz\r\n\" style=\"fill:#1f77b4;\"/>\r\n   </g>\r\n   <g id=\"patch_367\">\r\n    <path clip-path=\"url(#pd5dabb1f39)\" d=\"M 270.082409 224.64 \r\nL 270.691136 224.64 \r\nL 270.691136 224.64 \r\nL 270.082409 224.64 \r\nz\r\n\" style=\"fill:#1f77b4;\"/>\r\n   </g>\r\n   <g id=\"patch_368\">\r\n    <path clip-path=\"url(#pd5dabb1f39)\" d=\"M 270.691136 224.64 \r\nL 271.299864 224.64 \r\nL 271.299864 224.64 \r\nL 270.691136 224.64 \r\nz\r\n\" style=\"fill:#1f77b4;\"/>\r\n   </g>\r\n   <g id=\"patch_369\">\r\n    <path clip-path=\"url(#pd5dabb1f39)\" d=\"M 271.299864 224.64 \r\nL 271.908591 224.64 \r\nL 271.908591 224.64 \r\nL 271.299864 224.64 \r\nz\r\n\" style=\"fill:#1f77b4;\"/>\r\n   </g>\r\n   <g id=\"patch_370\">\r\n    <path clip-path=\"url(#pd5dabb1f39)\" d=\"M 271.908591 224.64 \r\nL 272.517318 224.64 \r\nL 272.517318 224.64 \r\nL 271.908591 224.64 \r\nz\r\n\" style=\"fill:#1f77b4;\"/>\r\n   </g>\r\n   <g id=\"patch_371\">\r\n    <path clip-path=\"url(#pd5dabb1f39)\" d=\"M 272.517318 224.64 \r\nL 273.126045 224.64 \r\nL 273.126045 224.64 \r\nL 272.517318 224.64 \r\nz\r\n\" style=\"fill:#1f77b4;\"/>\r\n   </g>\r\n   <g id=\"patch_372\">\r\n    <path clip-path=\"url(#pd5dabb1f39)\" d=\"M 273.126045 224.64 \r\nL 273.734773 224.64 \r\nL 273.734773 224.64 \r\nL 273.126045 224.64 \r\nz\r\n\" style=\"fill:#1f77b4;\"/>\r\n   </g>\r\n   <g id=\"patch_373\">\r\n    <path clip-path=\"url(#pd5dabb1f39)\" d=\"M 273.734773 224.64 \r\nL 274.3435 224.64 \r\nL 274.3435 224.64 \r\nL 273.734773 224.64 \r\nz\r\n\" style=\"fill:#1f77b4;\"/>\r\n   </g>\r\n   <g id=\"patch_374\">\r\n    <path clip-path=\"url(#pd5dabb1f39)\" d=\"M 274.3435 224.64 \r\nL 274.952227 224.64 \r\nL 274.952227 224.64 \r\nL 274.3435 224.64 \r\nz\r\n\" style=\"fill:#1f77b4;\"/>\r\n   </g>\r\n   <g id=\"patch_375\">\r\n    <path clip-path=\"url(#pd5dabb1f39)\" d=\"M 274.952227 224.64 \r\nL 275.560955 224.64 \r\nL 275.560955 224.64 \r\nL 274.952227 224.64 \r\nz\r\n\" style=\"fill:#1f77b4;\"/>\r\n   </g>\r\n   <g id=\"patch_376\">\r\n    <path clip-path=\"url(#pd5dabb1f39)\" d=\"M 275.560955 224.64 \r\nL 276.169682 224.64 \r\nL 276.169682 224.64 \r\nL 275.560955 224.64 \r\nz\r\n\" style=\"fill:#1f77b4;\"/>\r\n   </g>\r\n   <g id=\"patch_377\">\r\n    <path clip-path=\"url(#pd5dabb1f39)\" d=\"M 276.169682 224.64 \r\nL 276.778409 224.64 \r\nL 276.778409 224.64 \r\nL 276.169682 224.64 \r\nz\r\n\" style=\"fill:#1f77b4;\"/>\r\n   </g>\r\n   <g id=\"patch_378\">\r\n    <path clip-path=\"url(#pd5dabb1f39)\" d=\"M 276.778409 224.64 \r\nL 277.387136 224.64 \r\nL 277.387136 224.64 \r\nL 276.778409 224.64 \r\nz\r\n\" style=\"fill:#1f77b4;\"/>\r\n   </g>\r\n   <g id=\"patch_379\">\r\n    <path clip-path=\"url(#pd5dabb1f39)\" d=\"M 277.387136 224.64 \r\nL 277.995864 224.64 \r\nL 277.995864 224.64 \r\nL 277.387136 224.64 \r\nz\r\n\" style=\"fill:#1f77b4;\"/>\r\n   </g>\r\n   <g id=\"patch_380\">\r\n    <path clip-path=\"url(#pd5dabb1f39)\" d=\"M 277.995864 224.64 \r\nL 278.604591 224.64 \r\nL 278.604591 224.64 \r\nL 277.995864 224.64 \r\nz\r\n\" style=\"fill:#1f77b4;\"/>\r\n   </g>\r\n   <g id=\"patch_381\">\r\n    <path clip-path=\"url(#pd5dabb1f39)\" d=\"M 278.604591 224.64 \r\nL 279.213318 224.64 \r\nL 279.213318 224.64 \r\nL 278.604591 224.64 \r\nz\r\n\" style=\"fill:#1f77b4;\"/>\r\n   </g>\r\n   <g id=\"patch_382\">\r\n    <path clip-path=\"url(#pd5dabb1f39)\" d=\"M 279.213318 224.64 \r\nL 279.822045 224.64 \r\nL 279.822045 224.64 \r\nL 279.213318 224.64 \r\nz\r\n\" style=\"fill:#1f77b4;\"/>\r\n   </g>\r\n   <g id=\"patch_383\">\r\n    <path clip-path=\"url(#pd5dabb1f39)\" d=\"M 279.822045 224.64 \r\nL 280.430773 224.64 \r\nL 280.430773 224.64 \r\nL 279.822045 224.64 \r\nz\r\n\" style=\"fill:#1f77b4;\"/>\r\n   </g>\r\n   <g id=\"patch_384\">\r\n    <path clip-path=\"url(#pd5dabb1f39)\" d=\"M 280.430773 224.64 \r\nL 281.0395 224.64 \r\nL 281.0395 224.64 \r\nL 280.430773 224.64 \r\nz\r\n\" style=\"fill:#1f77b4;\"/>\r\n   </g>\r\n   <g id=\"patch_385\">\r\n    <path clip-path=\"url(#pd5dabb1f39)\" d=\"M 281.0395 224.64 \r\nL 281.648227 224.64 \r\nL 281.648227 224.64 \r\nL 281.0395 224.64 \r\nz\r\n\" style=\"fill:#1f77b4;\"/>\r\n   </g>\r\n   <g id=\"patch_386\">\r\n    <path clip-path=\"url(#pd5dabb1f39)\" d=\"M 281.648227 224.64 \r\nL 282.256955 224.64 \r\nL 282.256955 224.64 \r\nL 281.648227 224.64 \r\nz\r\n\" style=\"fill:#1f77b4;\"/>\r\n   </g>\r\n   <g id=\"patch_387\">\r\n    <path clip-path=\"url(#pd5dabb1f39)\" d=\"M 282.256955 224.64 \r\nL 282.865682 224.64 \r\nL 282.865682 224.64 \r\nL 282.256955 224.64 \r\nz\r\n\" style=\"fill:#1f77b4;\"/>\r\n   </g>\r\n   <g id=\"patch_388\">\r\n    <path clip-path=\"url(#pd5dabb1f39)\" d=\"M 282.865682 224.64 \r\nL 283.474409 224.64 \r\nL 283.474409 224.64 \r\nL 282.865682 224.64 \r\nz\r\n\" style=\"fill:#1f77b4;\"/>\r\n   </g>\r\n   <g id=\"patch_389\">\r\n    <path clip-path=\"url(#pd5dabb1f39)\" d=\"M 283.474409 224.64 \r\nL 284.083136 224.64 \r\nL 284.083136 224.64 \r\nL 283.474409 224.64 \r\nz\r\n\" style=\"fill:#1f77b4;\"/>\r\n   </g>\r\n   <g id=\"patch_390\">\r\n    <path clip-path=\"url(#pd5dabb1f39)\" d=\"M 284.083136 224.64 \r\nL 284.691864 224.64 \r\nL 284.691864 224.64 \r\nL 284.083136 224.64 \r\nz\r\n\" style=\"fill:#1f77b4;\"/>\r\n   </g>\r\n   <g id=\"patch_391\">\r\n    <path clip-path=\"url(#pd5dabb1f39)\" d=\"M 284.691864 224.64 \r\nL 285.300591 224.64 \r\nL 285.300591 224.64 \r\nL 284.691864 224.64 \r\nz\r\n\" style=\"fill:#1f77b4;\"/>\r\n   </g>\r\n   <g id=\"patch_392\">\r\n    <path clip-path=\"url(#pd5dabb1f39)\" d=\"M 285.300591 224.64 \r\nL 285.909318 224.64 \r\nL 285.909318 224.64 \r\nL 285.300591 224.64 \r\nz\r\n\" style=\"fill:#1f77b4;\"/>\r\n   </g>\r\n   <g id=\"patch_393\">\r\n    <path clip-path=\"url(#pd5dabb1f39)\" d=\"M 285.909318 224.64 \r\nL 286.518045 224.64 \r\nL 286.518045 224.64 \r\nL 285.909318 224.64 \r\nz\r\n\" style=\"fill:#1f77b4;\"/>\r\n   </g>\r\n   <g id=\"patch_394\">\r\n    <path clip-path=\"url(#pd5dabb1f39)\" d=\"M 286.518045 224.64 \r\nL 287.126773 224.64 \r\nL 287.126773 224.64 \r\nL 286.518045 224.64 \r\nz\r\n\" style=\"fill:#1f77b4;\"/>\r\n   </g>\r\n   <g id=\"patch_395\">\r\n    <path clip-path=\"url(#pd5dabb1f39)\" d=\"M 287.126773 224.64 \r\nL 287.7355 224.64 \r\nL 287.7355 224.64 \r\nL 287.126773 224.64 \r\nz\r\n\" style=\"fill:#1f77b4;\"/>\r\n   </g>\r\n   <g id=\"patch_396\">\r\n    <path clip-path=\"url(#pd5dabb1f39)\" d=\"M 287.7355 224.64 \r\nL 288.344227 224.64 \r\nL 288.344227 224.64 \r\nL 287.7355 224.64 \r\nz\r\n\" style=\"fill:#1f77b4;\"/>\r\n   </g>\r\n   <g id=\"patch_397\">\r\n    <path clip-path=\"url(#pd5dabb1f39)\" d=\"M 288.344227 224.64 \r\nL 288.952955 224.64 \r\nL 288.952955 224.64 \r\nL 288.344227 224.64 \r\nz\r\n\" style=\"fill:#1f77b4;\"/>\r\n   </g>\r\n   <g id=\"patch_398\">\r\n    <path clip-path=\"url(#pd5dabb1f39)\" d=\"M 288.952955 224.64 \r\nL 289.561682 224.64 \r\nL 289.561682 224.64 \r\nL 288.952955 224.64 \r\nz\r\n\" style=\"fill:#1f77b4;\"/>\r\n   </g>\r\n   <g id=\"patch_399\">\r\n    <path clip-path=\"url(#pd5dabb1f39)\" d=\"M 289.561682 224.64 \r\nL 290.170409 224.64 \r\nL 290.170409 224.64 \r\nL 289.561682 224.64 \r\nz\r\n\" style=\"fill:#1f77b4;\"/>\r\n   </g>\r\n   <g id=\"patch_400\">\r\n    <path clip-path=\"url(#pd5dabb1f39)\" d=\"M 290.170409 224.64 \r\nL 290.779136 224.64 \r\nL 290.779136 224.64 \r\nL 290.170409 224.64 \r\nz\r\n\" style=\"fill:#1f77b4;\"/>\r\n   </g>\r\n   <g id=\"patch_401\">\r\n    <path clip-path=\"url(#pd5dabb1f39)\" d=\"M 290.779136 224.64 \r\nL 291.387864 224.64 \r\nL 291.387864 224.64 \r\nL 290.779136 224.64 \r\nz\r\n\" style=\"fill:#1f77b4;\"/>\r\n   </g>\r\n   <g id=\"patch_402\">\r\n    <path clip-path=\"url(#pd5dabb1f39)\" d=\"M 291.387864 224.64 \r\nL 291.996591 224.64 \r\nL 291.996591 224.64 \r\nL 291.387864 224.64 \r\nz\r\n\" style=\"fill:#1f77b4;\"/>\r\n   </g>\r\n   <g id=\"patch_403\">\r\n    <path clip-path=\"url(#pd5dabb1f39)\" d=\"M 291.996591 224.64 \r\nL 292.605318 224.64 \r\nL 292.605318 224.64 \r\nL 291.996591 224.64 \r\nz\r\n\" style=\"fill:#1f77b4;\"/>\r\n   </g>\r\n   <g id=\"patch_404\">\r\n    <path clip-path=\"url(#pd5dabb1f39)\" d=\"M 292.605318 224.64 \r\nL 293.214045 224.64 \r\nL 293.214045 224.64 \r\nL 292.605318 224.64 \r\nz\r\n\" style=\"fill:#1f77b4;\"/>\r\n   </g>\r\n   <g id=\"patch_405\">\r\n    <path clip-path=\"url(#pd5dabb1f39)\" d=\"M 293.214045 224.64 \r\nL 293.822773 224.64 \r\nL 293.822773 224.64 \r\nL 293.214045 224.64 \r\nz\r\n\" style=\"fill:#1f77b4;\"/>\r\n   </g>\r\n   <g id=\"patch_406\">\r\n    <path clip-path=\"url(#pd5dabb1f39)\" d=\"M 293.822773 224.64 \r\nL 294.4315 224.64 \r\nL 294.4315 224.64 \r\nL 293.822773 224.64 \r\nz\r\n\" style=\"fill:#1f77b4;\"/>\r\n   </g>\r\n   <g id=\"patch_407\">\r\n    <path clip-path=\"url(#pd5dabb1f39)\" d=\"M 294.4315 224.64 \r\nL 295.040227 224.64 \r\nL 295.040227 224.64 \r\nL 294.4315 224.64 \r\nz\r\n\" style=\"fill:#1f77b4;\"/>\r\n   </g>\r\n   <g id=\"patch_408\">\r\n    <path clip-path=\"url(#pd5dabb1f39)\" d=\"M 295.040227 224.64 \r\nL 295.648955 224.64 \r\nL 295.648955 224.64 \r\nL 295.040227 224.64 \r\nz\r\n\" style=\"fill:#1f77b4;\"/>\r\n   </g>\r\n   <g id=\"patch_409\">\r\n    <path clip-path=\"url(#pd5dabb1f39)\" d=\"M 295.648955 224.64 \r\nL 296.257682 224.64 \r\nL 296.257682 224.64 \r\nL 295.648955 224.64 \r\nz\r\n\" style=\"fill:#1f77b4;\"/>\r\n   </g>\r\n   <g id=\"patch_410\">\r\n    <path clip-path=\"url(#pd5dabb1f39)\" d=\"M 296.257682 224.64 \r\nL 296.866409 224.64 \r\nL 296.866409 224.64 \r\nL 296.257682 224.64 \r\nz\r\n\" style=\"fill:#1f77b4;\"/>\r\n   </g>\r\n   <g id=\"patch_411\">\r\n    <path clip-path=\"url(#pd5dabb1f39)\" d=\"M 296.866409 224.64 \r\nL 297.475136 224.64 \r\nL 297.475136 224.64 \r\nL 296.866409 224.64 \r\nz\r\n\" style=\"fill:#1f77b4;\"/>\r\n   </g>\r\n   <g id=\"patch_412\">\r\n    <path clip-path=\"url(#pd5dabb1f39)\" d=\"M 297.475136 224.64 \r\nL 298.083864 224.64 \r\nL 298.083864 224.64 \r\nL 297.475136 224.64 \r\nz\r\n\" style=\"fill:#1f77b4;\"/>\r\n   </g>\r\n   <g id=\"patch_413\">\r\n    <path clip-path=\"url(#pd5dabb1f39)\" d=\"M 298.083864 224.64 \r\nL 298.692591 224.64 \r\nL 298.692591 224.64 \r\nL 298.083864 224.64 \r\nz\r\n\" style=\"fill:#1f77b4;\"/>\r\n   </g>\r\n   <g id=\"patch_414\">\r\n    <path clip-path=\"url(#pd5dabb1f39)\" d=\"M 298.692591 224.64 \r\nL 299.301318 224.64 \r\nL 299.301318 224.64 \r\nL 298.692591 224.64 \r\nz\r\n\" style=\"fill:#1f77b4;\"/>\r\n   </g>\r\n   <g id=\"patch_415\">\r\n    <path clip-path=\"url(#pd5dabb1f39)\" d=\"M 299.301318 224.64 \r\nL 299.910045 224.64 \r\nL 299.910045 224.64 \r\nL 299.301318 224.64 \r\nz\r\n\" style=\"fill:#1f77b4;\"/>\r\n   </g>\r\n   <g id=\"patch_416\">\r\n    <path clip-path=\"url(#pd5dabb1f39)\" d=\"M 299.910045 224.64 \r\nL 300.518773 224.64 \r\nL 300.518773 224.64 \r\nL 299.910045 224.64 \r\nz\r\n\" style=\"fill:#1f77b4;\"/>\r\n   </g>\r\n   <g id=\"patch_417\">\r\n    <path clip-path=\"url(#pd5dabb1f39)\" d=\"M 300.518773 224.64 \r\nL 301.1275 224.64 \r\nL 301.1275 224.64 \r\nL 300.518773 224.64 \r\nz\r\n\" style=\"fill:#1f77b4;\"/>\r\n   </g>\r\n   <g id=\"patch_418\">\r\n    <path clip-path=\"url(#pd5dabb1f39)\" d=\"M 301.1275 224.64 \r\nL 301.736227 224.64 \r\nL 301.736227 224.64 \r\nL 301.1275 224.64 \r\nz\r\n\" style=\"fill:#1f77b4;\"/>\r\n   </g>\r\n   <g id=\"patch_419\">\r\n    <path clip-path=\"url(#pd5dabb1f39)\" d=\"M 301.736227 224.64 \r\nL 302.344955 224.64 \r\nL 302.344955 224.64 \r\nL 301.736227 224.64 \r\nz\r\n\" style=\"fill:#1f77b4;\"/>\r\n   </g>\r\n   <g id=\"patch_420\">\r\n    <path clip-path=\"url(#pd5dabb1f39)\" d=\"M 302.344955 224.64 \r\nL 302.953682 224.64 \r\nL 302.953682 224.64 \r\nL 302.344955 224.64 \r\nz\r\n\" style=\"fill:#1f77b4;\"/>\r\n   </g>\r\n   <g id=\"patch_421\">\r\n    <path clip-path=\"url(#pd5dabb1f39)\" d=\"M 302.953682 224.64 \r\nL 303.562409 224.64 \r\nL 303.562409 224.64 \r\nL 302.953682 224.64 \r\nz\r\n\" style=\"fill:#1f77b4;\"/>\r\n   </g>\r\n   <g id=\"patch_422\">\r\n    <path clip-path=\"url(#pd5dabb1f39)\" d=\"M 303.562409 224.64 \r\nL 304.171136 224.64 \r\nL 304.171136 224.64 \r\nL 303.562409 224.64 \r\nz\r\n\" style=\"fill:#1f77b4;\"/>\r\n   </g>\r\n   <g id=\"patch_423\">\r\n    <path clip-path=\"url(#pd5dabb1f39)\" d=\"M 304.171136 224.64 \r\nL 304.779864 224.64 \r\nL 304.779864 224.64 \r\nL 304.171136 224.64 \r\nz\r\n\" style=\"fill:#1f77b4;\"/>\r\n   </g>\r\n   <g id=\"patch_424\">\r\n    <path clip-path=\"url(#pd5dabb1f39)\" d=\"M 304.779864 224.64 \r\nL 305.388591 224.64 \r\nL 305.388591 224.64 \r\nL 304.779864 224.64 \r\nz\r\n\" style=\"fill:#1f77b4;\"/>\r\n   </g>\r\n   <g id=\"patch_425\">\r\n    <path clip-path=\"url(#pd5dabb1f39)\" d=\"M 305.388591 224.64 \r\nL 305.997318 224.64 \r\nL 305.997318 224.64 \r\nL 305.388591 224.64 \r\nz\r\n\" style=\"fill:#1f77b4;\"/>\r\n   </g>\r\n   <g id=\"patch_426\">\r\n    <path clip-path=\"url(#pd5dabb1f39)\" d=\"M 305.997318 224.64 \r\nL 306.606045 224.64 \r\nL 306.606045 224.64 \r\nL 305.997318 224.64 \r\nz\r\n\" style=\"fill:#1f77b4;\"/>\r\n   </g>\r\n   <g id=\"patch_427\">\r\n    <path clip-path=\"url(#pd5dabb1f39)\" d=\"M 306.606045 224.64 \r\nL 307.214773 224.64 \r\nL 307.214773 224.64 \r\nL 306.606045 224.64 \r\nz\r\n\" style=\"fill:#1f77b4;\"/>\r\n   </g>\r\n   <g id=\"patch_428\">\r\n    <path clip-path=\"url(#pd5dabb1f39)\" d=\"M 307.214773 224.64 \r\nL 307.8235 224.64 \r\nL 307.8235 224.64 \r\nL 307.214773 224.64 \r\nz\r\n\" style=\"fill:#1f77b4;\"/>\r\n   </g>\r\n   <g id=\"patch_429\">\r\n    <path clip-path=\"url(#pd5dabb1f39)\" d=\"M 307.8235 224.64 \r\nL 308.432227 224.64 \r\nL 308.432227 224.64 \r\nL 307.8235 224.64 \r\nz\r\n\" style=\"fill:#1f77b4;\"/>\r\n   </g>\r\n   <g id=\"patch_430\">\r\n    <path clip-path=\"url(#pd5dabb1f39)\" d=\"M 308.432227 224.64 \r\nL 309.040955 224.64 \r\nL 309.040955 224.64 \r\nL 308.432227 224.64 \r\nz\r\n\" style=\"fill:#1f77b4;\"/>\r\n   </g>\r\n   <g id=\"patch_431\">\r\n    <path clip-path=\"url(#pd5dabb1f39)\" d=\"M 309.040955 224.64 \r\nL 309.649682 224.64 \r\nL 309.649682 224.64 \r\nL 309.040955 224.64 \r\nz\r\n\" style=\"fill:#1f77b4;\"/>\r\n   </g>\r\n   <g id=\"patch_432\">\r\n    <path clip-path=\"url(#pd5dabb1f39)\" d=\"M 309.649682 224.64 \r\nL 310.258409 224.64 \r\nL 310.258409 224.64 \r\nL 309.649682 224.64 \r\nz\r\n\" style=\"fill:#1f77b4;\"/>\r\n   </g>\r\n   <g id=\"patch_433\">\r\n    <path clip-path=\"url(#pd5dabb1f39)\" d=\"M 310.258409 224.64 \r\nL 310.867136 224.64 \r\nL 310.867136 224.64 \r\nL 310.258409 224.64 \r\nz\r\n\" style=\"fill:#1f77b4;\"/>\r\n   </g>\r\n   <g id=\"patch_434\">\r\n    <path clip-path=\"url(#pd5dabb1f39)\" d=\"M 310.867136 224.64 \r\nL 311.475864 224.64 \r\nL 311.475864 224.64 \r\nL 310.867136 224.64 \r\nz\r\n\" style=\"fill:#1f77b4;\"/>\r\n   </g>\r\n   <g id=\"patch_435\">\r\n    <path clip-path=\"url(#pd5dabb1f39)\" d=\"M 311.475864 224.64 \r\nL 312.084591 224.64 \r\nL 312.084591 224.64 \r\nL 311.475864 224.64 \r\nz\r\n\" style=\"fill:#1f77b4;\"/>\r\n   </g>\r\n   <g id=\"patch_436\">\r\n    <path clip-path=\"url(#pd5dabb1f39)\" d=\"M 312.084591 224.64 \r\nL 312.693318 224.64 \r\nL 312.693318 224.64 \r\nL 312.084591 224.64 \r\nz\r\n\" style=\"fill:#1f77b4;\"/>\r\n   </g>\r\n   <g id=\"patch_437\">\r\n    <path clip-path=\"url(#pd5dabb1f39)\" d=\"M 312.693318 224.64 \r\nL 313.302045 224.64 \r\nL 313.302045 224.64 \r\nL 312.693318 224.64 \r\nz\r\n\" style=\"fill:#1f77b4;\"/>\r\n   </g>\r\n   <g id=\"patch_438\">\r\n    <path clip-path=\"url(#pd5dabb1f39)\" d=\"M 313.302045 224.64 \r\nL 313.910773 224.64 \r\nL 313.910773 224.64 \r\nL 313.302045 224.64 \r\nz\r\n\" style=\"fill:#1f77b4;\"/>\r\n   </g>\r\n   <g id=\"patch_439\">\r\n    <path clip-path=\"url(#pd5dabb1f39)\" d=\"M 313.910773 224.64 \r\nL 314.5195 224.64 \r\nL 314.5195 224.64 \r\nL 313.910773 224.64 \r\nz\r\n\" style=\"fill:#1f77b4;\"/>\r\n   </g>\r\n   <g id=\"patch_440\">\r\n    <path clip-path=\"url(#pd5dabb1f39)\" d=\"M 314.5195 224.64 \r\nL 315.128227 224.64 \r\nL 315.128227 224.64 \r\nL 314.5195 224.64 \r\nz\r\n\" style=\"fill:#1f77b4;\"/>\r\n   </g>\r\n   <g id=\"patch_441\">\r\n    <path clip-path=\"url(#pd5dabb1f39)\" d=\"M 315.128227 224.64 \r\nL 315.736955 224.64 \r\nL 315.736955 224.64 \r\nL 315.128227 224.64 \r\nz\r\n\" style=\"fill:#1f77b4;\"/>\r\n   </g>\r\n   <g id=\"patch_442\">\r\n    <path clip-path=\"url(#pd5dabb1f39)\" d=\"M 315.736955 224.64 \r\nL 316.345682 224.64 \r\nL 316.345682 224.64 \r\nL 315.736955 224.64 \r\nz\r\n\" style=\"fill:#1f77b4;\"/>\r\n   </g>\r\n   <g id=\"patch_443\">\r\n    <path clip-path=\"url(#pd5dabb1f39)\" d=\"M 316.345682 224.64 \r\nL 316.954409 224.64 \r\nL 316.954409 224.64 \r\nL 316.345682 224.64 \r\nz\r\n\" style=\"fill:#1f77b4;\"/>\r\n   </g>\r\n   <g id=\"patch_444\">\r\n    <path clip-path=\"url(#pd5dabb1f39)\" d=\"M 316.954409 224.64 \r\nL 317.563136 224.64 \r\nL 317.563136 224.64 \r\nL 316.954409 224.64 \r\nz\r\n\" style=\"fill:#1f77b4;\"/>\r\n   </g>\r\n   <g id=\"patch_445\">\r\n    <path clip-path=\"url(#pd5dabb1f39)\" d=\"M 317.563136 224.64 \r\nL 318.171864 224.64 \r\nL 318.171864 224.64 \r\nL 317.563136 224.64 \r\nz\r\n\" style=\"fill:#1f77b4;\"/>\r\n   </g>\r\n   <g id=\"patch_446\">\r\n    <path clip-path=\"url(#pd5dabb1f39)\" d=\"M 318.171864 224.64 \r\nL 318.780591 224.64 \r\nL 318.780591 224.64 \r\nL 318.171864 224.64 \r\nz\r\n\" style=\"fill:#1f77b4;\"/>\r\n   </g>\r\n   <g id=\"patch_447\">\r\n    <path clip-path=\"url(#pd5dabb1f39)\" d=\"M 318.780591 224.64 \r\nL 319.389318 224.64 \r\nL 319.389318 224.64 \r\nL 318.780591 224.64 \r\nz\r\n\" style=\"fill:#1f77b4;\"/>\r\n   </g>\r\n   <g id=\"patch_448\">\r\n    <path clip-path=\"url(#pd5dabb1f39)\" d=\"M 319.389318 224.64 \r\nL 319.998045 224.64 \r\nL 319.998045 224.64 \r\nL 319.389318 224.64 \r\nz\r\n\" style=\"fill:#1f77b4;\"/>\r\n   </g>\r\n   <g id=\"patch_449\">\r\n    <path clip-path=\"url(#pd5dabb1f39)\" d=\"M 319.998045 224.64 \r\nL 320.606773 224.64 \r\nL 320.606773 224.64 \r\nL 319.998045 224.64 \r\nz\r\n\" style=\"fill:#1f77b4;\"/>\r\n   </g>\r\n   <g id=\"patch_450\">\r\n    <path clip-path=\"url(#pd5dabb1f39)\" d=\"M 320.606773 224.64 \r\nL 321.2155 224.64 \r\nL 321.2155 224.64 \r\nL 320.606773 224.64 \r\nz\r\n\" style=\"fill:#1f77b4;\"/>\r\n   </g>\r\n   <g id=\"patch_451\">\r\n    <path clip-path=\"url(#pd5dabb1f39)\" d=\"M 321.2155 224.64 \r\nL 321.824227 224.64 \r\nL 321.824227 224.64 \r\nL 321.2155 224.64 \r\nz\r\n\" style=\"fill:#1f77b4;\"/>\r\n   </g>\r\n   <g id=\"patch_452\">\r\n    <path clip-path=\"url(#pd5dabb1f39)\" d=\"M 321.824227 224.64 \r\nL 322.432955 224.64 \r\nL 322.432955 224.64 \r\nL 321.824227 224.64 \r\nz\r\n\" style=\"fill:#1f77b4;\"/>\r\n   </g>\r\n   <g id=\"patch_453\">\r\n    <path clip-path=\"url(#pd5dabb1f39)\" d=\"M 322.432955 224.64 \r\nL 323.041682 224.64 \r\nL 323.041682 224.64 \r\nL 322.432955 224.64 \r\nz\r\n\" style=\"fill:#1f77b4;\"/>\r\n   </g>\r\n   <g id=\"patch_454\">\r\n    <path clip-path=\"url(#pd5dabb1f39)\" d=\"M 323.041682 224.64 \r\nL 323.650409 224.64 \r\nL 323.650409 224.64 \r\nL 323.041682 224.64 \r\nz\r\n\" style=\"fill:#1f77b4;\"/>\r\n   </g>\r\n   <g id=\"patch_455\">\r\n    <path clip-path=\"url(#pd5dabb1f39)\" d=\"M 323.650409 224.64 \r\nL 324.259136 224.64 \r\nL 324.259136 224.64 \r\nL 323.650409 224.64 \r\nz\r\n\" style=\"fill:#1f77b4;\"/>\r\n   </g>\r\n   <g id=\"patch_456\">\r\n    <path clip-path=\"url(#pd5dabb1f39)\" d=\"M 324.259136 224.64 \r\nL 324.867864 224.64 \r\nL 324.867864 224.64 \r\nL 324.259136 224.64 \r\nz\r\n\" style=\"fill:#1f77b4;\"/>\r\n   </g>\r\n   <g id=\"patch_457\">\r\n    <path clip-path=\"url(#pd5dabb1f39)\" d=\"M 324.867864 224.64 \r\nL 325.476591 224.64 \r\nL 325.476591 224.64 \r\nL 324.867864 224.64 \r\nz\r\n\" style=\"fill:#1f77b4;\"/>\r\n   </g>\r\n   <g id=\"patch_458\">\r\n    <path clip-path=\"url(#pd5dabb1f39)\" d=\"M 325.476591 224.64 \r\nL 326.085318 224.64 \r\nL 326.085318 224.64 \r\nL 325.476591 224.64 \r\nz\r\n\" style=\"fill:#1f77b4;\"/>\r\n   </g>\r\n   <g id=\"patch_459\">\r\n    <path clip-path=\"url(#pd5dabb1f39)\" d=\"M 326.085318 224.64 \r\nL 326.694045 224.64 \r\nL 326.694045 224.64 \r\nL 326.085318 224.64 \r\nz\r\n\" style=\"fill:#1f77b4;\"/>\r\n   </g>\r\n   <g id=\"patch_460\">\r\n    <path clip-path=\"url(#pd5dabb1f39)\" d=\"M 326.694045 224.64 \r\nL 327.302773 224.64 \r\nL 327.302773 224.64 \r\nL 326.694045 224.64 \r\nz\r\n\" style=\"fill:#1f77b4;\"/>\r\n   </g>\r\n   <g id=\"patch_461\">\r\n    <path clip-path=\"url(#pd5dabb1f39)\" d=\"M 327.302773 224.64 \r\nL 327.9115 224.64 \r\nL 327.9115 224.64 \r\nL 327.302773 224.64 \r\nz\r\n\" style=\"fill:#1f77b4;\"/>\r\n   </g>\r\n   <g id=\"patch_462\">\r\n    <path clip-path=\"url(#pd5dabb1f39)\" d=\"M 327.9115 224.64 \r\nL 328.520227 224.64 \r\nL 328.520227 224.64 \r\nL 327.9115 224.64 \r\nz\r\n\" style=\"fill:#1f77b4;\"/>\r\n   </g>\r\n   <g id=\"patch_463\">\r\n    <path clip-path=\"url(#pd5dabb1f39)\" d=\"M 328.520227 224.64 \r\nL 329.128955 224.64 \r\nL 329.128955 224.64 \r\nL 328.520227 224.64 \r\nz\r\n\" style=\"fill:#1f77b4;\"/>\r\n   </g>\r\n   <g id=\"patch_464\">\r\n    <path clip-path=\"url(#pd5dabb1f39)\" d=\"M 329.128955 224.64 \r\nL 329.737682 224.64 \r\nL 329.737682 224.64 \r\nL 329.128955 224.64 \r\nz\r\n\" style=\"fill:#1f77b4;\"/>\r\n   </g>\r\n   <g id=\"patch_465\">\r\n    <path clip-path=\"url(#pd5dabb1f39)\" d=\"M 329.737682 224.64 \r\nL 330.346409 224.64 \r\nL 330.346409 224.64 \r\nL 329.737682 224.64 \r\nz\r\n\" style=\"fill:#1f77b4;\"/>\r\n   </g>\r\n   <g id=\"patch_466\">\r\n    <path clip-path=\"url(#pd5dabb1f39)\" d=\"M 330.346409 224.64 \r\nL 330.955136 224.64 \r\nL 330.955136 224.64 \r\nL 330.346409 224.64 \r\nz\r\n\" style=\"fill:#1f77b4;\"/>\r\n   </g>\r\n   <g id=\"patch_467\">\r\n    <path clip-path=\"url(#pd5dabb1f39)\" d=\"M 330.955136 224.64 \r\nL 331.563864 224.64 \r\nL 331.563864 224.64 \r\nL 330.955136 224.64 \r\nz\r\n\" style=\"fill:#1f77b4;\"/>\r\n   </g>\r\n   <g id=\"patch_468\">\r\n    <path clip-path=\"url(#pd5dabb1f39)\" d=\"M 331.563864 224.64 \r\nL 332.172591 224.64 \r\nL 332.172591 224.64 \r\nL 331.563864 224.64 \r\nz\r\n\" style=\"fill:#1f77b4;\"/>\r\n   </g>\r\n   <g id=\"patch_469\">\r\n    <path clip-path=\"url(#pd5dabb1f39)\" d=\"M 332.172591 224.64 \r\nL 332.781318 224.64 \r\nL 332.781318 224.64 \r\nL 332.172591 224.64 \r\nz\r\n\" style=\"fill:#1f77b4;\"/>\r\n   </g>\r\n   <g id=\"patch_470\">\r\n    <path clip-path=\"url(#pd5dabb1f39)\" d=\"M 332.781318 224.64 \r\nL 333.390045 224.64 \r\nL 333.390045 224.64 \r\nL 332.781318 224.64 \r\nz\r\n\" style=\"fill:#1f77b4;\"/>\r\n   </g>\r\n   <g id=\"patch_471\">\r\n    <path clip-path=\"url(#pd5dabb1f39)\" d=\"M 333.390045 224.64 \r\nL 333.998773 224.64 \r\nL 333.998773 224.64 \r\nL 333.390045 224.64 \r\nz\r\n\" style=\"fill:#1f77b4;\"/>\r\n   </g>\r\n   <g id=\"patch_472\">\r\n    <path clip-path=\"url(#pd5dabb1f39)\" d=\"M 333.998773 224.64 \r\nL 334.6075 224.64 \r\nL 334.6075 224.64 \r\nL 333.998773 224.64 \r\nz\r\n\" style=\"fill:#1f77b4;\"/>\r\n   </g>\r\n   <g id=\"patch_473\">\r\n    <path clip-path=\"url(#pd5dabb1f39)\" d=\"M 334.6075 224.64 \r\nL 335.216227 224.64 \r\nL 335.216227 224.64 \r\nL 334.6075 224.64 \r\nz\r\n\" style=\"fill:#1f77b4;\"/>\r\n   </g>\r\n   <g id=\"patch_474\">\r\n    <path clip-path=\"url(#pd5dabb1f39)\" d=\"M 335.216227 224.64 \r\nL 335.824955 224.64 \r\nL 335.824955 224.64 \r\nL 335.216227 224.64 \r\nz\r\n\" style=\"fill:#1f77b4;\"/>\r\n   </g>\r\n   <g id=\"patch_475\">\r\n    <path clip-path=\"url(#pd5dabb1f39)\" d=\"M 335.824955 224.64 \r\nL 336.433682 224.64 \r\nL 336.433682 224.64 \r\nL 335.824955 224.64 \r\nz\r\n\" style=\"fill:#1f77b4;\"/>\r\n   </g>\r\n   <g id=\"patch_476\">\r\n    <path clip-path=\"url(#pd5dabb1f39)\" d=\"M 336.433682 224.64 \r\nL 337.042409 224.64 \r\nL 337.042409 224.64 \r\nL 336.433682 224.64 \r\nz\r\n\" style=\"fill:#1f77b4;\"/>\r\n   </g>\r\n   <g id=\"patch_477\">\r\n    <path clip-path=\"url(#pd5dabb1f39)\" d=\"M 337.042409 224.64 \r\nL 337.651136 224.64 \r\nL 337.651136 224.64 \r\nL 337.042409 224.64 \r\nz\r\n\" style=\"fill:#1f77b4;\"/>\r\n   </g>\r\n   <g id=\"patch_478\">\r\n    <path clip-path=\"url(#pd5dabb1f39)\" d=\"M 337.651136 224.64 \r\nL 338.259864 224.64 \r\nL 338.259864 224.64 \r\nL 337.651136 224.64 \r\nz\r\n\" style=\"fill:#1f77b4;\"/>\r\n   </g>\r\n   <g id=\"patch_479\">\r\n    <path clip-path=\"url(#pd5dabb1f39)\" d=\"M 338.259864 224.64 \r\nL 338.868591 224.64 \r\nL 338.868591 224.64 \r\nL 338.259864 224.64 \r\nz\r\n\" style=\"fill:#1f77b4;\"/>\r\n   </g>\r\n   <g id=\"patch_480\">\r\n    <path clip-path=\"url(#pd5dabb1f39)\" d=\"M 338.868591 224.64 \r\nL 339.477318 224.64 \r\nL 339.477318 224.64 \r\nL 338.868591 224.64 \r\nz\r\n\" style=\"fill:#1f77b4;\"/>\r\n   </g>\r\n   <g id=\"patch_481\">\r\n    <path clip-path=\"url(#pd5dabb1f39)\" d=\"M 339.477318 224.64 \r\nL 340.086045 224.64 \r\nL 340.086045 224.64 \r\nL 339.477318 224.64 \r\nz\r\n\" style=\"fill:#1f77b4;\"/>\r\n   </g>\r\n   <g id=\"patch_482\">\r\n    <path clip-path=\"url(#pd5dabb1f39)\" d=\"M 340.086045 224.64 \r\nL 340.694773 224.64 \r\nL 340.694773 224.64 \r\nL 340.086045 224.64 \r\nz\r\n\" style=\"fill:#1f77b4;\"/>\r\n   </g>\r\n   <g id=\"patch_483\">\r\n    <path clip-path=\"url(#pd5dabb1f39)\" d=\"M 340.694773 224.64 \r\nL 341.3035 224.64 \r\nL 341.3035 224.64 \r\nL 340.694773 224.64 \r\nz\r\n\" style=\"fill:#1f77b4;\"/>\r\n   </g>\r\n   <g id=\"patch_484\">\r\n    <path clip-path=\"url(#pd5dabb1f39)\" d=\"M 341.3035 224.64 \r\nL 341.912227 224.64 \r\nL 341.912227 224.64 \r\nL 341.3035 224.64 \r\nz\r\n\" style=\"fill:#1f77b4;\"/>\r\n   </g>\r\n   <g id=\"patch_485\">\r\n    <path clip-path=\"url(#pd5dabb1f39)\" d=\"M 341.912227 224.64 \r\nL 342.520955 224.64 \r\nL 342.520955 224.64 \r\nL 341.912227 224.64 \r\nz\r\n\" style=\"fill:#1f77b4;\"/>\r\n   </g>\r\n   <g id=\"patch_486\">\r\n    <path clip-path=\"url(#pd5dabb1f39)\" d=\"M 342.520955 224.64 \r\nL 343.129682 224.64 \r\nL 343.129682 224.64 \r\nL 342.520955 224.64 \r\nz\r\n\" style=\"fill:#1f77b4;\"/>\r\n   </g>\r\n   <g id=\"patch_487\">\r\n    <path clip-path=\"url(#pd5dabb1f39)\" d=\"M 343.129682 224.64 \r\nL 343.738409 224.64 \r\nL 343.738409 224.64 \r\nL 343.129682 224.64 \r\nz\r\n\" style=\"fill:#1f77b4;\"/>\r\n   </g>\r\n   <g id=\"patch_488\">\r\n    <path clip-path=\"url(#pd5dabb1f39)\" d=\"M 343.738409 224.64 \r\nL 344.347136 224.64 \r\nL 344.347136 224.64 \r\nL 343.738409 224.64 \r\nz\r\n\" style=\"fill:#1f77b4;\"/>\r\n   </g>\r\n   <g id=\"patch_489\">\r\n    <path clip-path=\"url(#pd5dabb1f39)\" d=\"M 344.347136 224.64 \r\nL 344.955864 224.64 \r\nL 344.955864 224.64 \r\nL 344.347136 224.64 \r\nz\r\n\" style=\"fill:#1f77b4;\"/>\r\n   </g>\r\n   <g id=\"patch_490\">\r\n    <path clip-path=\"url(#pd5dabb1f39)\" d=\"M 344.955864 224.64 \r\nL 345.564591 224.64 \r\nL 345.564591 224.64 \r\nL 344.955864 224.64 \r\nz\r\n\" style=\"fill:#1f77b4;\"/>\r\n   </g>\r\n   <g id=\"patch_491\">\r\n    <path clip-path=\"url(#pd5dabb1f39)\" d=\"M 345.564591 224.64 \r\nL 346.173318 224.64 \r\nL 346.173318 224.64 \r\nL 345.564591 224.64 \r\nz\r\n\" style=\"fill:#1f77b4;\"/>\r\n   </g>\r\n   <g id=\"patch_492\">\r\n    <path clip-path=\"url(#pd5dabb1f39)\" d=\"M 346.173318 224.64 \r\nL 346.782045 224.64 \r\nL 346.782045 224.64 \r\nL 346.173318 224.64 \r\nz\r\n\" style=\"fill:#1f77b4;\"/>\r\n   </g>\r\n   <g id=\"patch_493\">\r\n    <path clip-path=\"url(#pd5dabb1f39)\" d=\"M 346.782045 224.64 \r\nL 347.390773 224.64 \r\nL 347.390773 224.64 \r\nL 346.782045 224.64 \r\nz\r\n\" style=\"fill:#1f77b4;\"/>\r\n   </g>\r\n   <g id=\"patch_494\">\r\n    <path clip-path=\"url(#pd5dabb1f39)\" d=\"M 347.390773 224.64 \r\nL 347.9995 224.64 \r\nL 347.9995 224.64 \r\nL 347.390773 224.64 \r\nz\r\n\" style=\"fill:#1f77b4;\"/>\r\n   </g>\r\n   <g id=\"patch_495\">\r\n    <path clip-path=\"url(#pd5dabb1f39)\" d=\"M 347.9995 224.64 \r\nL 348.608227 224.64 \r\nL 348.608227 224.64 \r\nL 347.9995 224.64 \r\nz\r\n\" style=\"fill:#1f77b4;\"/>\r\n   </g>\r\n   <g id=\"patch_496\">\r\n    <path clip-path=\"url(#pd5dabb1f39)\" d=\"M 348.608227 224.64 \r\nL 349.216955 224.64 \r\nL 349.216955 224.64 \r\nL 348.608227 224.64 \r\nz\r\n\" style=\"fill:#1f77b4;\"/>\r\n   </g>\r\n   <g id=\"patch_497\">\r\n    <path clip-path=\"url(#pd5dabb1f39)\" d=\"M 349.216955 224.64 \r\nL 349.825682 224.64 \r\nL 349.825682 224.64 \r\nL 349.216955 224.64 \r\nz\r\n\" style=\"fill:#1f77b4;\"/>\r\n   </g>\r\n   <g id=\"patch_498\">\r\n    <path clip-path=\"url(#pd5dabb1f39)\" d=\"M 349.825682 224.64 \r\nL 350.434409 224.64 \r\nL 350.434409 224.64 \r\nL 349.825682 224.64 \r\nz\r\n\" style=\"fill:#1f77b4;\"/>\r\n   </g>\r\n   <g id=\"patch_499\">\r\n    <path clip-path=\"url(#pd5dabb1f39)\" d=\"M 350.434409 224.64 \r\nL 351.043136 224.64 \r\nL 351.043136 224.64 \r\nL 350.434409 224.64 \r\nz\r\n\" style=\"fill:#1f77b4;\"/>\r\n   </g>\r\n   <g id=\"patch_500\">\r\n    <path clip-path=\"url(#pd5dabb1f39)\" d=\"M 351.043136 224.64 \r\nL 351.651864 224.64 \r\nL 351.651864 224.64 \r\nL 351.043136 224.64 \r\nz\r\n\" style=\"fill:#1f77b4;\"/>\r\n   </g>\r\n   <g id=\"patch_501\">\r\n    <path clip-path=\"url(#pd5dabb1f39)\" d=\"M 351.651864 224.64 \r\nL 352.260591 224.64 \r\nL 352.260591 224.64 \r\nL 351.651864 224.64 \r\nz\r\n\" style=\"fill:#1f77b4;\"/>\r\n   </g>\r\n   <g id=\"patch_502\">\r\n    <path clip-path=\"url(#pd5dabb1f39)\" d=\"M 352.260591 224.64 \r\nL 352.869318 224.64 \r\nL 352.869318 224.41417 \r\nL 352.260591 224.41417 \r\nz\r\n\" style=\"fill:#1f77b4;\"/>\r\n   </g>\r\n   <g id=\"matplotlib.axis_1\">\r\n    <g id=\"xtick_1\">\r\n     <g id=\"line2d_1\">\r\n      <defs>\r\n       <path d=\"M 0 0 \r\nL 0 3.5 \r\n\" id=\"m73502b5282\" style=\"stroke:#000000;stroke-width:0.8;\"/>\r\n      </defs>\r\n      <g>\r\n       <use style=\"stroke:#000000;stroke-width:0.8;\" x=\"47.418669\" xlink:href=\"#m73502b5282\" y=\"224.64\"/>\r\n      </g>\r\n     </g>\r\n     <g id=\"text_1\">\r\n      <!-- 0 -->\r\n      <g transform=\"translate(44.237419 239.238437)scale(0.1 -0.1)\">\r\n       <defs>\r\n        <path d=\"M 2034 4250 \r\nQ 1547 4250 1301 3770 \r\nQ 1056 3291 1056 2328 \r\nQ 1056 1369 1301 889 \r\nQ 1547 409 2034 409 \r\nQ 2525 409 2770 889 \r\nQ 3016 1369 3016 2328 \r\nQ 3016 3291 2770 3770 \r\nQ 2525 4250 2034 4250 \r\nz\r\nM 2034 4750 \r\nQ 2819 4750 3233 4129 \r\nQ 3647 3509 3647 2328 \r\nQ 3647 1150 3233 529 \r\nQ 2819 -91 2034 -91 \r\nQ 1250 -91 836 529 \r\nQ 422 1150 422 2328 \r\nQ 422 3509 836 4129 \r\nQ 1250 4750 2034 4750 \r\nz\r\n\" id=\"DejaVuSans-30\" transform=\"scale(0.015625)\"/>\r\n       </defs>\r\n       <use xlink:href=\"#DejaVuSans-30\"/>\r\n      </g>\r\n     </g>\r\n    </g>\r\n    <g id=\"xtick_2\">\r\n     <g id=\"line2d_2\">\r\n      <g>\r\n       <use style=\"stroke:#000000;stroke-width:0.8;\" x=\"101.769318\" xlink:href=\"#m73502b5282\" y=\"224.64\"/>\r\n      </g>\r\n     </g>\r\n     <g id=\"text_2\">\r\n      <!-- 50 -->\r\n      <g transform=\"translate(95.406818 239.238437)scale(0.1 -0.1)\">\r\n       <defs>\r\n        <path d=\"M 691 4666 \r\nL 3169 4666 \r\nL 3169 4134 \r\nL 1269 4134 \r\nL 1269 2991 \r\nQ 1406 3038 1543 3061 \r\nQ 1681 3084 1819 3084 \r\nQ 2600 3084 3056 2656 \r\nQ 3513 2228 3513 1497 \r\nQ 3513 744 3044 326 \r\nQ 2575 -91 1722 -91 \r\nQ 1428 -91 1123 -41 \r\nQ 819 9 494 109 \r\nL 494 744 \r\nQ 775 591 1075 516 \r\nQ 1375 441 1709 441 \r\nQ 2250 441 2565 725 \r\nQ 2881 1009 2881 1497 \r\nQ 2881 1984 2565 2268 \r\nQ 2250 2553 1709 2553 \r\nQ 1456 2553 1204 2497 \r\nQ 953 2441 691 2322 \r\nL 691 4666 \r\nz\r\n\" id=\"DejaVuSans-35\" transform=\"scale(0.015625)\"/>\r\n       </defs>\r\n       <use xlink:href=\"#DejaVuSans-35\"/>\r\n       <use x=\"63.623047\" xlink:href=\"#DejaVuSans-30\"/>\r\n      </g>\r\n     </g>\r\n    </g>\r\n    <g id=\"xtick_3\">\r\n     <g id=\"line2d_3\">\r\n      <g>\r\n       <use style=\"stroke:#000000;stroke-width:0.8;\" x=\"156.119968\" xlink:href=\"#m73502b5282\" y=\"224.64\"/>\r\n      </g>\r\n     </g>\r\n     <g id=\"text_3\">\r\n      <!-- 100 -->\r\n      <g transform=\"translate(146.576218 239.238437)scale(0.1 -0.1)\">\r\n       <defs>\r\n        <path d=\"M 794 531 \r\nL 1825 531 \r\nL 1825 4091 \r\nL 703 3866 \r\nL 703 4441 \r\nL 1819 4666 \r\nL 2450 4666 \r\nL 2450 531 \r\nL 3481 531 \r\nL 3481 0 \r\nL 794 0 \r\nL 794 531 \r\nz\r\n\" id=\"DejaVuSans-31\" transform=\"scale(0.015625)\"/>\r\n       </defs>\r\n       <use xlink:href=\"#DejaVuSans-31\"/>\r\n       <use x=\"63.623047\" xlink:href=\"#DejaVuSans-30\"/>\r\n       <use x=\"127.246094\" xlink:href=\"#DejaVuSans-30\"/>\r\n      </g>\r\n     </g>\r\n    </g>\r\n    <g id=\"xtick_4\">\r\n     <g id=\"line2d_4\">\r\n      <g>\r\n       <use style=\"stroke:#000000;stroke-width:0.8;\" x=\"210.470617\" xlink:href=\"#m73502b5282\" y=\"224.64\"/>\r\n      </g>\r\n     </g>\r\n     <g id=\"text_4\">\r\n      <!-- 150 -->\r\n      <g transform=\"translate(200.926867 239.238437)scale(0.1 -0.1)\">\r\n       <use xlink:href=\"#DejaVuSans-31\"/>\r\n       <use x=\"63.623047\" xlink:href=\"#DejaVuSans-35\"/>\r\n       <use x=\"127.246094\" xlink:href=\"#DejaVuSans-30\"/>\r\n      </g>\r\n     </g>\r\n    </g>\r\n    <g id=\"xtick_5\">\r\n     <g id=\"line2d_5\">\r\n      <g>\r\n       <use style=\"stroke:#000000;stroke-width:0.8;\" x=\"264.821266\" xlink:href=\"#m73502b5282\" y=\"224.64\"/>\r\n      </g>\r\n     </g>\r\n     <g id=\"text_5\">\r\n      <!-- 200 -->\r\n      <g transform=\"translate(255.277516 239.238437)scale(0.1 -0.1)\">\r\n       <defs>\r\n        <path d=\"M 1228 531 \r\nL 3431 531 \r\nL 3431 0 \r\nL 469 0 \r\nL 469 531 \r\nQ 828 903 1448 1529 \r\nQ 2069 2156 2228 2338 \r\nQ 2531 2678 2651 2914 \r\nQ 2772 3150 2772 3378 \r\nQ 2772 3750 2511 3984 \r\nQ 2250 4219 1831 4219 \r\nQ 1534 4219 1204 4116 \r\nQ 875 4013 500 3803 \r\nL 500 4441 \r\nQ 881 4594 1212 4672 \r\nQ 1544 4750 1819 4750 \r\nQ 2544 4750 2975 4387 \r\nQ 3406 4025 3406 3419 \r\nQ 3406 3131 3298 2873 \r\nQ 3191 2616 2906 2266 \r\nQ 2828 2175 2409 1742 \r\nQ 1991 1309 1228 531 \r\nz\r\n\" id=\"DejaVuSans-32\" transform=\"scale(0.015625)\"/>\r\n       </defs>\r\n       <use xlink:href=\"#DejaVuSans-32\"/>\r\n       <use x=\"63.623047\" xlink:href=\"#DejaVuSans-30\"/>\r\n       <use x=\"127.246094\" xlink:href=\"#DejaVuSans-30\"/>\r\n      </g>\r\n     </g>\r\n    </g>\r\n    <g id=\"xtick_6\">\r\n     <g id=\"line2d_6\">\r\n      <g>\r\n       <use style=\"stroke:#000000;stroke-width:0.8;\" x=\"319.171916\" xlink:href=\"#m73502b5282\" y=\"224.64\"/>\r\n      </g>\r\n     </g>\r\n     <g id=\"text_6\">\r\n      <!-- 250 -->\r\n      <g transform=\"translate(309.628166 239.238437)scale(0.1 -0.1)\">\r\n       <use xlink:href=\"#DejaVuSans-32\"/>\r\n       <use x=\"63.623047\" xlink:href=\"#DejaVuSans-35\"/>\r\n       <use x=\"127.246094\" xlink:href=\"#DejaVuSans-30\"/>\r\n      </g>\r\n     </g>\r\n    </g>\r\n   </g>\r\n   <g id=\"matplotlib.axis_2\">\r\n    <g id=\"ytick_1\">\r\n     <g id=\"line2d_7\">\r\n      <defs>\r\n       <path d=\"M 0 0 \r\nL -3.5 0 \r\n\" id=\"ma33679a1cd\" style=\"stroke:#000000;stroke-width:0.8;\"/>\r\n      </defs>\r\n      <g>\r\n       <use style=\"stroke:#000000;stroke-width:0.8;\" x=\"33.2875\" xlink:href=\"#ma33679a1cd\" y=\"224.64\"/>\r\n      </g>\r\n     </g>\r\n     <g id=\"text_7\">\r\n      <!-- 0 -->\r\n      <g transform=\"translate(19.925 228.439219)scale(0.1 -0.1)\">\r\n       <use xlink:href=\"#DejaVuSans-30\"/>\r\n      </g>\r\n     </g>\r\n    </g>\r\n    <g id=\"ytick_2\">\r\n     <g id=\"line2d_8\">\r\n      <g>\r\n       <use style=\"stroke:#000000;stroke-width:0.8;\" x=\"33.2875\" xlink:href=\"#ma33679a1cd\" y=\"179.474086\"/>\r\n      </g>\r\n     </g>\r\n     <g id=\"text_8\">\r\n      <!-- 200 -->\r\n      <g transform=\"translate(7.2 183.273305)scale(0.1 -0.1)\">\r\n       <use xlink:href=\"#DejaVuSans-32\"/>\r\n       <use x=\"63.623047\" xlink:href=\"#DejaVuSans-30\"/>\r\n       <use x=\"127.246094\" xlink:href=\"#DejaVuSans-30\"/>\r\n      </g>\r\n     </g>\r\n    </g>\r\n    <g id=\"ytick_3\">\r\n     <g id=\"line2d_9\">\r\n      <g>\r\n       <use style=\"stroke:#000000;stroke-width:0.8;\" x=\"33.2875\" xlink:href=\"#ma33679a1cd\" y=\"134.308173\"/>\r\n      </g>\r\n     </g>\r\n     <g id=\"text_9\">\r\n      <!-- 400 -->\r\n      <g transform=\"translate(7.2 138.107391)scale(0.1 -0.1)\">\r\n       <defs>\r\n        <path d=\"M 2419 4116 \r\nL 825 1625 \r\nL 2419 1625 \r\nL 2419 4116 \r\nz\r\nM 2253 4666 \r\nL 3047 4666 \r\nL 3047 1625 \r\nL 3713 1625 \r\nL 3713 1100 \r\nL 3047 1100 \r\nL 3047 0 \r\nL 2419 0 \r\nL 2419 1100 \r\nL 313 1100 \r\nL 313 1709 \r\nL 2253 4666 \r\nz\r\n\" id=\"DejaVuSans-34\" transform=\"scale(0.015625)\"/>\r\n       </defs>\r\n       <use xlink:href=\"#DejaVuSans-34\"/>\r\n       <use x=\"63.623047\" xlink:href=\"#DejaVuSans-30\"/>\r\n       <use x=\"127.246094\" xlink:href=\"#DejaVuSans-30\"/>\r\n      </g>\r\n     </g>\r\n    </g>\r\n    <g id=\"ytick_4\">\r\n     <g id=\"line2d_10\">\r\n      <g>\r\n       <use style=\"stroke:#000000;stroke-width:0.8;\" x=\"33.2875\" xlink:href=\"#ma33679a1cd\" y=\"89.142259\"/>\r\n      </g>\r\n     </g>\r\n     <g id=\"text_10\">\r\n      <!-- 600 -->\r\n      <g transform=\"translate(7.2 92.941478)scale(0.1 -0.1)\">\r\n       <defs>\r\n        <path d=\"M 2113 2584 \r\nQ 1688 2584 1439 2293 \r\nQ 1191 2003 1191 1497 \r\nQ 1191 994 1439 701 \r\nQ 1688 409 2113 409 \r\nQ 2538 409 2786 701 \r\nQ 3034 994 3034 1497 \r\nQ 3034 2003 2786 2293 \r\nQ 2538 2584 2113 2584 \r\nz\r\nM 3366 4563 \r\nL 3366 3988 \r\nQ 3128 4100 2886 4159 \r\nQ 2644 4219 2406 4219 \r\nQ 1781 4219 1451 3797 \r\nQ 1122 3375 1075 2522 \r\nQ 1259 2794 1537 2939 \r\nQ 1816 3084 2150 3084 \r\nQ 2853 3084 3261 2657 \r\nQ 3669 2231 3669 1497 \r\nQ 3669 778 3244 343 \r\nQ 2819 -91 2113 -91 \r\nQ 1303 -91 875 529 \r\nQ 447 1150 447 2328 \r\nQ 447 3434 972 4092 \r\nQ 1497 4750 2381 4750 \r\nQ 2619 4750 2861 4703 \r\nQ 3103 4656 3366 4563 \r\nz\r\n\" id=\"DejaVuSans-36\" transform=\"scale(0.015625)\"/>\r\n       </defs>\r\n       <use xlink:href=\"#DejaVuSans-36\"/>\r\n       <use x=\"63.623047\" xlink:href=\"#DejaVuSans-30\"/>\r\n       <use x=\"127.246094\" xlink:href=\"#DejaVuSans-30\"/>\r\n      </g>\r\n     </g>\r\n    </g>\r\n    <g id=\"ytick_5\">\r\n     <g id=\"line2d_11\">\r\n      <g>\r\n       <use style=\"stroke:#000000;stroke-width:0.8;\" x=\"33.2875\" xlink:href=\"#ma33679a1cd\" y=\"43.976345\"/>\r\n      </g>\r\n     </g>\r\n     <g id=\"text_11\">\r\n      <!-- 800 -->\r\n      <g transform=\"translate(7.2 47.775564)scale(0.1 -0.1)\">\r\n       <defs>\r\n        <path d=\"M 2034 2216 \r\nQ 1584 2216 1326 1975 \r\nQ 1069 1734 1069 1313 \r\nQ 1069 891 1326 650 \r\nQ 1584 409 2034 409 \r\nQ 2484 409 2743 651 \r\nQ 3003 894 3003 1313 \r\nQ 3003 1734 2745 1975 \r\nQ 2488 2216 2034 2216 \r\nz\r\nM 1403 2484 \r\nQ 997 2584 770 2862 \r\nQ 544 3141 544 3541 \r\nQ 544 4100 942 4425 \r\nQ 1341 4750 2034 4750 \r\nQ 2731 4750 3128 4425 \r\nQ 3525 4100 3525 3541 \r\nQ 3525 3141 3298 2862 \r\nQ 3072 2584 2669 2484 \r\nQ 3125 2378 3379 2068 \r\nQ 3634 1759 3634 1313 \r\nQ 3634 634 3220 271 \r\nQ 2806 -91 2034 -91 \r\nQ 1263 -91 848 271 \r\nQ 434 634 434 1313 \r\nQ 434 1759 690 2068 \r\nQ 947 2378 1403 2484 \r\nz\r\nM 1172 3481 \r\nQ 1172 3119 1398 2916 \r\nQ 1625 2713 2034 2713 \r\nQ 2441 2713 2670 2916 \r\nQ 2900 3119 2900 3481 \r\nQ 2900 3844 2670 4047 \r\nQ 2441 4250 2034 4250 \r\nQ 1625 4250 1398 4047 \r\nQ 1172 3844 1172 3481 \r\nz\r\n\" id=\"DejaVuSans-38\" transform=\"scale(0.015625)\"/>\r\n       </defs>\r\n       <use xlink:href=\"#DejaVuSans-38\"/>\r\n       <use x=\"63.623047\" xlink:href=\"#DejaVuSans-30\"/>\r\n       <use x=\"127.246094\" xlink:href=\"#DejaVuSans-30\"/>\r\n      </g>\r\n     </g>\r\n    </g>\r\n   </g>\r\n   <g id=\"patch_503\">\r\n    <path d=\"M 33.2875 224.64 \r\nL 33.2875 7.2 \r\n\" style=\"fill:none;stroke:#000000;stroke-linecap:square;stroke-linejoin:miter;stroke-width:0.8;\"/>\r\n   </g>\r\n   <g id=\"patch_504\">\r\n    <path d=\"M 368.0875 224.64 \r\nL 368.0875 7.2 \r\n\" style=\"fill:none;stroke:#000000;stroke-linecap:square;stroke-linejoin:miter;stroke-width:0.8;\"/>\r\n   </g>\r\n   <g id=\"patch_505\">\r\n    <path d=\"M 33.2875 224.64 \r\nL 368.0875 224.64 \r\n\" style=\"fill:none;stroke:#000000;stroke-linecap:square;stroke-linejoin:miter;stroke-width:0.8;\"/>\r\n   </g>\r\n   <g id=\"patch_506\">\r\n    <path d=\"M 33.2875 7.2 \r\nL 368.0875 7.2 \r\n\" style=\"fill:none;stroke:#000000;stroke-linecap:square;stroke-linejoin:miter;stroke-width:0.8;\"/>\r\n   </g>\r\n  </g>\r\n </g>\r\n <defs>\r\n  <clipPath id=\"pd5dabb1f39\">\r\n   <rect height=\"217.44\" width=\"334.8\" x=\"33.2875\" y=\"7.2\"/>\r\n  </clipPath>\r\n </defs>\r\n</svg>\r\n"
     },
     "metadata": {
      "needs_background": "light"
     }
    }
   ],
   "metadata": {}
  },
  {
   "cell_type": "code",
   "execution_count": 41,
   "source": [
    "# custom standardization function to lowercase the text and remove punctuation & numbers.\r\n",
    "def custom_standardization(input_data):\r\n",
    "  text_nonum = input_data\r\n",
    "  if isinstance(input_data, str):\r\n",
    "    text_nonum = text_nonum = re.sub(r'\\d+', '', input_data) # remove numbers\r\n",
    "  if type(text_nonum) == int or type(text_nonum) == float:\r\n",
    "        return ''\r\n",
    "  lowercase = tf.strings.lower(text_nonum)\r\n",
    "  return tf.strings.regex_replace(lowercase,\r\n",
    "                                  '[%s]' % re.escape(string.punctuation), '')\r\n",
    "\r\n",
    "\r\n",
    "# vocabulary size and number of words in a sequence.\r\n",
    "vocab_size = 4096\r\n",
    "sequence_length = 50\r\n",
    "\r\n",
    "# text vectorization layer to normalize, split, and map strings to\r\n",
    "# integers. Set output_sequence_length length to pad all samples to same length.\r\n",
    "vectorize_layer = TextVectorization(\r\n",
    "    standardize=custom_standardization,\r\n",
    "    max_tokens=vocab_size,\r\n",
    "    output_mode='int',\r\n",
    "    output_sequence_length=sequence_length)"
   ],
   "outputs": [],
   "metadata": {}
  },
  {
   "cell_type": "code",
   "execution_count": 42,
   "source": [
    "vectorize_layer.adapt(text_ds.batch(1024))"
   ],
   "outputs": [],
   "metadata": {}
  },
  {
   "cell_type": "code",
   "execution_count": 43,
   "source": [
    "# Save the created vocabulary for reference.\r\n",
    "inverse_vocab = vectorize_layer.get_vocabulary()\r\n",
    "print(inverse_vocab[:20])"
   ],
   "outputs": [
    {
     "output_type": "stream",
     "name": "stdout",
     "text": [
      "['', '[UNK]', 'a', 'with', 'in', 'fit', 'and', 'the', 'this', 'for', 'by', 'pockets', 'boss', 'to', 'length', 'inches', 'of', 'cm', 'regular', 'slim']\n"
     ]
    }
   ],
   "metadata": {}
  },
  {
   "cell_type": "code",
   "execution_count": 44,
   "source": [
    "# Vectorize the data in text_ds.\r\n",
    "text_vector_ds = text_ds.batch(1024).prefetch(tf.data.AUTOTUNE).map(vectorize_layer).unbatch() # unbatch tut alle arr in arr \"abflachen\""
   ],
   "outputs": [],
   "metadata": {}
  },
  {
   "cell_type": "code",
   "execution_count": 45,
   "source": [
    "sequences = list(text_vector_ds.as_numpy_iterator())\r\n",
    "print(len(sequences))"
   ],
   "outputs": [
    {
     "output_type": "stream",
     "name": "stdout",
     "text": [
      "8061\n"
     ]
    }
   ],
   "metadata": {}
  },
  {
   "cell_type": "code",
   "execution_count": 46,
   "source": [
    "for seq in sequences[:5]:\r\n",
    "  print(f\"{seq} => {[inverse_vocab[i] for i in seq]}\")"
   ],
   "outputs": [
    {
     "output_type": "stream",
     "name": "stdout",
     "text": [
      "[ 351   59  430  810  244  226   27  166 1337  210   31   24    0    0\n",
      "    0    0    0    0    0    0    0    0    0    0    0    0    0    0\n",
      "    0    0    0    0    0    0    0    0    0    0    0    0    0    0\n",
      "    0    0    0    0    0    0    0    0] => ['v', 'neck', 'solid', 'small', 'embossed', 'tonal', 'logo', 'detail', 'above', 'hem', 'stretch', 'cotton', '', '', '', '', '', '', '', '', '', '', '', '', '', '', '', '', '', '', '', '', '', '', '', '', '', '', '', '', '', '', '', '', '', '', '', '', '', '']\n",
      "[  31   24  351   59   81   23 3524    0    0    0    0    0    0    0\n",
      "    0    0    0    0    0    0    0    0    0    0    0    0    0    0\n",
      "    0    0    0    0    0    0    0    0    0    0    0    0    0    0\n",
      "    0    0    0    0    0    0    0    0] => ['stretch', 'cotton', 'v', 'neck', 't', 'shirt', 'dredosos', '', '', '', '', '', '', '', '', '', '', '', '', '', '', '', '', '', '', '', '', '', '', '', '', '', '', '', '', '', '', '', '', '', '', '', '', '', '', '', '', '', '', '']\n",
      "[   8   81   23   10   38   20   28  102   24    3    2  763   16   31\n",
      "    9   60    2  810  244  226   27  166 1337    7  210  605    8  351\n",
      "   59   53    0    0    0    0    0    0    0    0    0    0    0    0\n",
      "    0    0    0    0    0    0    0    0] => ['this', 't', 'shirt', 'by', 'hugo', 'is', 'crafted', 'from', 'cotton', 'with', 'a', 'hint', 'of', 'stretch', 'for', 'comfort', 'a', 'small', 'embossed', 'tonal', 'logo', 'detail', 'above', 'the', 'hem', 'completes', 'this', 'v', 'neck', 'style', '', '', '', '', '', '', '', '', '', '', '', '', '', '', '', '', '', '', '', '']\n",
      "[2726  797 2796  330  124  377  226  331  541  257   27  124   21  257\n",
      "   57    4   17    0    0    0    0    0    0    0    0    0    0    0\n",
      "    0    0    0    0    0    0    0    0    0    0    0    0    0    0\n",
      "    0    0    0    0    0    0    0    0] => ['cow', 'skin', 'basket', 'weave', 'printed', 'texture', 'tonal', 'square', 'pin', 'buckle', 'logo', 'printed', 'at', 'buckle', 'width', 'in', 'cm', '', '', '', '', '', '', '', '', '', '', '', '', '', '', '', '', '', '', '', '', '', '', '', '', '', '', '', '', '', '', '', '', '']\n",
      "[ 41 164   3 244 166   0   0   0   0   0   0   0   0   0   0   0   0   0\n",
      "   0   0   0   0   0   0   0   0   0   0   0   0   0   0   0   0   0   0\n",
      "   0   0   0   0   0   0   0   0   0   0   0   0   0   0] => ['leather', 'belt', 'with', 'embossed', 'detail', '', '', '', '', '', '', '', '', '', '', '', '', '', '', '', '', '', '', '', '', '', '', '', '', '', '', '', '', '', '', '', '', '', '', '', '', '', '', '', '', '', '', '', '', '']\n"
     ]
    }
   ],
   "metadata": {}
  },
  {
   "cell_type": "code",
   "execution_count": 47,
   "source": [
    "\r\n",
    "#print(len(targets), len(contexts), len(labels))"
   ],
   "outputs": [
    {
     "output_type": "error",
     "ename": "NameError",
     "evalue": "name 'targets' is not defined",
     "traceback": [
      "\u001b[1;31m---------------------------------------------------------------------------\u001b[0m",
      "\u001b[1;31mNameError\u001b[0m                                 Traceback (most recent call last)",
      "\u001b[1;32m<ipython-input-47-951ecc775699>\u001b[0m in \u001b[0;36m<module>\u001b[1;34m\u001b[0m\n\u001b[1;32m----> 1\u001b[1;33m \u001b[0mprint\u001b[0m\u001b[1;33m(\u001b[0m\u001b[0mlen\u001b[0m\u001b[1;33m(\u001b[0m\u001b[0mtargets\u001b[0m\u001b[1;33m)\u001b[0m\u001b[1;33m,\u001b[0m \u001b[0mlen\u001b[0m\u001b[1;33m(\u001b[0m\u001b[0mcontexts\u001b[0m\u001b[1;33m)\u001b[0m\u001b[1;33m,\u001b[0m \u001b[0mlen\u001b[0m\u001b[1;33m(\u001b[0m\u001b[0mlabels\u001b[0m\u001b[1;33m)\u001b[0m\u001b[1;33m)\u001b[0m\u001b[1;33m\u001b[0m\u001b[1;33m\u001b[0m\u001b[0m\n\u001b[0m",
      "\u001b[1;31mNameError\u001b[0m: name 'targets' is not defined"
     ]
    }
   ],
   "metadata": {}
  },
  {
   "cell_type": "code",
   "execution_count": 48,
   "source": [
    "def optimize_performance(targets, contexts, labels):\r\n",
    "    BATCH_SIZE = 1024\r\n",
    "    BUFFER_SIZE = 10000\r\n",
    "    dataset = tf.data.Dataset.from_tensor_slices(((targets, contexts), labels))\r\n",
    "    dataset = dataset.shuffle(BUFFER_SIZE).batch(BATCH_SIZE, drop_remainder=True)\r\n",
    "    dataset = dataset.cache().prefetch(buffer_size=tf.data.AUTOTUNE)\r\n",
    "    return dataset"
   ],
   "outputs": [],
   "metadata": {}
  },
  {
   "cell_type": "code",
   "execution_count": 49,
   "source": [
    "class Word2Vec(Model):\r\n",
    "    def __init__(self, vocab_size, embedding_dim, num_ns):\r\n",
    "        super(Word2Vec, self).__init__()\r\n",
    "        self.target_embedding = Embedding(vocab_size,\r\n",
    "                                          embedding_dim,\r\n",
    "                                          input_length=1,\r\n",
    "                                          name=\"w2v_embedding\")\r\n",
    "        self.context_embedding = Embedding(vocab_size,\r\n",
    "                                           embedding_dim,\r\n",
    "                                           input_length=num_ns+1)\r\n",
    "        self.dots = Dot(axes=(3, 2))\r\n",
    "        self.flatten = Flatten()\r\n",
    "\r\n",
    "    def call(self, pair):\r\n",
    "        target, context = pair\r\n",
    "        word_emb = self.target_embedding(target)\r\n",
    "        context_emb = self.context_embedding(context)\r\n",
    "        dots = self.dots([context_emb, word_emb])\r\n",
    "        return self.flatten(dots)\r\n"
   ],
   "outputs": [],
   "metadata": {}
  },
  {
   "cell_type": "code",
   "execution_count": 51,
   "source": [
    "embedding_dims = [8, 16, 32, 64, 128, 254]\r\n",
    "epochs = [10, 20, 30, 40, 100]\r\n",
    "neg_samples = [4, 9, 19]\r\n",
    "for embedding_dim in embedding_dims:\r\n",
    "    for epoch_num in epochs:\r\n",
    "        for num_ns in neg_samples:\r\n",
    "            name = \"{}-embeds-{}-epochs-{}-ns\".format(embedding_dim, epoch_num, num_ns)\r\n",
    "\r\n",
    "            targets, contexts, labels = generate_training_data(sequences=sequences,window_size=2,num_ns=num_ns,vocab_size=vocab_size)\r\n",
    "            dataset = optimize_performance(targets, contexts, labels)\r\n",
    "\r\n",
    "            word2vec = Word2Vec(vocab_size, embedding_dim, num_ns)\r\n",
    "            word2vec.compile(optimizer='adam',\r\n",
    "                            loss=tf.keras.losses.CategoricalCrossentropy(\r\n",
    "                                from_logits=True),\r\n",
    "                            metrics=['accuracy'])\r\n",
    "            tensorboard_callback = tf.keras.callbacks.TensorBoard(\r\n",
    "                log_dir=\"logs/{}\".format(name))\r\n",
    "            word2vec.fit(dataset, epochs=epoch_num,\r\n",
    "                        validation_split=0.2,\r\n",
    "                        callbacks=[tensorboard_callback])\r\n"
   ],
   "outputs": [
    {
     "output_type": "stream",
     "name": "stderr",
     "text": [
      "100%|██████████| 8061/8061 [00:06<00:00, 1250.97it/s]\n"
     ]
    },
    {
     "output_type": "error",
     "ename": "ValueError",
     "evalue": "`validation_split` is only supported for Tensors or NumPy arrays, found following types in the input: [<class 'tensorflow.python.data.ops.dataset_ops.PrefetchDataset'>]",
     "traceback": [
      "\u001b[1;31m---------------------------------------------------------------------------\u001b[0m",
      "\u001b[1;31mValueError\u001b[0m                                Traceback (most recent call last)",
      "\u001b[1;32m<ipython-input-51-3f6ec0a9d010>\u001b[0m in \u001b[0;36m<module>\u001b[1;34m\u001b[0m\n\u001b[0;32m     17\u001b[0m             tensorboard_callback = tf.keras.callbacks.TensorBoard(\n\u001b[0;32m     18\u001b[0m                 log_dir=\"logs/{}\".format(name))\n\u001b[1;32m---> 19\u001b[1;33m             word2vec.fit(dataset, epochs=epoch_num,\n\u001b[0m\u001b[0;32m     20\u001b[0m                         \u001b[0mvalidation_split\u001b[0m\u001b[1;33m=\u001b[0m\u001b[1;36m0.2\u001b[0m\u001b[1;33m,\u001b[0m\u001b[1;33m\u001b[0m\u001b[1;33m\u001b[0m\u001b[0m\n\u001b[0;32m     21\u001b[0m                         callbacks=[tensorboard_callback])\n",
      "\u001b[1;32mc:\\Users\\lucas\\Documents\\Github\\BA_Jupyter_Notebook\\.venv\\lib\\site-packages\\tensorflow\\python\\keras\\engine\\training.py\u001b[0m in \u001b[0;36mfit\u001b[1;34m(self, x, y, batch_size, epochs, verbose, callbacks, validation_split, validation_data, shuffle, class_weight, sample_weight, initial_epoch, steps_per_epoch, validation_steps, validation_batch_size, validation_freq, max_queue_size, workers, use_multiprocessing)\u001b[0m\n\u001b[0;32m   1117\u001b[0m       \u001b[1;31m# `Tensor` and `NumPy` input.\u001b[0m\u001b[1;33m\u001b[0m\u001b[1;33m\u001b[0m\u001b[1;33m\u001b[0m\u001b[0m\n\u001b[0;32m   1118\u001b[0m       (x, y, sample_weight), validation_data = (\n\u001b[1;32m-> 1119\u001b[1;33m           data_adapter.train_validation_split(\n\u001b[0m\u001b[0;32m   1120\u001b[0m               (x, y, sample_weight), validation_split=validation_split))\n\u001b[0;32m   1121\u001b[0m \u001b[1;33m\u001b[0m\u001b[0m\n",
      "\u001b[1;32mc:\\Users\\lucas\\Documents\\Github\\BA_Jupyter_Notebook\\.venv\\lib\\site-packages\\tensorflow\\python\\keras\\engine\\data_adapter.py\u001b[0m in \u001b[0;36mtrain_validation_split\u001b[1;34m(arrays, validation_split)\u001b[0m\n\u001b[0;32m   1456\u001b[0m   \u001b[0munsplitable\u001b[0m \u001b[1;33m=\u001b[0m \u001b[1;33m[\u001b[0m\u001b[0mtype\u001b[0m\u001b[1;33m(\u001b[0m\u001b[0mt\u001b[0m\u001b[1;33m)\u001b[0m \u001b[1;32mfor\u001b[0m \u001b[0mt\u001b[0m \u001b[1;32min\u001b[0m \u001b[0mflat_arrays\u001b[0m \u001b[1;32mif\u001b[0m \u001b[1;32mnot\u001b[0m \u001b[0m_can_split\u001b[0m\u001b[1;33m(\u001b[0m\u001b[0mt\u001b[0m\u001b[1;33m)\u001b[0m\u001b[1;33m]\u001b[0m\u001b[1;33m\u001b[0m\u001b[1;33m\u001b[0m\u001b[0m\n\u001b[0;32m   1457\u001b[0m   \u001b[1;32mif\u001b[0m \u001b[0munsplitable\u001b[0m\u001b[1;33m:\u001b[0m\u001b[1;33m\u001b[0m\u001b[1;33m\u001b[0m\u001b[0m\n\u001b[1;32m-> 1458\u001b[1;33m     raise ValueError(\n\u001b[0m\u001b[0;32m   1459\u001b[0m         \u001b[1;34m\"`validation_split` is only supported for Tensors or NumPy \"\u001b[0m\u001b[1;33m\u001b[0m\u001b[1;33m\u001b[0m\u001b[0m\n\u001b[0;32m   1460\u001b[0m         \"arrays, found following types in the input: {}\".format(unsplitable))\n",
      "\u001b[1;31mValueError\u001b[0m: `validation_split` is only supported for Tensors or NumPy arrays, found following types in the input: [<class 'tensorflow.python.data.ops.dataset_ops.PrefetchDataset'>]"
     ]
    }
   ],
   "metadata": {}
  },
  {
   "cell_type": "code",
   "execution_count": 99,
   "source": [
    "from tensorboard.plugins import projector\r\n",
    "%tensorboard --logdir logs"
   ],
   "outputs": [
    {
     "output_type": "stream",
     "name": "stderr",
     "text": [
      "UsageError: Line magic function `%tensorboard` not found.\n"
     ]
    }
   ],
   "metadata": {}
  },
  {
   "cell_type": "code",
   "execution_count": 100,
   "source": [
    "weights = word2vec.get_layer('w2v_embedding').get_weights()[0]\r\n",
    "vocab = vectorize_layer.get_vocabulary()"
   ],
   "outputs": [],
   "metadata": {}
  },
  {
   "cell_type": "code",
   "execution_count": 101,
   "source": [
    "out_v = io.open('vectors.tsv', 'w', encoding='utf-8')\r\n",
    "out_m = io.open('metadata.tsv', 'w', encoding='utf-8')\r\n",
    "\r\n",
    "for index, word in enumerate(vocab):\r\n",
    "  if index == 0:\r\n",
    "    continue  # skip <PAD>.\r\n",
    "  vec = weights[index]\r\n",
    "  out_v.write('\\t'.join([str(x) for x in vec]) + \"\\n\")\r\n",
    "  out_m.write(word + \"\\n\")\r\n",
    "out_v.close()\r\n",
    "out_m.close()"
   ],
   "outputs": [],
   "metadata": {}
  },
  {
   "cell_type": "code",
   "execution_count": 102,
   "source": [
    "index2word = dict(enumerate(list(inverse_vocab)))\r\n",
    "word2index = {v: k for k, v in index2word.items()}\r\n",
    "\r\n",
    "text_vector_ds"
   ],
   "outputs": [
    {
     "output_type": "execute_result",
     "data": {
      "text/plain": [
       "<_UnbatchDataset shapes: (10,), types: tf.int64>"
      ]
     },
     "metadata": {},
     "execution_count": 102
    }
   ],
   "metadata": {}
  },
  {
   "cell_type": "code",
   "execution_count": 103,
   "source": [
    "def find_closest(embeds, word, n=3): # n is for \"n closest words\"\r\n",
    "  n = n + 1 # This is becuse the most similar word is definatly that word itself. like the most similar word for \"apple\" is \"apple\". so we should look for top n+1 words\r\n",
    "  main_vec = embeds(word2index[word])\r\n",
    "\r\n",
    "  similarities = -tf.keras.losses.cosine_similarity(embeds.embeddings, main_vec)\r\n",
    "  top_n = tf.math.top_k(similarities, n).indices\r\n",
    "  words = [index2word[i] for i in top_n.numpy()]\r\n",
    "\r\n",
    "  return words[0:], tf.math.top_k(similarities, 3)[0][1]"
   ],
   "outputs": [],
   "metadata": {}
  },
  {
   "cell_type": "code",
   "execution_count": 109,
   "source": [
    "# target = word2vec.target_embedding\r\n",
    "target = word2vec.get_layer('w2v_embedding')\r\n",
    "res, sim = find_closest(target, 'glasses')\r\n",
    "print('closest: ', res)\r\n",
    "print('top similarity: ', sim.numpy())"
   ],
   "outputs": [
    {
     "output_type": "stream",
     "name": "stdout",
     "text": [
      "closest:  ['glasses', 'shades', 'these', 'sunglasses']\n",
      "top similarity:  0.83597505\n"
     ]
    }
   ],
   "metadata": {}
  },
  {
   "cell_type": "code",
   "execution_count": 62,
   "source": [
    "word2vec.summary()"
   ],
   "outputs": [
    {
     "output_type": "stream",
     "name": "stdout",
     "text": [
      "Model: \"word2_vec\"\n",
      "_________________________________________________________________\n",
      "Layer (type)                 Output Shape              Param #   \n",
      "=================================================================\n",
      "w2v_embedding (Embedding)    multiple                  262144    \n",
      "_________________________________________________________________\n",
      "embedding (Embedding)        multiple                  262144    \n",
      "_________________________________________________________________\n",
      "dot (Dot)                    multiple                  0         \n",
      "_________________________________________________________________\n",
      "flatten (Flatten)            multiple                  0         \n",
      "=================================================================\n",
      "Total params: 524,288\n",
      "Trainable params: 524,288\n",
      "Non-trainable params: 0\n",
      "_________________________________________________________________\n"
     ]
    }
   ],
   "metadata": {}
  },
  {
   "cell_type": "markdown",
   "source": [
    "# TF-IDF most common words"
   ],
   "metadata": {}
  },
  {
   "cell_type": "markdown",
   "source": [
    "## Preprocessing"
   ],
   "metadata": {}
  },
  {
   "cell_type": "code",
   "execution_count": 63,
   "source": [
    "import json\r\n",
    "import pandas as pd"
   ],
   "outputs": [],
   "metadata": {}
  },
  {
   "cell_type": "code",
   "execution_count": 64,
   "source": [
    "def pre_process(text):\r\n",
    "    # lowercase\r\n",
    "    text=text.lower()\r\n",
    "    \r\n",
    "    #remove tags\r\n",
    "    text=re.sub(\"</?.*?>\",\" <> \",text)\r\n",
    "    \r\n",
    "    # remove special characters and digits\r\n",
    "    text=re.sub(\"(\\\\d|\\\\W)+\",\" \",text)\r\n",
    "\r\n",
    "    text = add_syns_and_similar_words(text)\r\n",
    "    \r\n",
    "    return text"
   ],
   "outputs": [],
   "metadata": {}
  },
  {
   "cell_type": "code",
   "execution_count": 67,
   "source": [
    "# with open(r\"E:\\Users\\Lucas xD\\Downloads\\Products_Q_US_edited.json\", encoding=\"utf8\") as json_file:\r\n",
    "#     data = json.load(json_file)\r\n",
    "\r\n",
    "# df = pd.json_normalize(data)\r\n",
    "# df['name'] = df['name'].apply(lambda x:pre_process(x))\r\n",
    "# df.to_csv('prods_w_syn_sim.csv', index=False)\r\n",
    "# df_names.head(3)"
   ],
   "outputs": [],
   "metadata": {}
  },
  {
   "cell_type": "code",
   "execution_count": null,
   "source": [],
   "outputs": [],
   "metadata": {}
  },
  {
   "cell_type": "code",
   "execution_count": 68,
   "source": [
    "# from sklearn.feature_extraction.text import TfidfVectorizer\r\n",
    "\r\n",
    "# n_features = 1000\r\n",
    "\r\n",
    "# corpus = sentences_arr\r\n",
    "# vectorizer = TfidfVectorizer(max_df=0.95, min_df=2,\r\n",
    "#                             max_features=n_features, stop_words='english')\r\n",
    "# X = vectorizer.fit_transform(corpus)\r\n",
    "# print(vectorizer.get_feature_names()[:10])\r\n",
    "\r\n",
    "# print(X.shape)\r\n"
   ],
   "outputs": [],
   "metadata": {}
  },
  {
   "cell_type": "markdown",
   "source": [
    "# Create Schema with analyzers & filters (Whoosh)"
   ],
   "metadata": {}
  },
  {
   "cell_type": "code",
   "execution_count": 69,
   "source": [
    "df_syn = pd.read_csv('prods_w_syn_sim.csv')\r\n",
    "df_syn.head() \r\n",
    "for row in df_syn['name'].iloc[:100]:\r\n",
    "    print(row)"
   ],
   "outputs": [
    {
     "output_type": "stream",
     "name": "stdout",
     "text": [
      "volt,vs,neck,shirt,cervix,t,dredosos,shirts,cotton_fiber,v,cotton,thymine,stretch\n",
      "embossed,belt,leather,belts,detail,item,with\n",
      "dress,frock,dresses,prindo,italian,derby,shoes,shoe,leather\n",
      "fit,wool,glamour,woolen,regular,virgin,star,tuxedo,stars\n",
      "fit,wool,slim,suits,woolen,suit_of_clothes,italian,virgin,genius,huge,suit,mastermind\n",
      "metal,check,belt,tab,detailed,leather,belts,metallic_element,connio\n",
      "shift,dress,sleeveless,frock,wool,dresses,woolen,italian,in,displacement,shifts,stretch\n",
      "wool,woolen,jackets,narrow,jacket,lapels,with,stretch\n",
      "and,gifts,trimness,gunmetal,hardware,suspenders,trim,leather,boxed,gift,with\n",
      "wool,woolen,blazer,peak,extremum,lapels,with,stretch\n",
      "curved,wool,lapels,woolen,blazer,with,stretch\n",
      "fit,soft,vs,shirt,regular,tantrum,volt,neck,cervix,t,in,shirts,cotton_fiber,v,cotton,thymine\n",
      "pants,fit,cropped,slim,trousers,bloomers,tantrum\n",
      "wool,leg,woolen,bloomers,boot,italian,virgin,pants,in,trousers,stretch\n",
      "necktie,tie,silk,italian\n",
      "shirts,dress,frock,dresses,shirt,cotton_fiber,cotton\n",
      "fit,shirt,regular,Polo,polo,fine,piqué,in,shirts,tantrum\n",
      "derbies,dress,frock,dresses,derby,shoes,shoe,leather,carmons\n",
      "fit,wool,slim,suits,woolen,suit_of_clothes,virgin,genius,huge,suit,mastermind\n",
      "necktie,tie,silk,slim,italian\n",
      "sharp,fit,wool,James,suits,woolen,suit_of_clothes,italian,regular,the,suit,james\n",
      "Jacquard,pure,pocket,silk,foursquare,in,jacquard,square\n",
      "two,belt,vegetable,tone_of_voice,in,leather,belts,tone,tanned\n",
      "bow,italian,pure,necktie,tie,silk,in,made\n",
      "metal,belt,logo,logos,leather,belts,metallic_element,senol,with\n",
      "Jacquard,pure,pocket,foursquare,in,cotton,jacquard,cotton_fiber,square\n",
      "cummerbund,bowknot,and,bow,necktie,tie,silk,set,setting\n",
      "bow,italian,pure,necktie,tie,silk,in,made\n",
      "cap,twill_weave,logo,logos,with,embroidered,twill,in,Baseball,cotton_fiber,caps,cotton,baseball,baseball_game\n",
      "black,fit,denim_jeans,denim,jean,in,jeans,slim,stay\n",
      "mercerized,fit,shirt,regular,t,in,shirts,cotton_fiber,cotton,thymine,tantrum\n",
      "belts,reversible,double,belt,leather,buckle,with\n",
      "contrary,fit,logo,regular,sweatshirt,logos,sweat_shirt,cotton_fiber,reverse,ignition_interlock,interlock,cotton,with,tantrum\n",
      "mercerized,shirt,long,sleeved,with,t,ribbing,in,shirts,cotton_fiber,cotton,thymine\n",
      "fit,hem,bloomers,hems,pants,slim,trousers,zipped,with\n",
      "fit,blend,mock,placket,blends,slim,cotton_fiber,blouse,cotton,with\n",
      "fit,darted,item,seam,slim,detail,blouse,with,tantrum\n",
      "docs,signature,s,workbag,italian,calfskin,doc,doctor\n",
      "fit,shirt,contrast,regular,with,t,direct_contrast,shirts,detail,item,thymine,tantrum\n",
      "belts,reversible,belt,leather,buckle,pin,with\n",
      "signature,bag,ns,zip,nothing,bags,journalist,calfskin,reporter\n",
      "fit,wool,skirt,woolen,pencils,skirts,slim,pencil,stretch\n",
      "signature,wallet,pebbled,calfskin,coins,coin\n",
      "clip,logo,logos,cartridge_holder,with,tie,fastening,hole,engraved,fix\n",
      "signature,aggregation,collection,billfold,wallet,in,palmellato,leather,collections\n",
      "four,smooth,slot,card,in,cards,leather,holder\n",
      "sneaker,akeen,and,leather,gym_shoe,mesh\n",
      "technical,cap,piqué,in,Baseball,caps,baseball,baseball_game\n",
      "shirts,fit,in,slim,shirt,poplin,stretch\n",
      "fit,wool,woolen,bloomers,virgin,pants,extra,in,slim,trousers\n",
      "fit,contrast,bottoms,bottom,jog,jogging,trims,trim,direct_contrast,slim,with,tantrum\n",
      "necktie,tie,fine,silk,in,jacquard,Jacquard\n",
      "organiser,traveling,organizer,signature_d,zip,nothing,travel,leather,trav\n",
      "necktie,tie,wool,slim,woolen,virgin\n",
      "delaware,fit,denim_jeans,jean,Delaware,jeans,slim,cotton_fiber,cotton,stretch\n",
      "briefs,of,pugilist,jersey,way,battalion,one,boxer,pack,three,Jockey_shorts,in,manner,heavyweight_boxer,cotton_fiber,cotton\n",
      "underwear,battalion,of,T_shirts,pack,three,pure,t,in,shirts,cotton_fiber,cotton,thymine\n",
      "signature,grained,aggregation,collection,card,in,palmellato,cards,leather,collections,holder\n",
      "fit,wool,jacket,woolen,jackets,virgin,in,slim,tantrum\n",
      "underwear,neck,battalion,of,T_shirts,cervix,pack,three,t,in,shirts,cotton_fiber,v,cotton,thymine\n",
      "briefs,battalion,of,pack,Jockey_shorts,in,cotton_fiber,triple,cotton,stretch\n",
      "battalion,of,pack,short_pants,in,cotton,cotton_fiber,triple,trunks,stretch\n",
      "briefs,battalion,of,pugilist,boxer,pack,Jockey_shorts,in,heavyweight_boxer,cotton_fiber,triple,cotton,stretch\n",
      "chinos,fit,chino,in,slim,cotton_fiber,cotton,gabardine,stretch\n",
      "chinos,fit,chino,regular,in,cotton_fiber,stretch,cotton,gabardine,tantrum\n",
      "necktie,tie,silk,stripe,band,slim,embroidered\n",
      "belts,brushed,belt,leather,gunmetal,buckle,with\n",
      "nan\n",
      "fit,denim_jeans,denim,jean,skinny,jeans,in,coldblack,stretch\n",
      "fit,wool,trouser,woolen,virgin,pants,extra,in,slim,poplin,trousers,tantrum\n",
      "fit,shirt,dry,regular,piqué,polo,Polo,quick,technologies,technology,shirts,engineering,with,tantrum\n",
      "fit,wool,woolen,bloomers,pure,virgin,pants,in,slim,trousers\n",
      "single,fit,New_Jersey,shirt,regular,jersey,t,in,shirts,jerseys,thymine,tantrum\n",
      "fit,wool,waistcoat,woolen,virgin,in,slim,tantrum\n",
      "clip,signature,aggregation,collection,leather,in,palmellato,money,collections,cartridge_holder\n",
      "silk,blend,neckline,blends,gathered,blouse,with\n",
      "skirt,pencils,madea,skirts,crepe,crepe_paper,pencil,textured\n",
      "fit,concern,shirt,shirts,in,slim,poplin,cotton_fiber,business,cotton,tantrum\n",
      "fit,wool,inside_information,jacket,woolen,jackets,virgin,silk,details,slim,with\n",
      "fit,wool,woolen,bloomers,virgin,trims,pants,silk,trim,in,slim,trousers,formal,with,tantrum\n",
      "Oxford,oxford,piping,patents,patent,place,grosgrain,shoes,neckband,leather,collar,patent_of_invention,sneakers,with\n",
      "briefs,waistband,logo,four,logos,Jockey_shorts,way,microfiber,in,manner,stretch\n",
      "sateen,fit,dress,frock,dresses,shirt,extra,in,slim,shirts,cotton_fiber,cotton\n",
      "t_test\n",
      "fit,wool,jacket,woolen,jackets,virgin,extra,in,slim,poplin,stretch,tantrum\n",
      "fit,shirt,washed,Polo,polo,piqué,in,slim,shirts,cotton_fiber,cotton\n",
      "crew,wool,neck,woolen,cervix,virgin,jumper,sweaters,in,sweater\n",
      "us,t_test\n",
      "fit,wool,stitching,woolen,jackets,regular,virgin,jacket,amf,with,tantrum\n",
      "fit,wool,coat,and,woolen,regular,cashmere\n",
      "blend,jackets,zip,nothing,blends,jacket,cotton_fiber,cotton\n",
      "fit,wool,jacket,woolen,jackets,pure,extra,in,slim,tantrum\n",
      "japple,hooded,jackets,jacket\n",
      "axial_rotation,mercerized,wool,neck,roll,woolen,cervix,jumper,sweaters,merino_wool,in,merino,sweater\n",
      "wool,leg,concern,woolen,bloomers,virgin,pants,in,straight,trousers,business\n",
      "chinos,fit,brushed,chino,casual,in,slim,cotton_fiber,cotton,stretch\n",
      "chinos,fit,brushed,chino,regular,casual,in,cotton_fiber,cotton,stretch\n",
      "fit,wool,woolen,jackets,regular,italian,in,jacket,stretch,tantrum\n",
      "fit,spread,shirt,spreading,collar,pure,neckband,in,slim,shirts,cotton_fiber,cotton,with\n",
      "pr,dress,frock,derb,dresses,italian,derby,shoes,hannover,shoe,leather,praseodymium\n"
     ]
    }
   ],
   "metadata": {}
  },
  {
   "cell_type": "code",
   "execution_count": 70,
   "source": [
    "schema = Schema(id=ID(stored=True),\r\n",
    "                name=TEXT(analyzer=StemmingAnalyzer() | NgramFilter(minsize=2, maxsize=4) | StopFilter(), field_boost=3.0, stored=True),\r\n",
    "                brand=TEXT(),\r\n",
    "                gender=TEXT(),\r\n",
    "                longDescription=TEXT(analyzer=StemmingAnalyzer() | NgramFilter(minsize=2, maxsize=4) | StopFilter()),\r\n",
    "                shortDescription=TEXT(analyzer=StemmingAnalyzer() | NgramFilter(minsize=2, maxsize=4) | StopFilter()),\r\n",
    "                productId=TEXT(),\r\n",
    "                sizes=TEXT(),\r\n",
    "                styleName=TEXT(),\r\n",
    "                colors=TEXT(),\r\n",
    "                image=TEXT(),\r\n",
    "                variants=TEXT(),\r\n",
    "                )"
   ],
   "outputs": [],
   "metadata": {}
  },
  {
   "cell_type": "markdown",
   "source": [
    "# Create the index"
   ],
   "metadata": {}
  },
  {
   "cell_type": "code",
   "execution_count": 71,
   "source": [
    "index_path = './w2v_index'"
   ],
   "outputs": [],
   "metadata": {}
  },
  {
   "cell_type": "code",
   "execution_count": 72,
   "source": [
    "create_new_index = True\r\n",
    "if(create_new_index):\r\n",
    "    index = create_in(index_path, schema)\r\n",
    "else:    \r\n",
    "    index = whoosh.index.open_dir(index_path)\r\n",
    "\r\n",
    "writer = index.writer()"
   ],
   "outputs": [],
   "metadata": {}
  },
  {
   "cell_type": "code",
   "execution_count": 73,
   "source": [
    "for num, doc in df_syn.iterrows():\r\n",
    "    writer.add_document(\r\n",
    "            brand=str(doc['brand']),\r\n",
    "            colors=str(doc['colors']),\r\n",
    "            gender=str(doc['gender']),\r\n",
    "            longDescription=str(doc['longDescription']),\r\n",
    "            name=str(doc['name']),\r\n",
    "            productId=str(doc['productId']),\r\n",
    "            shortDescription=str(doc['shortDescription']),\r\n",
    "            sizes=str(doc['sizes']),\r\n",
    "            styleName=str(doc['styleName']),\r\n",
    "            variants=str(doc['variants']),\r\n",
    "            image=str(doc['image']),\r\n",
    "            id=str(doc['id'])\r\n",
    "    )\r\n",
    "         \r\n",
    "writer.commit()"
   ],
   "outputs": [],
   "metadata": {
    "tags": []
   }
  },
  {
   "cell_type": "markdown",
   "source": [
    "# Testing the index"
   ],
   "metadata": {}
  },
  {
   "cell_type": "code",
   "execution_count": 74,
   "source": [
    "\r\n",
    "use_synonyms = True\r\n",
    "\r\n",
    "search_term = \"wintertime\"\r\n",
    "\r\n",
    "if(use_synonyms):\r\n",
    "    try:\r\n",
    "        similarity_list = model.most_similar(search_term, topn=1)\r\n",
    "        similar_words = [sim_tuple[0] for sim_tuple in similarity_list]\r\n",
    "    except KeyError:\r\n",
    "        similar_words = []\r\n",
    "    keywords = \" OR \".join([search_term] + similar_words)\r\n",
    "\r\n",
    "    print(\"Results with Word2Vec:\")\r\n",
    "    print(f\"Similar words used: {similar_words}\")\r\n",
    "    with index.searcher(weighting=scoring.TF_IDF()) as searcher:\r\n",
    "        query = MultifieldParser([\"name\", \"longDescription\", 'shortDescription'], index.schema).parse(keywords)\r\n",
    "        results = searcher.search(query)\r\n",
    "        for docnum, score in results.items():\r\n",
    "            print(docnum, score)\r\n",
    "        print(results)\r\n",
    "else:\r\n",
    "    keywords  = search_term\r\n",
    "\r\n",
    "# results = []\r\n",
    "\r\n",
    "\r\n",
    "\r\n",
    "print(\"________________________\\n\")\r\n",
    "print(\"Results without Word2Vec:\")\r\n",
    "with index.searcher(weighting=scoring.TF_IDF()) as searcher:\r\n",
    "    query = MultifieldParser([\"name\", \"longDescription\", \"shortDescription\"], index.schema).parse(search_term)\r\n",
    "    results = searcher.search(query)\r\n",
    "    for docnum, score in results.items():\r\n",
    "        print(docnum, score)\r\n",
    "    for doc in results:\r\n",
    "        print(doc)"
   ],
   "outputs": [
    {
     "output_type": "stream",
     "name": "stdout",
     "text": [
      "Results with Word2Vec:\n",
      "Similar words used: ['summertime']\n",
      "1344 33.30499334186929\n",
      "1871 33.30499334186929\n",
      "2057 33.30499334186929\n",
      "<Top 3 Results for Or([And([Term('name', 'wint'), Term('name', 'inte'), Term('name', 'nter'), Term('name', 'tert'), Term('name', 'erti'), Term('name', 'rtim')]), And([Term('longDescription', 'wint'), Term('longDescription', 'inte'), Term('longDescription', 'nter'), Term('longDescription', 'tert'), Term('longDescription', 'erti'), Term('longDescription', 'rtim')]), And([Term('shortDescription', 'wint'), Term('shortDescription', 'inte'), Term('shortDescription', 'nter'), Term('shortDescription', 'tert'), Term('shortDescription', 'erti'), Term('shortDescription', 'rtim')]), And([Term('name', 'summ'), Term('name', 'umme'), Term('name', 'mmer'), Term('name', 'mert'), Term('name', 'erti'), Term('name', 'rtim')]), And([Term('longDescription', 'summ'), Term('longDescription', 'umme'), Term('longDescription', 'mmer'), Term('longDescription', 'mert'), Term('longDescription', 'erti'), Term('longDescription', 'rtim')]), And([Term('shortDescription', 'summ'), Term('shortDescription', 'umme'), Term('shortDescription', 'mmer'), Term('shortDescription', 'mert'), Term('shortDescription', 'erti'), Term('shortDescription', 'rtim')])]) runtime=0.007488100000045961>\n",
      "________________________\n",
      "\n",
      "Results without Word2Vec:\n"
     ]
    }
   ],
   "metadata": {}
  },
  {
   "cell_type": "code",
   "execution_count": null,
   "source": [],
   "outputs": [],
   "metadata": {}
  },
  {
   "cell_type": "code",
   "execution_count": null,
   "source": [],
   "outputs": [],
   "metadata": {}
  }
 ]
}