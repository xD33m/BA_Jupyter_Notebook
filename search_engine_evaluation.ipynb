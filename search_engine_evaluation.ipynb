{
 "metadata": {
  "language_info": {
   "codemirror_mode": {
    "name": "ipython",
    "version": 3
   },
   "file_extension": ".py",
   "mimetype": "text/x-python",
   "name": "python",
   "nbconvert_exporter": "python",
   "pygments_lexer": "ipython3",
   "version": "3.9.1"
  },
  "orig_nbformat": 4,
  "kernelspec": {
   "name": "python3",
   "display_name": "Python 3.9.1 64-bit ('.venv': venv)"
  },
  "interpreter": {
   "hash": "3fa4fbff26baf5372c1227c893813242fd1c5dcfd93352f945b61348dd56c099"
  }
 },
 "nbformat": 4,
 "nbformat_minor": 2,
 "cells": [
  {
   "cell_type": "code",
   "execution_count": 2,
   "source": [
    "import numpy as np"
   ],
   "outputs": [],
   "metadata": {}
  },
  {
   "cell_type": "code",
   "execution_count": 4,
   "source": [
    "def precision_at_k(r, k):\r\n",
    "    assert k >= 1\r\n",
    "    r = np.asarray(r)[:k] != 0\r\n",
    "    if r.size != k:\r\n",
    "        raise ValueError('Relevanz score < k')\r\n",
    "    return np.mean(r)"
   ],
   "outputs": [],
   "metadata": {}
  },
  {
   "cell_type": "code",
   "execution_count": 6,
   "source": [
    "def average_precision(r):\r\n",
    "    r = np.asarray(r) != 0\r\n",
    "    out = [precision_at_k(r, k + 1) for k in range(r.size) if r[k]]\r\n",
    "    if not out:\r\n",
    "        return 0.\r\n",
    "    return np.mean(out)"
   ],
   "outputs": [],
   "metadata": {}
  },
  {
   "cell_type": "code",
   "execution_count": 7,
   "source": [
    "def mean_average_precision(rs):\r\n",
    "    return np.mean([average_precision(r) for r in rs])"
   ],
   "outputs": [],
   "metadata": {}
  },
  {
   "cell_type": "code",
   "execution_count": 8,
   "source": [
    "test1 = [[1, 1, 0, 1, 0], [0, 0, 1, 1, 1]] # BA Beispiel\r\n",
    "test2 = [[1, 1, 1, 1, 1], [0, 0, 0, 0, 0]]\r\n",
    "test3 = [[1, 1, 1, 1, 1], [1, 1, 1, 1, 1]]\r\n",
    "test4 = [[0, 0, 0, 0, 0], [0, 0, 0, 0, 0]]\r\n",
    "\r\n",
    "\r\n",
    "print(mean_average_precision(test1))\r\n",
    "print(mean_average_precision(test2))\r\n",
    "print(mean_average_precision(test3))\r\n",
    "print(mean_average_precision(test4))"
   ],
   "outputs": [
    {
     "output_type": "stream",
     "name": "stdout",
     "text": [
      "0.6972222222222222\n",
      "0.5\n",
      "1.0\n",
      "0.0\n"
     ]
    }
   ],
   "metadata": {}
  },
  {
   "cell_type": "code",
   "execution_count": 18,
   "source": [
    "from flask import Flask, json, request"
   ],
   "outputs": [],
   "metadata": {}
  },
  {
   "cell_type": "code",
   "execution_count": 19,
   "source": [
    "\r\n",
    "def json_response(payload, status=200):\r\n",
    "    return (json.dumps(payload), status, {'content-type': 'application/json'})"
   ],
   "outputs": [],
   "metadata": {}
  },
  {
   "cell_type": "code",
   "execution_count": 29,
   "source": [
    "jsonTest = {'0': [{'score': 60.9176157115223, 'rating': 1, 'ranking': 0}, {'score': 57.875198563054134, 'rating': 1, 'ranking': 1}, {'score': 57.875198563054134, 'rating': 0, 'ranking': 2}, {'score': 57.875198563054134, 'rating': 0, 'ranking': 3}, {'score': 54.2979302092234, 'rating': 1, 'ranking': 6}, {'score': 57.875198563054134, 'rating': 1, 'ranking': 4}, {'score': 54.469250578633385, 'rating': 1, 'ranking': 5}, {'score': 50.89198222480265, 'rating': 1, 'ranking': 7}, {'score': 50.89198222480265, 'rating': 0, 'ranking': 8}, {'score': 50.89198222480265, 'rating': 1, 'ranking': 9}], '1': [{'score': 74.12525988109097, 'rating': 1, 'ranking': 6}, {'score': 87.23094749123473, 'rating': 1, 'ranking': 0}, {'score': 81.03058575184154, 'rating': 0, 'ranking': 1}, {'score': 80.32562162048416, 'rating': 1, 'ranking': 2}, {'score': 74.12525988109097, 'rating': 0, 'ranking': 3}, {'score': 74.12525988109097, 'rating': 0, 'ranking': 4}, {'score': 74.12525988109097, 'rating': 1, 'ranking': 5}, {'score': 74.12525988109097, 'rating': 1, 'ranking': 7}, {'score': 74.12525988109097, 'rating': 1, 'ranking': 8}, {'score': 74.12525988109097, 'rating': 1, 'ranking': 9}], '2': [{'score': 102.30070084356836, 'rating':\r\n",
    "                                                                                                                                                                                                                                                                                                                                                                                                                                                                                                                                                                                                                                                                                                                                                                                                                                                                                                                                                                                                                                                                                                                                                                                                                        1, 'ranking': 0}, {'score': 102.30070084356836, 'rating': 0, 'ranking': 1}, {'score':\r\n",
    "                                                                                                                                                                                                                                                                                                                                                                                                                                                                                                                                                                                                                                                                                                                                                                                                                                                                                                                                                                                                                                                                                                                                                                                                                                                                                                     102.30070084356836, 'rating': 0, 'ranking': 2}, {'score': 102.30070084356836, 'rating': 1, 'ranking': 3}, {'score': 102.30070084356836, 'rating': 1, 'ranking': 4}, {'score': 102.30070084356836, 'rating': 1, 'ranking': 5}, {'score': 102.30070084356836, 'rating': 1, 'ranking': 7}, {'score': 102.30070084356836, 'rating': 0, 'ranking': 6}, {'score': 102.30070084356836, 'rating': 0, 'ranking': 8}, {'score': 102.30070084356836, 'rating': 1, 'ranking': 9}], '3': [{'score': 38.76666340151514, 'rating': 1, 'ranking': 0}, {'score': 38.76666340151514, 'rating': 0, 'ranking': 1}, {'score': 38.76666340151514, 'rating': 1, 'ranking': 2}, {'score': 38.76666340151514, 'rating': 1, 'ranking': 3}, {'score': 38.76666340151514, 'rating': 1, 'ranking': 4}]}\r\n"
   ],
   "outputs": [],
   "metadata": {}
  },
  {
   "cell_type": "code",
   "execution_count": 53,
   "source": [
    "print(jsonTest)"
   ],
   "outputs": [
    {
     "output_type": "stream",
     "name": "stdout",
     "text": [
      "{'0': [{'score': 60.9176157115223, 'rating': 1, 'ranking': 0}, {'score': 57.875198563054134, 'rating': 1, 'ranking': 1}, {'score': 57.875198563054134, 'rating': 0, 'ranking': 2}, {'score': 57.875198563054134, 'rating': 0, 'ranking': 3}, {'score': 54.2979302092234, 'rating': 1, 'ranking': 6}, {'score': 57.875198563054134, 'rating': 1, 'ranking': 4}, {'score': 54.469250578633385, 'rating': 1, 'ranking': 5}, {'score': 50.89198222480265, 'rating': 1, 'ranking': 7}, {'score': 50.89198222480265, 'rating': 0, 'ranking': 8}, {'score': 50.89198222480265, 'rating': 1, 'ranking': 9}], '1': [{'score': 74.12525988109097, 'rating': 1, 'ranking': 6}, {'score': 87.23094749123473, 'rating': 1, 'ranking': 0}, {'score': 81.03058575184154, 'rating': 0, 'ranking': 1}, {'score': 80.32562162048416, 'rating': 1, 'ranking': 2}, {'score': 74.12525988109097, 'rating': 0, 'ranking': 3}, {'score': 74.12525988109097, 'rating': 0, 'ranking': 4}, {'score': 74.12525988109097, 'rating': 1, 'ranking': 5}, {'score': 74.12525988109097, 'rating': 1, 'ranking': 7}, {'score': 74.12525988109097, 'rating': 1, 'ranking': 8}, {'score': 74.12525988109097, 'rating': 1, 'ranking': 9}], '2': [{'score': 102.30070084356836, 'rating': 1, 'ranking': 0}, {'score': 102.30070084356836, 'rating': 0, 'ranking': 1}, {'score': 102.30070084356836, 'rating': 0, 'ranking': 2}, {'score': 102.30070084356836, 'rating': 1, 'ranking': 3}, {'score': 102.30070084356836, 'rating': 1, 'ranking': 4}, {'score': 102.30070084356836, 'rating': 1, 'ranking': 5}, {'score': 102.30070084356836, 'rating': 1, 'ranking': 7}, {'score': 102.30070084356836, 'rating': 0, 'ranking': 6}, {'score': 102.30070084356836, 'rating': 0, 'ranking': 8}, {'score': 102.30070084356836, 'rating': 1, 'ranking': 9}], '3': [{'score': 38.76666340151514, 'rating': 1, 'ranking': 0}, {'score': 38.76666340151514, 'rating': 0, 'ranking': 1}, {'score': 38.76666340151514, 'rating': 1, 'ranking': 2}, {'score': 38.76666340151514, 'rating': 1, 'ranking': 3}, {'score': 38.76666340151514, 'rating': 1, 'ranking': 4}]}\n"
     ]
    }
   ],
   "metadata": {}
  },
  {
   "cell_type": "code",
   "execution_count": 54,
   "source": [
    "def calc_map(data):\r\n",
    "    all_ratings = []\r\n",
    "    for query in data:\r\n",
    "        rating_arr = data[query]\r\n",
    "        sorted_arr = sorted(rating_arr, key=lambda k: k['ranking'])\r\n",
    "        query_ratings = []\r\n",
    "        for res in sorted_arr:\r\n",
    "            query_ratings.append(res['rating'])\r\n",
    "        all_ratings.append(query_ratings)\r\n",
    "    \r\n",
    "    return mean_average_precision(all_ratings)\r\n",
    "\r\n",
    "calc_map(jsonTest)"
   ],
   "outputs": [
    {
     "output_type": "execute_result",
     "data": {
      "text/plain": [
       "0.7302437641723356"
      ]
     },
     "metadata": {},
     "execution_count": 54
    }
   ],
   "metadata": {}
  },
  {
   "cell_type": "code",
   "execution_count": 55,
   "source": [
    "def calc_avg_tfidf(data):\r\n",
    "    avg_tfidf = []\r\n",
    "    rating_sum = 0\r\n",
    "    for query in data:\r\n",
    "        rating_arr = data[query]\r\n",
    "        score_sum = 0\r\n",
    "        for rating in rating_arr:\r\n",
    "            score = rating['score']\r\n",
    "            score_sum = float(score_sum) + float(score)\r\n",
    "        avg_score = round(score_sum/len(rating_arr), 2)\r\n",
    "        avg_tfidf.append(avg_score)\r\n",
    "\r\n",
    "    return avg_tfidf\r\n",
    "\r\n",
    "\r\n",
    "print(calc_avg_tfidf(jsonTest))\r\n"
   ],
   "outputs": [
    {
     "output_type": "stream",
     "name": "stdout",
     "text": [
      "[55.39, 76.75, 102.3, 38.77]\n"
     ]
    }
   ],
   "metadata": {}
  },
  {
   "cell_type": "code",
   "execution_count": 56,
   "source": [
    "def calc_highest_tfidf(data):\r\n",
    "    highest_arr = []\r\n",
    "    for query in data:\r\n",
    "        rating_arr = data[query]\r\n",
    "        sorted_arr = sorted(rating_arr, key=lambda k: k['ranking'])\r\n",
    "        highest_arr.append(sorted_arr[0]['score'])\r\n",
    "    \r\n",
    "    return highest_arr\r\n",
    "\r\n",
    "print(calc_highest_tfidf(jsonTest))"
   ],
   "outputs": [
    {
     "output_type": "stream",
     "name": "stdout",
     "text": [
      "[60.9176157115223, 87.23094749123473, 102.30070084356836, 38.76666340151514]\n"
     ]
    }
   ],
   "metadata": {}
  },
  {
   "cell_type": "code",
   "execution_count": 66,
   "source": [
    "import uuid\r\n",
    "uuid.uuid4().hex"
   ],
   "outputs": [
    {
     "output_type": "execute_result",
     "data": {
      "text/plain": [
       "'80eb6ef0ed6a4b28a80f2a948798910e'"
      ]
     },
     "metadata": {},
     "execution_count": 66
    }
   ],
   "metadata": {}
  },
  {
   "cell_type": "code",
   "execution_count": null,
   "source": [],
   "outputs": [],
   "metadata": {}
  },
  {
   "cell_type": "code",
   "execution_count": null,
   "source": [],
   "outputs": [],
   "metadata": {}
  },
  {
   "cell_type": "code",
   "execution_count": 79,
   "source": [
    "def calc_precision(data):\r\n",
    "    precision = []\r\n",
    "    for query in data:\r\n",
    "        rating_arr = data[query]\r\n",
    "        good_count = 0\r\n",
    "        for rating in rating_arr:\r\n",
    "            if(rating['rating'] == 1):\r\n",
    "                print(rating['rating'])\r\n",
    "                good_count = good_count + 1\r\n",
    "        precision.append((good_count/len(rating_arr)))\r\n",
    "    return precision\r\n",
    "\r\n",
    "print(calc_precision(jsonTest))"
   ],
   "outputs": [
    {
     "output_type": "stream",
     "name": "stdout",
     "text": [
      "1\n",
      "1\n",
      "1\n",
      "1\n",
      "1\n",
      "1\n",
      "1\n",
      "1\n",
      "1\n",
      "1\n",
      "1\n",
      "1\n",
      "1\n",
      "1\n",
      "1\n",
      "1\n",
      "1\n",
      "1\n",
      "1\n",
      "1\n",
      "1\n",
      "1\n",
      "1\n",
      "1\n",
      "[0.7, 0.7, 0.6, 0.8]\n"
     ]
    }
   ],
   "metadata": {}
  },
  {
   "cell_type": "code",
   "execution_count": 88,
   "source": [
    "\r\n",
    "file = r\"C:\\\\Users\\\\lucas\\\\Documents\\\\Github\\\\BA_Search_Engine\\\\backend\\\\repository\\\\data\\\\metrics.json\"\r\n",
    "def load_metrics():\r\n",
    "    \r\n",
    "    with open(file, 'r') as f:\r\n",
    "        data = json.load(f)\r\n",
    "    return data\r\n",
    "\r\n",
    "data = load_metrics()\r\n"
   ],
   "outputs": [],
   "metadata": {}
  },
  {
   "cell_type": "code",
   "execution_count": 5,
   "source": [
    "import pandas as pd\r\n",
    "import json\r\n",
    "\r\n",
    "file = r\"C:\\\\Users\\\\lucas\\\\Documents\\\\Github\\\\BA_Search_Engine\\\\backend\\\\repository\\\\data\\\\metrics.json\"\r\n",
    "with open(file, encoding=\"utf8\") as json_file:\r\n",
    "    data = json.load(json_file)\r\n",
    "print(data)"
   ],
   "outputs": [
    {
     "output_type": "stream",
     "name": "stdout",
     "text": [
      "{'f5a40228283e40c8a9b1602fe05d3606': {'ml': {'metrics': {'map': 0.7330126842403628, 'avg_tfidf': {'0': 55.39, '1': 76.75, '2': 102.3, '3': 38.77}, 'highest_tfidf': {'0': 60.9176157115223, '1': 87.23094749123473, '2': 102.30070084356836, '3': 38.76666340151514}, 'precision': {'0': 0.5, '1': 0.7, '2': 0.8, '3': 0.6}}, 'rating': {'0': [{'score': 60.9176157115223, 'rating': 0, 'ranking': 0}, {'score': 57.875198563054134, 'rating': 0, 'ranking': 1}, {'score': 57.875198563054134, 'rating': 1, 'ranking': 2}, {'score': 57.875198563054134, 'rating': 1, 'ranking': 3}, {'score': 54.469250578633385, 'rating': 0, 'ranking': 5}, {'score': 57.875198563054134, 'rating': 0, 'ranking': 4}, {'score': 54.2979302092234, 'rating': 0, 'ranking': 6}, {'score': 50.89198222480265, 'rating': 1, 'ranking': 7}, {'score': 50.89198222480265, 'rating': 1, 'ranking': 8}, {'score': 50.89198222480265, 'rating': 1, 'ranking': 9}], '1': [{'score': 74.12525988109097, 'rating': 1, 'ranking': 6}, {'score': 74.12525988109097, 'rating': 1, 'ranking': 4}, {'score': 74.12525988109097, 'rating': 0, 'ranking': 5}, {'score': 74.12525988109097, 'rating': 0, 'ranking': 7}, {'score': 74.12525988109097, 'rating': 1, 'ranking': 8}, {'score': 74.12525988109097, 'rating': 1, 'ranking': 9}, {'score': 80.32562162048416, 'rating': 0, 'ranking': 2}, {'score': 87.23094749123473, 'rating': 1, 'ranking': 0}, {'score': 81.03058575184154, 'rating': 1, 'ranking': 1}, {'score': 74.12525988109097, 'rating': 1, 'ranking': 3}], '2': [{'score': 102.30070084356836, 'rating': 1, 'ranking': 0}, {'score': 102.30070084356836, 'rating': 1, 'ranking': 1}, {'score': 102.30070084356836, 'rating': 1, 'ranking': 2}, {'score': 102.30070084356836, 'rating': 1, 'ranking': 3}, {'score': 102.30070084356836, 'rating': 1, 'ranking': 4}, {'score': 102.30070084356836, 'rating': 0, 'ranking': 5}, {'score': 102.30070084356836, 'rating': 1, 'ranking': 6}, {'score': 102.30070084356836, 'rating': 1, 'ranking': 7}, {'score': 102.30070084356836, 'rating': 0, 'ranking': 8}, {'score': 102.30070084356836, 'rating': 1, 'ranking': 9}], '3': [{'score': 38.76666340151514, 'rating': 1, 'ranking': 0}, {'score': 38.76666340151514, 'rating': 0, 'ranking': 1}, {'score': 38.76666340151514, 'rating': 1, 'ranking': 2}, {'score': 38.76666340151514, 'rating': 0, 'ranking': 3}, {'score': 38.76666340151514, 'rating': 1, 'ranking': 4}]}}, 'ft': {'metrics': {'map': 0.7777248677248676, 'avg_tfidf': {'1': 22.66, '2': 53.76}, 'highest_tfidf': {'1': 44.04453234215361, '2': 53.762281575442785}, 'precision': {'1': 0.5, '2': 0.6}}, 'rating': {'1': [{'score': 44.04453234215361, 'rating': 1, 'ranking': 0}, {'score': 44.04453234215361, 'rating': 0, 'ranking': 1}, {'score': 44.04453234215361, 'rating': 1, 'ranking': 2}, {'score': 16.750816811918092, 'rating': 0, 'ranking': 3}, {'score': 9.845490941167514, 'rating': 0, 'ranking': 7}, {'score': 16.0458526805607, 'rating': 1, 'ranking': 5}, {'score': 16.0458526805607, 'rating': 1, 'ranking': 4}, {'score': 16.0458526805607, 'rating': 1, 'ranking': 6}, {'score': 9.845490941167514, 'rating': 0, 'ranking': 8}, {'score': 9.845490941167514, 'rating': 0, 'ranking': 9}], '2': [{'score': 53.762281575442785, 'rating': 1, 'ranking': 4}, {'score': 53.762281575442785, 'rating': 0, 'ranking': 5}, {'score': 53.762281575442785, 'rating': 0, 'ranking': 6}, {'score': 53.762281575442785, 'rating': 0, 'ranking': 7}, {'score': 53.762281575442785, 'rating': 1, 'ranking': 8}, {'score': 53.762281575442785, 'rating': 1, 'ranking': 9}, {'score': 53.762281575442785, 'rating': 1, 'ranking': 0}, {'score': 53.762281575442785, 'rating': 1, 'ranking': 1}, {'score': 53.762281575442785, 'rating': 1, 'ranking': 2}, {'score': 53.762281575442785, 'rating': 0, 'ranking': 3}]}}}, 'beab50d10d0848ba9b2944bf9dbbb1e9': {'ml': {'metrics': {'map': 0.7917906746031746, 'avg_tfidf': {'0': 55.39, '1': 76.75, '2': 102.3, '3': 38.77}, 'highest_tfidf': {'0': 60.9176157115223, '1': 87.23094749123473, '2': 102.30070084356836, '3': 38.76666340151514}, 'precision': {'0': 0.6, '1': 0.8, '2': 0.8, '3': 0.8}}, 'rating': {'0': [{'score': 60.9176157115223, 'rating': 1, 'ranking': 0}, {'score': 57.875198563054134, 'rating': 0, 'ranking': 1}, {'score': 57.875198563054134, 'rating': 0, 'ranking': 2}, {'score': 57.875198563054134, 'rating': 1, 'ranking': 3}, {'score': 54.2979302092234, 'rating': 1, 'ranking': 6}, {'score': 57.875198563054134, 'rating': 1, 'ranking': 4}, {'score': 54.469250578633385, 'rating': 0, 'ranking': 5}, {'score': 50.89198222480265, 'rating': 1, 'ranking': 7}, {'score': 50.89198222480265, 'rating': 0, 'ranking': 9}, {'score': 50.89198222480265, 'rating': 1, 'ranking': 8}], '1': [{'score': 87.23094749123473, 'rating': 1, 'ranking': 0}, {'score': 81.03058575184154, 'rating': 1, 'ranking': 1}, {'score': 74.12525988109097, 'rating': 1, 'ranking': 3}, {'score': 80.32562162048416, 'rating': 0, 'ranking': 2}, {'score': 74.12525988109097, 'rating': 1, 'ranking': 6}, {'score': 74.12525988109097, 'rating': 0, 'ranking': 4}, {'score': 74.12525988109097, 'rating': 1, 'ranking': 5}, {'score': 74.12525988109097, 'rating': 1, 'ranking': 7}, {'score': 74.12525988109097, 'rating': 1, 'ranking': 8}, {'score': 74.12525988109097, 'rating': 1, 'ranking': 9}], '2': [{'score': 102.30070084356836, 'rating': 1, 'ranking': 0}, {'score': 102.30070084356836, 'rating': 1, 'ranking': 1}, {'score': 102.30070084356836, 'rating': 1, 'ranking': 2}, {'score': 102.30070084356836, 'rating': 1, 'ranking': 3}, {'score': 102.30070084356836, 'rating': 0, 'ranking': 4}, {'score': 102.30070084356836, 'rating': 1, 'ranking': 5}, {'score': 102.30070084356836, 'rating': 0, 'ranking': 6}, {'score': 102.30070084356836, 'rating': 1, 'ranking': 7}, {'score': 102.30070084356836, 'rating': 1, 'ranking': 8}, {'score': 102.30070084356836, 'rating': 1, 'ranking': 9}], '3': [{'score': 38.76666340151514, 'rating': 1, 'ranking': 0}, {'score': 38.76666340151514, 'rating': 1, 'ranking': 2}, {'score': 38.76666340151514, 'rating': 0, 'ranking': 1}, {'score': 38.76666340151514, 'rating': 1, 'ranking': 3}, {'score': 38.76666340151514, 'rating': 1, 'ranking': 4}]}}, 'ft': {'metrics': {'map': 0.8671130952380952, 'avg_tfidf': {'1': 22.66, '2': 53.76}, 'highest_tfidf': {'1': 44.04453234215361, '2': 53.762281575442785}, 'precision': {'1': 0.8, '2': 0.8}}, 'rating': {'1': [{'score': 44.04453234215361, 'rating': 0, 'ranking': 0}, {'score': 44.04453234215361, 'rating': 1, 'ranking': 1}, {'score': 44.04453234215361, 'rating': 1, 'ranking': 2}, {'score': 16.750816811918092, 'rating': 1, 'ranking': 3}, {'score': 16.0458526805607, 'rating': 1, 'ranking': 6}, {'score': 16.0458526805607, 'rating': 1, 'ranking': 4}, {'score': 16.0458526805607, 'rating': 1, 'ranking': 5}, {'score': 9.845490941167514, 'rating': 0, 'ranking': 7}, {'score': 9.845490941167514, 'rating': 1, 'ranking': 8}, {'score': 9.845490941167514, 'rating': 1, 'ranking': 9}], '2': [{'score': 53.762281575442785, 'rating': 1, 'ranking': 4}, {'score': 53.762281575442785, 'rating': 1, 'ranking': 5}, {'score': 53.762281575442785, 'rating': 1, 'ranking': 6}, {'score': 53.762281575442785, 'rating': 0, 'ranking': 7}, {'score': 53.762281575442785, 'rating': 1, 'ranking': 8}, {'score': 53.762281575442785, 'rating': 0, 'ranking': 9}, {'score': 53.762281575442785, 'rating': 1, 'ranking': 0}, {'score': 53.762281575442785, 'rating': 1, 'ranking': 1}, {'score': 53.762281575442785, 'rating': 1, 'ranking': 2}, {'score': 53.762281575442785, 'rating': 1, 'ranking': 3}]}}}, '1ab066d8adfc41c5838e7ebc908a5765': {'ml': {'metrics': {'map': 0.6910218253968254, 'avg_tfidf': {'0': 55.39, '1': 76.75, '2': 102.3, '3': 38.77}, 'highest_tfidf': {'0': 60.9176157115223, '1': 87.23094749123473, '2': 102.30070084356836, '3': 38.76666340151514}, 'precision': {'0': 0.4, '1': 0.8, '2': 0.7, '3': 0.6}}, 'rating': {'0': [{'score': 60.9176157115223, 'rating': 1, 'ranking': 0}, {'score': 57.875198563054134, 'rating': 0, 'ranking': 1}, {'score': 57.875198563054134, 'rating': 1, 'ranking': 2}, {'score': 57.875198563054134, 'rating': 0, 'ranking': 3}, {'score': 54.2979302092234, 'rating': 0, 'ranking': 6}, {'score': 57.875198563054134, 'rating': 0, 'ranking': 4}, {'score': 54.469250578633385, 'rating': 0, 'ranking': 5}, {'score': 50.89198222480265, 'rating': 0, 'ranking': 7}, {'score': 50.89198222480265, 'rating': 1, 'ranking': 9}, {'score': 50.89198222480265, 'rating': 1, 'ranking': 8}], '1': [{'score': 87.23094749123473, 'rating': 1, 'ranking': 0}, {'score': 81.03058575184154, 'rating': 1, 'ranking': 1}, {'score': 74.12525988109097, 'rating': 1, 'ranking': 3}, {'score': 80.32562162048416, 'rating': 0, 'ranking': 2}, {'score': 74.12525988109097, 'rating': 1, 'ranking': 6}, {'score': 74.12525988109097, 'rating': 1, 'ranking': 4}, {'score': 74.12525988109097, 'rating': 0, 'ranking': 5}, {'score': 74.12525988109097, 'rating': 1, 'ranking': 7}, {'score': 74.12525988109097, 'rating': 1, 'ranking': 8}, {'score': 74.12525988109097, 'rating': 1, 'ranking': 9}], '2': [{'score': 102.30070084356836, 'rating': 0, 'ranking': 0}, {'score': 102.30070084356836, 'rating': 0, 'ranking': 1}, {'score': 102.30070084356836, 'rating': 1, 'ranking': 2}, {'score': 102.30070084356836, 'rating': 1, 'ranking': 3}, {'score': 102.30070084356836, 'rating': 1, 'ranking': 4}, {'score': 102.30070084356836, 'rating': 1, 'ranking': 5}, {'score': 102.30070084356836, 'rating': 0, 'ranking': 6}, {'score': 102.30070084356836, 'rating': 1, 'ranking': 7}, {'score': 102.30070084356836, 'rating': 1, 'ranking': 8}, {'score': 102.30070084356836, 'rating': 1, 'ranking': 9}], '3': [{'score': 38.76666340151514, 'rating': 1, 'ranking': 0}, {'score': 38.76666340151514, 'rating': 1, 'ranking': 2}, {'score': 38.76666340151514, 'rating': 0, 'ranking': 1}, {'score': 38.76666340151514, 'rating': 0, 'ranking': 3}, {'score': 38.76666340151514, 'rating': 1, 'ranking': 4}]}}, 'ft': {'metrics': {'map': 0.41944444444444445, 'avg_tfidf': {'1': 22.66, '2': 53.76}, 'highest_tfidf': {'1': 44.04453234215361, '2': 53.762281575442785}, 'precision': {'1': 0.7, '2': 0.0}}, 'rating': {'1': [{'score': 44.04453234215361, 'rating': 1, 'ranking': 0}, {'score': 44.04453234215361, 'rating': 1, 'ranking': 1}, {'score': 44.04453234215361, 'rating': 0, 'ranking': 2}, {'score': 16.750816811918092, 'rating': 1, 'ranking': 3}, {'score': 16.0458526805607, 'rating': 0, 'ranking': 6}, {'score': 16.0458526805607, 'rating': 1, 'ranking': 4}, {'score': 16.0458526805607, 'rating': None, 'ranking': 5}, {'score': 9.845490941167514, 'rating': 1, 'ranking': 7}, {'score': 9.845490941167514, 'rating': 1, 'ranking': 8}, {'score': 9.845490941167514, 'rating': 1, 'ranking': 9}], '2': [{'score': 53.762281575442785, 'rating': 0, 'ranking': 4}, {'score': 53.762281575442785, 'rating': 0, 'ranking': 5}, {'score': 53.762281575442785, 'rating': 0, 'ranking': 6}, {'score': 53.762281575442785, 'rating': 0, 'ranking': 7}, {'score': 53.762281575442785, 'rating': 0, 'ranking': 8}, {'score': 53.762281575442785, 'rating': 0, 'ranking': 9}, {'score': 53.762281575442785, 'rating': 0, 'ranking': 0}, {'score': 53.762281575442785, 'rating': 0, 'ranking': 1}, {'score': 53.762281575442785, 'rating': 0, 'ranking': 2}, {'score': 53.762281575442785, 'rating': 0, 'ranking': 3}]}}}}\n"
     ]
    }
   ],
   "metadata": {}
  },
  {
   "cell_type": "code",
   "execution_count": 137,
   "source": [
    "for user in data:\r\n",
    "    print(user)\r\n",
    "    search_type = data[user]\r\n",
    "    mlMetrics = data[user]['ml']['metrics']\r\n",
    "    ftMetrics = data[user]['ft']['metrics']\r\n",
    "    # print(mlMetrics)\r\n",
    "    for metric in ftMetrics:\r\n",
    "        if metric != 'map':\r\n",
    "            for queryIndex in ftMetrics[metric]:\r\n",
    "                value =  ftMetrics[metric][queryIndex]\r\n",
    "                print(value)\r\n",
    "len(data)"
   ],
   "outputs": [
    {
     "output_type": "stream",
     "name": "stdout",
     "text": [
      "f5a40228283e40c8a9b1602fe05d3606\n",
      "22.66\n",
      "53.76\n",
      "44.04453234215361\n",
      "53.762281575442785\n",
      "0.5\n",
      "0.6\n",
      "beab50d10d0848ba9b2944bf9dbbb1e9\n",
      "22.66\n",
      "53.76\n",
      "44.04453234215361\n",
      "53.762281575442785\n",
      "0.8\n",
      "0.8\n"
     ]
    },
    {
     "output_type": "execute_result",
     "data": {
      "text/plain": [
       "2"
      ]
     },
     "metadata": {},
     "execution_count": 137
    }
   ],
   "metadata": {}
  },
  {
   "cell_type": "code",
   "execution_count": 147,
   "source": [
    "d = 10\r\n",
    "for i  in range(d):\r\n",
    "    print('hi', i)"
   ],
   "outputs": [
    {
     "output_type": "stream",
     "name": "stdout",
     "text": [
      "hi 0\n",
      "hi 1\n",
      "hi 2\n",
      "hi 3\n",
      "hi 4\n",
      "hi 5\n",
      "hi 6\n",
      "hi 7\n",
      "hi 8\n",
      "hi 9\n"
     ]
    }
   ],
   "metadata": {}
  },
  {
   "cell_type": "code",
   "execution_count": 1,
   "source": [
    "import xlsxwriter\r\n",
    "\r\n",
    "# Create a workbook and add a worksheet.\r\n",
    "workbook = xlsxwriter.Workbook('metrics.xlsx')\r\n",
    "worksheet = workbook.add_worksheet()\r\n",
    "\r\n",
    "header_format = workbook.add_format({\r\n",
    "    'bold': 1,\r\n",
    "    'align': 'center',\r\n",
    "})\r\n",
    "\r\n",
    "subHeader_format = workbook.add_format({\r\n",
    "    'bold': 0,\r\n",
    "    'align': 'center',\r\n",
    "})\r\n",
    "\r\n",
    "# Start from the first cell. Rows and columns are zero indexed.\r\n",
    "row = 0\r\n",
    "col = 0\r\n",
    "\r\n",
    "user_count = len(data)\r\n",
    "query_count = 10\r\n",
    "count = 1\r\n",
    "for user in data:\r\n",
    "    user_row = count\r\n",
    "    worksheet.merge_range(f'B{user_row}:K{user_row}', user, header_format)\r\n",
    "    worksheet.merge_range(f'B{user_row+1}:F{user_row+1}', 'ML-Searchengine', subHeader_format)\r\n",
    "    worksheet.merge_range(f'G{user_row+1}:K{user_row+1}', 'Fulltext-Searchengine', subHeader_format)\r\n",
    "    worksheet.write(f'B{user_row+2}', 'Avg. TF-IDF')\r\n",
    "    worksheet.write(f'C{user_row+2}', 'Top TF-IDF')\r\n",
    "    worksheet.write(f'D{user_row+2}', 'Precision')\r\n",
    "    worksheet.write(f'E{user_row+2}', 'Recall')\r\n",
    "    worksheet.write(f'F{user_row+2}', 'F1')\r\n",
    "    worksheet.write(f'G{user_row+2}', 'Avg. TF-IDF')\r\n",
    "    worksheet.write(f'H{user_row+2}', 'Top TF-IDF')\r\n",
    "    worksheet.write(f'I{user_row+2}', 'Precision')\r\n",
    "    worksheet.write(f'J{user_row+2}', 'Recall')\r\n",
    "    worksheet.write(f'K{user_row+2}', 'F1')\r\n",
    "\r\n",
    "    mlMetrics = data[user]['ml']['metrics']\r\n",
    "    ftMetrics = data[user]['ft']['metrics']\r\n",
    "\r\n",
    "    for i in range(query_count):\r\n",
    "        worksheet.write(user_row+2+i, 0, f'Query {i+1}')\r\n",
    "\r\n",
    "    m_row = user_row + 2\r\n",
    "    m_col = 1\r\n",
    "    for metric in mlMetrics:\r\n",
    "        if metric != 'map':\r\n",
    "            for queryIndex in mlMetrics[metric]:\r\n",
    "                value =  mlMetrics[metric][queryIndex]\r\n",
    "                worksheet.write(m_row+int(queryIndex), m_col, value)\r\n",
    "            m_col += 1\r\n",
    "            m_row = user_row + 2\r\n",
    "    \r\n",
    "    m_col = len(mlMetrics) + 2 # anzahl an metriken + 2 weil die erste Spalte für Query Bezeichnung genutzt wird\r\n",
    "    for metric in ftMetrics:\r\n",
    "        if metric != 'map':\r\n",
    "            for queryIndex in ftMetrics[metric]:\r\n",
    "                value =  ftMetrics[metric][queryIndex]\r\n",
    "                worksheet.write(m_row+int(queryIndex), m_col, value)\r\n",
    "            m_col += 1\r\n",
    "            m_row = user_row + 2\r\n",
    "        \r\n",
    "\r\n",
    "        \r\n",
    "    worksheet.write(query_count + count + 1, 0, 'MAP')\r\n",
    "    worksheet.write(query_count + count + 1, 1, mlMetrics['map'])\r\n",
    "    worksheet.write(query_count + count + 1, len(mlMetrics) + 2, ftMetrics['map'])\r\n",
    "\r\n",
    "\r\n",
    "\r\n",
    "    count  = count + query_count + 4 # 4 weil 3 header über den queries + map Zeile\r\n",
    "\r\n",
    "workbook.close()"
   ],
   "outputs": [
    {
     "output_type": "error",
     "ename": "NameError",
     "evalue": "name 'data' is not defined",
     "traceback": [
      "\u001b[1;31m---------------------------------------------------------------------------\u001b[0m",
      "\u001b[1;31mNameError\u001b[0m                                 Traceback (most recent call last)",
      "\u001b[1;32m<ipython-input-1-0b0b3b052519>\u001b[0m in \u001b[0;36m<module>\u001b[1;34m\u001b[0m\n\u001b[0;32m     19\u001b[0m \u001b[0mcol\u001b[0m \u001b[1;33m=\u001b[0m \u001b[1;36m0\u001b[0m\u001b[1;33m\u001b[0m\u001b[1;33m\u001b[0m\u001b[0m\n\u001b[0;32m     20\u001b[0m \u001b[1;33m\u001b[0m\u001b[0m\n\u001b[1;32m---> 21\u001b[1;33m \u001b[0muser_count\u001b[0m \u001b[1;33m=\u001b[0m \u001b[0mlen\u001b[0m\u001b[1;33m(\u001b[0m\u001b[0mdata\u001b[0m\u001b[1;33m)\u001b[0m\u001b[1;33m\u001b[0m\u001b[1;33m\u001b[0m\u001b[0m\n\u001b[0m\u001b[0;32m     22\u001b[0m \u001b[0mquery_count\u001b[0m \u001b[1;33m=\u001b[0m \u001b[1;36m10\u001b[0m\u001b[1;33m\u001b[0m\u001b[1;33m\u001b[0m\u001b[0m\n\u001b[0;32m     23\u001b[0m \u001b[0mcount\u001b[0m \u001b[1;33m=\u001b[0m \u001b[1;36m1\u001b[0m\u001b[1;33m\u001b[0m\u001b[1;33m\u001b[0m\u001b[0m\n",
      "\u001b[1;31mNameError\u001b[0m: name 'data' is not defined"
     ]
    }
   ],
   "metadata": {}
  },
  {
   "cell_type": "code",
   "execution_count": null,
   "source": [],
   "outputs": [],
   "metadata": {}
  }
 ]
}